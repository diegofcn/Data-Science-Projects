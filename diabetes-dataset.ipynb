{
 "cells": [
  {
   "cell_type": "code",
   "execution_count": 1,
   "id": "3260ea59",
   "metadata": {
    "_cell_guid": "b1076dfc-b9ad-4769-8c92-a6c4dae69d19",
    "_uuid": "8f2839f25d086af736a60e9eeb907d3b93b6e0e5",
    "execution": {
     "iopub.execute_input": "2022-12-18T13:30:15.730746Z",
     "iopub.status.busy": "2022-12-18T13:30:15.729271Z",
     "iopub.status.idle": "2022-12-18T13:30:15.754317Z",
     "shell.execute_reply": "2022-12-18T13:30:15.753038Z"
    },
    "papermill": {
     "duration": 0.04487,
     "end_time": "2022-12-18T13:30:15.758214",
     "exception": false,
     "start_time": "2022-12-18T13:30:15.713344",
     "status": "completed"
    },
    "tags": []
   },
   "outputs": [
    {
     "name": "stdout",
     "output_type": "stream",
     "text": [
      "/kaggle/input/pima-indians-diabetes-database/diabetes.csv\n"
     ]
    }
   ],
   "source": [
    "# This Python 3 environment comes with many helpful analytics libraries installed\n",
    "# It is defined by the kaggle/python Docker image: https://github.com/kaggle/docker-python\n",
    "# For example, here's several helpful packages to load\n",
    "\n",
    "import numpy as np # linear algebra\n",
    "import pandas as pd # data processing, CSV file I/O (e.g. pd.read_csv)\n",
    "\n",
    "# Input data files are available in the read-only \"../input/\" directory\n",
    "# For example, running this (by clicking run or pressing Shift+Enter) will list all files under the input directory\n",
    "\n",
    "import os\n",
    "for dirname, _, filenames in os.walk('/kaggle/input'):\n",
    "    for filename in filenames:\n",
    "        print(os.path.join(dirname, filename))\n",
    "\n",
    "# You can write up to 20GB to the current directory (/kaggle/working/) that gets preserved as output when you create a version using \"Save & Run All\" \n",
    "# You can also write temporary files to /kaggle/temp/, but they won't be saved outside of the current session"
   ]
  },
  {
   "cell_type": "code",
   "execution_count": 2,
   "id": "ee5f17db",
   "metadata": {
    "execution": {
     "iopub.execute_input": "2022-12-18T13:30:15.781605Z",
     "iopub.status.busy": "2022-12-18T13:30:15.780898Z",
     "iopub.status.idle": "2022-12-18T13:30:15.803808Z",
     "shell.execute_reply": "2022-12-18T13:30:15.802808Z"
    },
    "papermill": {
     "duration": 0.037151,
     "end_time": "2022-12-18T13:30:15.806376",
     "exception": false,
     "start_time": "2022-12-18T13:30:15.769225",
     "status": "completed"
    },
    "tags": []
   },
   "outputs": [],
   "source": [
    "df = pd.read_csv('/kaggle/input/pima-indians-diabetes-database/diabetes.csv')"
   ]
  },
  {
   "cell_type": "code",
   "execution_count": 3,
   "id": "d0146b68",
   "metadata": {
    "execution": {
     "iopub.execute_input": "2022-12-18T13:30:15.830391Z",
     "iopub.status.busy": "2022-12-18T13:30:15.829758Z",
     "iopub.status.idle": "2022-12-18T13:30:15.859158Z",
     "shell.execute_reply": "2022-12-18T13:30:15.857890Z"
    },
    "papermill": {
     "duration": 0.045341,
     "end_time": "2022-12-18T13:30:15.861730",
     "exception": false,
     "start_time": "2022-12-18T13:30:15.816389",
     "status": "completed"
    },
    "tags": []
   },
   "outputs": [
    {
     "data": {
      "text/html": [
       "<div>\n",
       "<style scoped>\n",
       "    .dataframe tbody tr th:only-of-type {\n",
       "        vertical-align: middle;\n",
       "    }\n",
       "\n",
       "    .dataframe tbody tr th {\n",
       "        vertical-align: top;\n",
       "    }\n",
       "\n",
       "    .dataframe thead th {\n",
       "        text-align: right;\n",
       "    }\n",
       "</style>\n",
       "<table border=\"1\" class=\"dataframe\">\n",
       "  <thead>\n",
       "    <tr style=\"text-align: right;\">\n",
       "      <th></th>\n",
       "      <th>Pregnancies</th>\n",
       "      <th>Glucose</th>\n",
       "      <th>BloodPressure</th>\n",
       "      <th>SkinThickness</th>\n",
       "      <th>Insulin</th>\n",
       "      <th>BMI</th>\n",
       "      <th>DiabetesPedigreeFunction</th>\n",
       "      <th>Age</th>\n",
       "      <th>Outcome</th>\n",
       "    </tr>\n",
       "  </thead>\n",
       "  <tbody>\n",
       "    <tr>\n",
       "      <th>0</th>\n",
       "      <td>6</td>\n",
       "      <td>148</td>\n",
       "      <td>72</td>\n",
       "      <td>35</td>\n",
       "      <td>0</td>\n",
       "      <td>33.6</td>\n",
       "      <td>0.627</td>\n",
       "      <td>50</td>\n",
       "      <td>1</td>\n",
       "    </tr>\n",
       "    <tr>\n",
       "      <th>1</th>\n",
       "      <td>1</td>\n",
       "      <td>85</td>\n",
       "      <td>66</td>\n",
       "      <td>29</td>\n",
       "      <td>0</td>\n",
       "      <td>26.6</td>\n",
       "      <td>0.351</td>\n",
       "      <td>31</td>\n",
       "      <td>0</td>\n",
       "    </tr>\n",
       "    <tr>\n",
       "      <th>2</th>\n",
       "      <td>8</td>\n",
       "      <td>183</td>\n",
       "      <td>64</td>\n",
       "      <td>0</td>\n",
       "      <td>0</td>\n",
       "      <td>23.3</td>\n",
       "      <td>0.672</td>\n",
       "      <td>32</td>\n",
       "      <td>1</td>\n",
       "    </tr>\n",
       "    <tr>\n",
       "      <th>3</th>\n",
       "      <td>1</td>\n",
       "      <td>89</td>\n",
       "      <td>66</td>\n",
       "      <td>23</td>\n",
       "      <td>94</td>\n",
       "      <td>28.1</td>\n",
       "      <td>0.167</td>\n",
       "      <td>21</td>\n",
       "      <td>0</td>\n",
       "    </tr>\n",
       "    <tr>\n",
       "      <th>4</th>\n",
       "      <td>0</td>\n",
       "      <td>137</td>\n",
       "      <td>40</td>\n",
       "      <td>35</td>\n",
       "      <td>168</td>\n",
       "      <td>43.1</td>\n",
       "      <td>2.288</td>\n",
       "      <td>33</td>\n",
       "      <td>1</td>\n",
       "    </tr>\n",
       "  </tbody>\n",
       "</table>\n",
       "</div>"
      ],
      "text/plain": [
       "   Pregnancies  Glucose  BloodPressure  SkinThickness  Insulin   BMI  \\\n",
       "0            6      148             72             35        0  33.6   \n",
       "1            1       85             66             29        0  26.6   \n",
       "2            8      183             64              0        0  23.3   \n",
       "3            1       89             66             23       94  28.1   \n",
       "4            0      137             40             35      168  43.1   \n",
       "\n",
       "   DiabetesPedigreeFunction  Age  Outcome  \n",
       "0                     0.627   50        1  \n",
       "1                     0.351   31        0  \n",
       "2                     0.672   32        1  \n",
       "3                     0.167   21        0  \n",
       "4                     2.288   33        1  "
      ]
     },
     "execution_count": 3,
     "metadata": {},
     "output_type": "execute_result"
    }
   ],
   "source": [
    "df.head()"
   ]
  },
  {
   "cell_type": "markdown",
   "id": "19913663",
   "metadata": {
    "papermill": {
     "duration": 0.009693,
     "end_time": "2022-12-18T13:30:15.881630",
     "exception": false,
     "start_time": "2022-12-18T13:30:15.871937",
     "status": "completed"
    },
    "tags": []
   },
   "source": [
    "# Visualize the distribution of the nine features\n"
   ]
  },
  {
   "cell_type": "code",
   "execution_count": 4,
   "id": "70c98cda",
   "metadata": {
    "execution": {
     "iopub.execute_input": "2022-12-18T13:30:15.904644Z",
     "iopub.status.busy": "2022-12-18T13:30:15.904201Z",
     "iopub.status.idle": "2022-12-18T13:30:16.982239Z",
     "shell.execute_reply": "2022-12-18T13:30:16.981227Z"
    },
    "papermill": {
     "duration": 1.093437,
     "end_time": "2022-12-18T13:30:16.985303",
     "exception": false,
     "start_time": "2022-12-18T13:30:15.891866",
     "status": "completed"
    },
    "tags": []
   },
   "outputs": [],
   "source": [
    "from matplotlib import pyplot as plt\n",
    "import seaborn as sns"
   ]
  },
  {
   "cell_type": "code",
   "execution_count": 5,
   "id": "f709a959",
   "metadata": {
    "execution": {
     "iopub.execute_input": "2022-12-18T13:30:17.008040Z",
     "iopub.status.busy": "2022-12-18T13:30:17.007408Z",
     "iopub.status.idle": "2022-12-18T13:30:18.022988Z",
     "shell.execute_reply": "2022-12-18T13:30:18.021769Z"
    },
    "papermill": {
     "duration": 1.030204,
     "end_time": "2022-12-18T13:30:18.025665",
     "exception": false,
     "start_time": "2022-12-18T13:30:16.995461",
     "status": "completed"
    },
    "tags": []
   },
   "outputs": [
    {
     "data": {
      "image/png": "[encoded data removed]",
      "text/plain": [
       "<Figure size 432x288 with 9 Axes>"
      ]
     },
     "metadata": {
      "needs_background": "light"
     },
     "output_type": "display_data"
    }
   ],
   "source": [
    "df.hist()\n",
    "plt.show()"
   ]
  },
  {
   "cell_type": "markdown",
   "id": "59025b9f",
   "metadata": {
    "papermill": {
     "duration": 0.010225,
     "end_time": "2022-12-18T13:30:18.046850",
     "exception": false,
     "start_time": "2022-12-18T13:30:18.036625",
     "status": "completed"
    },
    "tags": []
   },
   "source": [
    "#### Notes\n",
    "\n",
    "- Age: mostly 20-30\n",
    "- BMI, Bloodpreasure, Glucose normally distributed\n",
    "- Glucose shows extreme values\n",
    "- BMI, Bloodpreasure, Glucose: Missing values?\n",
    "- Pregnancies: maybe a few outliners\n",
    "- features are on different scales\n"
   ]
  },
  {
   "cell_type": "code",
   "execution_count": 6,
   "id": "eac89b42",
   "metadata": {
    "execution": {
     "iopub.execute_input": "2022-12-18T13:30:18.070538Z",
     "iopub.status.busy": "2022-12-18T13:30:18.069571Z",
     "iopub.status.idle": "2022-12-18T13:30:19.370380Z",
     "shell.execute_reply": "2022-12-18T13:30:19.369010Z"
    },
    "papermill": {
     "duration": 1.31673,
     "end_time": "2022-12-18T13:30:19.374187",
     "exception": false,
     "start_time": "2022-12-18T13:30:18.057457",
     "status": "completed"
    },
    "tags": []
   },
   "outputs": [
    {
     "name": "stderr",
     "output_type": "stream",
     "text": [
      "/opt/conda/lib/python3.7/site-packages/seaborn/distributions.py:2619: FutureWarning: `distplot` is a deprecated function and will be removed in a future version. Please adapt your code to use either `displot` (a figure-level function with similar flexibility) or `kdeplot` (an axes-level function for kernel density plots).\n",
      "  warnings.warn(msg, FutureWarning)\n",
      "/opt/conda/lib/python3.7/site-packages/seaborn/distributions.py:2619: FutureWarning: `distplot` is a deprecated function and will be removed in a future version. Please adapt your code to use either `displot` (a figure-level function with similar flexibility) or `kdeplot` (an axes-level function for kernel density plots).\n",
      "  warnings.warn(msg, FutureWarning)\n",
      "/opt/conda/lib/python3.7/site-packages/seaborn/distributions.py:2619: FutureWarning: `distplot` is a deprecated function and will be removed in a future version. Please adapt your code to use either `displot` (a figure-level function with similar flexibility) or `kdeplot` (an axes-level function for kernel density plots).\n",
      "  warnings.warn(msg, FutureWarning)\n",
      "/opt/conda/lib/python3.7/site-packages/seaborn/distributions.py:2619: FutureWarning: `distplot` is a deprecated function and will be removed in a future version. Please adapt your code to use either `displot` (a figure-level function with similar flexibility) or `kdeplot` (an axes-level function for kernel density plots).\n",
      "  warnings.warn(msg, FutureWarning)\n",
      "/opt/conda/lib/python3.7/site-packages/seaborn/distributions.py:2619: FutureWarning: `distplot` is a deprecated function and will be removed in a future version. Please adapt your code to use either `displot` (a figure-level function with similar flexibility) or `kdeplot` (an axes-level function for kernel density plots).\n",
      "  warnings.warn(msg, FutureWarning)\n",
      "/opt/conda/lib/python3.7/site-packages/seaborn/distributions.py:2619: FutureWarning: `distplot` is a deprecated function and will be removed in a future version. Please adapt your code to use either `displot` (a figure-level function with similar flexibility) or `kdeplot` (an axes-level function for kernel density plots).\n",
      "  warnings.warn(msg, FutureWarning)\n",
      "/opt/conda/lib/python3.7/site-packages/seaborn/distributions.py:2619: FutureWarning: `distplot` is a deprecated function and will be removed in a future version. Please adapt your code to use either `displot` (a figure-level function with similar flexibility) or `kdeplot` (an axes-level function for kernel density plots).\n",
      "  warnings.warn(msg, FutureWarning)\n",
      "/opt/conda/lib/python3.7/site-packages/seaborn/distributions.py:2619: FutureWarning: `distplot` is a deprecated function and will be removed in a future version. Please adapt your code to use either `displot` (a figure-level function with similar flexibility) or `kdeplot` (an axes-level function for kernel density plots).\n",
      "  warnings.warn(msg, FutureWarning)\n",
      "/opt/conda/lib/python3.7/site-packages/seaborn/distributions.py:2619: FutureWarning: `distplot` is a deprecated function and will be removed in a future version. Please adapt your code to use either `displot` (a figure-level function with similar flexibility) or `kdeplot` (an axes-level function for kernel density plots).\n",
      "  warnings.warn(msg, FutureWarning)\n",
      "/opt/conda/lib/python3.7/site-packages/seaborn/distributions.py:2619: FutureWarning: `distplot` is a deprecated function and will be removed in a future version. Please adapt your code to use either `displot` (a figure-level function with similar flexibility) or `kdeplot` (an axes-level function for kernel density plots).\n",
      "  warnings.warn(msg, FutureWarning)\n",
      "/opt/conda/lib/python3.7/site-packages/seaborn/distributions.py:2619: FutureWarning: `distplot` is a deprecated function and will be removed in a future version. Please adapt your code to use either `displot` (a figure-level function with similar flexibility) or `kdeplot` (an axes-level function for kernel density plots).\n",
      "  warnings.warn(msg, FutureWarning)\n",
      "/opt/conda/lib/python3.7/site-packages/seaborn/distributions.py:2619: FutureWarning: `distplot` is a deprecated function and will be removed in a future version. Please adapt your code to use either `displot` (a figure-level function with similar flexibility) or `kdeplot` (an axes-level function for kernel density plots).\n",
      "  warnings.warn(msg, FutureWarning)\n",
      "/opt/conda/lib/python3.7/site-packages/seaborn/distributions.py:2619: FutureWarning: `distplot` is a deprecated function and will be removed in a future version. Please adapt your code to use either `displot` (a figure-level function with similar flexibility) or `kdeplot` (an axes-level function for kernel density plots).\n",
      "  warnings.warn(msg, FutureWarning)\n",
      "/opt/conda/lib/python3.7/site-packages/seaborn/distributions.py:2619: FutureWarning: `distplot` is a deprecated function and will be removed in a future version. Please adapt your code to use either `displot` (a figure-level function with similar flexibility) or `kdeplot` (an axes-level function for kernel density plots).\n",
      "  warnings.warn(msg, FutureWarning)\n",
      "/opt/conda/lib/python3.7/site-packages/seaborn/distributions.py:2619: FutureWarning: `distplot` is a deprecated function and will be removed in a future version. Please adapt your code to use either `displot` (a figure-level function with similar flexibility) or `kdeplot` (an axes-level function for kernel density plots).\n",
      "  warnings.warn(msg, FutureWarning)\n",
      "/opt/conda/lib/python3.7/site-packages/seaborn/distributions.py:2619: FutureWarning: `distplot` is a deprecated function and will be removed in a future version. Please adapt your code to use either `displot` (a figure-level function with similar flexibility) or `kdeplot` (an axes-level function for kernel density plots).\n",
      "  warnings.warn(msg, FutureWarning)\n",
      "/opt/conda/lib/python3.7/site-packages/seaborn/distributions.py:2619: FutureWarning: `distplot` is a deprecated function and will be removed in a future version. Please adapt your code to use either `displot` (a figure-level function with similar flexibility) or `kdeplot` (an axes-level function for kernel density plots).\n",
      "  warnings.warn(msg, FutureWarning)\n",
      "/opt/conda/lib/python3.7/site-packages/seaborn/distributions.py:316: UserWarning: Dataset has 0 variance; skipping density estimate. Pass `warn_singular=False` to disable this warning.\n",
      "  warnings.warn(msg, UserWarning)\n",
      "/opt/conda/lib/python3.7/site-packages/seaborn/distributions.py:2619: FutureWarning: `distplot` is a deprecated function and will be removed in a future version. Please adapt your code to use either `displot` (a figure-level function with similar flexibility) or `kdeplot` (an axes-level function for kernel density plots).\n",
      "  warnings.warn(msg, FutureWarning)\n",
      "/opt/conda/lib/python3.7/site-packages/seaborn/distributions.py:316: UserWarning: Dataset has 0 variance; skipping density estimate. Pass `warn_singular=False` to disable this warning.\n",
      "  warnings.warn(msg, UserWarning)\n"
     ]
    },
    {
     "data": {
      "image/png": "[encoded data removed]",
      "text/plain": [
       "<Figure size 1080x1080 with 9 Axes>"
      ]
     },
     "metadata": {
      "needs_background": "light"
     },
     "output_type": "display_data"
    }
   ],
   "source": [
    "# subplot of 3x3\n",
    "plt.subplots(3,3,figsize=(15,15))\n",
    "\n",
    "# Plot a density plot for each feature\n",
    "for idx, col in enumerate(df.columns):\n",
    "    ax = plt.subplot(3,3,idx+1)\n",
    "    ax.yaxis.set_ticklabels([])\n",
    "    sns.distplot(df.loc[df.Outcome == 0][col], hist=False, axlabel=False,\n",
    "                kde_kws={'linestyle':'-', 'color':'black', 'label':\"No Diabetes\"})\n",
    "    sns.distplot(df.loc[df.Outcome == 1][col], hist=False, axlabel=False,\n",
    "                kde_kws={'linestyle':'--', 'color':'black', 'label':\"Diabetes\"})\n",
    "    ax.set_title(col)\n",
    "    \n",
    "# Hide the 9th subplot since there are only 8 plots\n",
    "plt.subplot(3,3,9).set_visible(False)\n",
    "\n",
    "plt.show()"
   ]
  },
  {
   "cell_type": "markdown",
   "id": "065bf9b7",
   "metadata": {
    "papermill": {
     "duration": 0.012824,
     "end_time": "2022-12-18T13:30:19.399754",
     "exception": false,
     "start_time": "2022-12-18T13:30:19.386930",
     "status": "completed"
    },
    "tags": []
   },
   "source": [
    "#### Notes\n",
    "\n",
    "- Glucose: among the non-diabetics the curve has a normal distribution, centered around the value 100. Diabetics centered around 150.\n",
    "- similiar to BMI and Age\n",
    "- BloodPreasure, SkinThickness: No significant difference"
   ]
  },
  {
   "cell_type": "markdown",
   "id": "a985abd0",
   "metadata": {
    "papermill": {
     "duration": 0.012844,
     "end_time": "2022-12-18T13:30:19.425280",
     "exception": false,
     "start_time": "2022-12-18T13:30:19.412436",
     "status": "completed"
    },
    "tags": []
   },
   "source": [
    "# Data Preprocessing"
   ]
  },
  {
   "cell_type": "markdown",
   "id": "9eef16ae",
   "metadata": {
    "papermill": {
     "duration": 0.013432,
     "end_time": "2022-12-18T13:30:19.451308",
     "exception": false,
     "start_time": "2022-12-18T13:30:19.437876",
     "status": "completed"
    },
    "tags": []
   },
   "source": [
    "## Handling missing values"
   ]
  },
  {
   "cell_type": "code",
   "execution_count": 7,
   "id": "6472b9bc",
   "metadata": {
    "execution": {
     "iopub.execute_input": "2022-12-18T13:30:19.478934Z",
     "iopub.status.busy": "2022-12-18T13:30:19.478549Z",
     "iopub.status.idle": "2022-12-18T13:30:19.486546Z",
     "shell.execute_reply": "2022-12-18T13:30:19.485138Z"
    },
    "papermill": {
     "duration": 0.026137,
     "end_time": "2022-12-18T13:30:19.490032",
     "exception": false,
     "start_time": "2022-12-18T13:30:19.463895",
     "status": "completed"
    },
    "tags": []
   },
   "outputs": [
    {
     "name": "stdout",
     "output_type": "stream",
     "text": [
      "Pregnancies                 False\n",
      "Glucose                     False\n",
      "BloodPressure               False\n",
      "SkinThickness               False\n",
      "Insulin                     False\n",
      "BMI                         False\n",
      "DiabetesPedigreeFunction    False\n",
      "Age                         False\n",
      "Outcome                     False\n",
      "dtype: bool\n"
     ]
    }
   ],
   "source": [
    "print(df.isnull().any())"
   ]
  },
  {
   "cell_type": "code",
   "execution_count": 8,
   "id": "65a340ca",
   "metadata": {
    "execution": {
     "iopub.execute_input": "2022-12-18T13:30:19.518250Z",
     "iopub.status.busy": "2022-12-18T13:30:19.517815Z",
     "iopub.status.idle": "2022-12-18T13:30:19.559752Z",
     "shell.execute_reply": "2022-12-18T13:30:19.558381Z"
    },
    "papermill": {
     "duration": 0.059276,
     "end_time": "2022-12-18T13:30:19.562441",
     "exception": false,
     "start_time": "2022-12-18T13:30:19.503165",
     "status": "completed"
    },
    "tags": []
   },
   "outputs": [
    {
     "data": {
      "text/html": [
       "<div>\n",
       "<style scoped>\n",
       "    .dataframe tbody tr th:only-of-type {\n",
       "        vertical-align: middle;\n",
       "    }\n",
       "\n",
       "    .dataframe tbody tr th {\n",
       "        vertical-align: top;\n",
       "    }\n",
       "\n",
       "    .dataframe thead th {\n",
       "        text-align: right;\n",
       "    }\n",
       "</style>\n",
       "<table border=\"1\" class=\"dataframe\">\n",
       "  <thead>\n",
       "    <tr style=\"text-align: right;\">\n",
       "      <th></th>\n",
       "      <th>Pregnancies</th>\n",
       "      <th>Glucose</th>\n",
       "      <th>BloodPressure</th>\n",
       "      <th>SkinThickness</th>\n",
       "      <th>Insulin</th>\n",
       "      <th>BMI</th>\n",
       "      <th>DiabetesPedigreeFunction</th>\n",
       "      <th>Age</th>\n",
       "      <th>Outcome</th>\n",
       "    </tr>\n",
       "  </thead>\n",
       "  <tbody>\n",
       "    <tr>\n",
       "      <th>count</th>\n",
       "      <td>768.000000</td>\n",
       "      <td>768.000000</td>\n",
       "      <td>768.000000</td>\n",
       "      <td>768.000000</td>\n",
       "      <td>768.000000</td>\n",
       "      <td>768.000000</td>\n",
       "      <td>768.000000</td>\n",
       "      <td>768.000000</td>\n",
       "      <td>768.000000</td>\n",
       "    </tr>\n",
       "    <tr>\n",
       "      <th>mean</th>\n",
       "      <td>3.845052</td>\n",
       "      <td>120.894531</td>\n",
       "      <td>69.105469</td>\n",
       "      <td>20.536458</td>\n",
       "      <td>79.799479</td>\n",
       "      <td>31.992578</td>\n",
       "      <td>0.471876</td>\n",
       "      <td>33.240885</td>\n",
       "      <td>0.348958</td>\n",
       "    </tr>\n",
       "    <tr>\n",
       "      <th>std</th>\n",
       "      <td>3.369578</td>\n",
       "      <td>31.972618</td>\n",
       "      <td>19.355807</td>\n",
       "      <td>15.952218</td>\n",
       "      <td>115.244002</td>\n",
       "      <td>7.884160</td>\n",
       "      <td>0.331329</td>\n",
       "      <td>11.760232</td>\n",
       "      <td>0.476951</td>\n",
       "    </tr>\n",
       "    <tr>\n",
       "      <th>min</th>\n",
       "      <td>0.000000</td>\n",
       "      <td>0.000000</td>\n",
       "      <td>0.000000</td>\n",
       "      <td>0.000000</td>\n",
       "      <td>0.000000</td>\n",
       "      <td>0.000000</td>\n",
       "      <td>0.078000</td>\n",
       "      <td>21.000000</td>\n",
       "      <td>0.000000</td>\n",
       "    </tr>\n",
       "    <tr>\n",
       "      <th>25%</th>\n",
       "      <td>1.000000</td>\n",
       "      <td>99.000000</td>\n",
       "      <td>62.000000</td>\n",
       "      <td>0.000000</td>\n",
       "      <td>0.000000</td>\n",
       "      <td>27.300000</td>\n",
       "      <td>0.243750</td>\n",
       "      <td>24.000000</td>\n",
       "      <td>0.000000</td>\n",
       "    </tr>\n",
       "    <tr>\n",
       "      <th>50%</th>\n",
       "      <td>3.000000</td>\n",
       "      <td>117.000000</td>\n",
       "      <td>72.000000</td>\n",
       "      <td>23.000000</td>\n",
       "      <td>30.500000</td>\n",
       "      <td>32.000000</td>\n",
       "      <td>0.372500</td>\n",
       "      <td>29.000000</td>\n",
       "      <td>0.000000</td>\n",
       "    </tr>\n",
       "    <tr>\n",
       "      <th>75%</th>\n",
       "      <td>6.000000</td>\n",
       "      <td>140.250000</td>\n",
       "      <td>80.000000</td>\n",
       "      <td>32.000000</td>\n",
       "      <td>127.250000</td>\n",
       "      <td>36.600000</td>\n",
       "      <td>0.626250</td>\n",
       "      <td>41.000000</td>\n",
       "      <td>1.000000</td>\n",
       "    </tr>\n",
       "    <tr>\n",
       "      <th>max</th>\n",
       "      <td>17.000000</td>\n",
       "      <td>199.000000</td>\n",
       "      <td>122.000000</td>\n",
       "      <td>99.000000</td>\n",
       "      <td>846.000000</td>\n",
       "      <td>67.100000</td>\n",
       "      <td>2.420000</td>\n",
       "      <td>81.000000</td>\n",
       "      <td>1.000000</td>\n",
       "    </tr>\n",
       "  </tbody>\n",
       "</table>\n",
       "</div>"
      ],
      "text/plain": [
       "       Pregnancies     Glucose  BloodPressure  SkinThickness     Insulin  \\\n",
       "count   768.000000  768.000000     768.000000     768.000000  768.000000   \n",
       "mean      3.845052  120.894531      69.105469      20.536458   79.799479   \n",
       "std       3.369578   31.972618      19.355807      15.952218  115.244002   \n",
       "min       0.000000    0.000000       0.000000       0.000000    0.000000   \n",
       "25%       1.000000   99.000000      62.000000       0.000000    0.000000   \n",
       "50%       3.000000  117.000000      72.000000      23.000000   30.500000   \n",
       "75%       6.000000  140.250000      80.000000      32.000000  127.250000   \n",
       "max      17.000000  199.000000     122.000000      99.000000  846.000000   \n",
       "\n",
       "              BMI  DiabetesPedigreeFunction         Age     Outcome  \n",
       "count  768.000000                768.000000  768.000000  768.000000  \n",
       "mean    31.992578                  0.471876   33.240885    0.348958  \n",
       "std      7.884160                  0.331329   11.760232    0.476951  \n",
       "min      0.000000                  0.078000   21.000000    0.000000  \n",
       "25%     27.300000                  0.243750   24.000000    0.000000  \n",
       "50%     32.000000                  0.372500   29.000000    0.000000  \n",
       "75%     36.600000                  0.626250   41.000000    1.000000  \n",
       "max     67.100000                  2.420000   81.000000    1.000000  "
      ]
     },
     "execution_count": 8,
     "metadata": {},
     "output_type": "execute_result"
    }
   ],
   "source": [
    "df.describe()"
   ]
  },
  {
   "cell_type": "markdown",
   "id": "54c67035",
   "metadata": {
    "papermill": {
     "duration": 0.01307,
     "end_time": "2022-12-18T13:30:19.588573",
     "exception": false,
     "start_time": "2022-12-18T13:30:19.575503",
     "status": "completed"
    },
    "tags": []
   },
   "source": [
    "#### Notes\n",
    "\n",
    "- Glucose, BloodPreasure, SkinThickness, Insulin have missing values, because they should never be 0"
   ]
  },
  {
   "cell_type": "code",
   "execution_count": 9,
   "id": "4f4f58d7",
   "metadata": {
    "execution": {
     "iopub.execute_input": "2022-12-18T13:30:19.616007Z",
     "iopub.status.busy": "2022-12-18T13:30:19.615580Z",
     "iopub.status.idle": "2022-12-18T13:30:19.628369Z",
     "shell.execute_reply": "2022-12-18T13:30:19.626791Z"
    },
    "papermill": {
     "duration": 0.029565,
     "end_time": "2022-12-18T13:30:19.630842",
     "exception": false,
     "start_time": "2022-12-18T13:30:19.601277",
     "status": "completed"
    },
    "tags": []
   },
   "outputs": [
    {
     "name": "stdout",
     "output_type": "stream",
     "text": [
      "Number of rows with 0 values\n",
      "Pregnancies: 111\n",
      "Glucose: 5\n",
      "BloodPressure: 35\n",
      "SkinThickness: 227\n",
      "Insulin: 374\n",
      "BMI: 11\n",
      "DiabetesPedigreeFunction: 0\n",
      "Age: 0\n",
      "Outcome: 500\n"
     ]
    }
   ],
   "source": [
    "print('Number of rows with 0 values')\n",
    "for col in df.columns:\n",
    "    missing_rows = df.loc[df[col] == 0].shape[0]\n",
    "    print(col + \": \" + str(missing_rows))"
   ]
  },
  {
   "cell_type": "code",
   "execution_count": 10,
   "id": "523bdcd3",
   "metadata": {
    "execution": {
     "iopub.execute_input": "2022-12-18T13:30:19.659886Z",
     "iopub.status.busy": "2022-12-18T13:30:19.659463Z",
     "iopub.status.idle": "2022-12-18T13:30:19.672227Z",
     "shell.execute_reply": "2022-12-18T13:30:19.670995Z"
    },
    "papermill": {
     "duration": 0.029829,
     "end_time": "2022-12-18T13:30:19.674768",
     "exception": false,
     "start_time": "2022-12-18T13:30:19.644939",
     "status": "completed"
    },
    "tags": []
   },
   "outputs": [],
   "source": [
    "df['Glucose'] = df['Glucose'].replace(0, np.nan)\n",
    "df['BloodPressure'] = df['BloodPressure'].replace(0, np.nan)\n",
    "df['SkinThickness'] = df['SkinThickness'].replace(0, np.nan)\n",
    "df['Insulin'] = df['Insulin'].replace(0, np.nan)\n",
    "df['BMI'] = df['BMI'].replace(0, np.nan)\n"
   ]
  },
  {
   "cell_type": "code",
   "execution_count": 11,
   "id": "ed70982f",
   "metadata": {
    "execution": {
     "iopub.execute_input": "2022-12-18T13:30:19.702435Z",
     "iopub.status.busy": "2022-12-18T13:30:19.702005Z",
     "iopub.status.idle": "2022-12-18T13:30:19.715606Z",
     "shell.execute_reply": "2022-12-18T13:30:19.714130Z"
    },
    "papermill": {
     "duration": 0.030629,
     "end_time": "2022-12-18T13:30:19.718312",
     "exception": false,
     "start_time": "2022-12-18T13:30:19.687683",
     "status": "completed"
    },
    "tags": []
   },
   "outputs": [
    {
     "name": "stdout",
     "output_type": "stream",
     "text": [
      "Number of rows with 0 values\n",
      "Pregnancies: 111\n",
      "Glucose: 0\n",
      "BloodPressure: 0\n",
      "SkinThickness: 0\n",
      "Insulin: 0\n",
      "BMI: 0\n",
      "DiabetesPedigreeFunction: 0\n",
      "Age: 0\n",
      "Outcome: 500\n"
     ]
    }
   ],
   "source": [
    "print('Number of rows with 0 values')\n",
    "for col in df.columns:\n",
    "    missing_rows = df.loc[df[col] == 0].shape[0]\n",
    "    print(col + \": \" + str(missing_rows))"
   ]
  },
  {
   "cell_type": "code",
   "execution_count": 12,
   "id": "34b8c5f3",
   "metadata": {
    "execution": {
     "iopub.execute_input": "2022-12-18T13:30:19.746590Z",
     "iopub.status.busy": "2022-12-18T13:30:19.746176Z",
     "iopub.status.idle": "2022-12-18T13:30:19.757710Z",
     "shell.execute_reply": "2022-12-18T13:30:19.756444Z"
    },
    "papermill": {
     "duration": 0.028953,
     "end_time": "2022-12-18T13:30:19.760388",
     "exception": false,
     "start_time": "2022-12-18T13:30:19.731435",
     "status": "completed"
    },
    "tags": []
   },
   "outputs": [],
   "source": [
    "df['Glucose'] = df['Glucose'].fillna(df['Glucose'].mean())\n",
    "df['BloodPressure'] = df['BloodPressure'].fillna(df['BloodPressure'].mean())\n",
    "df['SkinThickness'] = df['SkinThickness'].fillna(df['SkinThickness'].mean())\n",
    "df['Insulin'] = df['Insulin'].fillna(df['Insulin'].mean())\n",
    "df['BMI'] = df['BMI'].fillna(df['BMI'].mean())"
   ]
  },
  {
   "cell_type": "code",
   "execution_count": 13,
   "id": "2672b2ef",
   "metadata": {
    "execution": {
     "iopub.execute_input": "2022-12-18T13:30:19.788919Z",
     "iopub.status.busy": "2022-12-18T13:30:19.788020Z",
     "iopub.status.idle": "2022-12-18T13:30:19.806163Z",
     "shell.execute_reply": "2022-12-18T13:30:19.804897Z"
    },
    "papermill": {
     "duration": 0.035186,
     "end_time": "2022-12-18T13:30:19.808641",
     "exception": false,
     "start_time": "2022-12-18T13:30:19.773455",
     "status": "completed"
    },
    "tags": []
   },
   "outputs": [
    {
     "data": {
      "text/html": [
       "<div>\n",
       "<style scoped>\n",
       "    .dataframe tbody tr th:only-of-type {\n",
       "        vertical-align: middle;\n",
       "    }\n",
       "\n",
       "    .dataframe tbody tr th {\n",
       "        vertical-align: top;\n",
       "    }\n",
       "\n",
       "    .dataframe thead th {\n",
       "        text-align: right;\n",
       "    }\n",
       "</style>\n",
       "<table border=\"1\" class=\"dataframe\">\n",
       "  <thead>\n",
       "    <tr style=\"text-align: right;\">\n",
       "      <th></th>\n",
       "      <th>Pregnancies</th>\n",
       "      <th>Glucose</th>\n",
       "      <th>BloodPressure</th>\n",
       "      <th>SkinThickness</th>\n",
       "      <th>Insulin</th>\n",
       "      <th>BMI</th>\n",
       "      <th>DiabetesPedigreeFunction</th>\n",
       "      <th>Age</th>\n",
       "      <th>Outcome</th>\n",
       "    </tr>\n",
       "  </thead>\n",
       "  <tbody>\n",
       "    <tr>\n",
       "      <th>0</th>\n",
       "      <td>6</td>\n",
       "      <td>148.0</td>\n",
       "      <td>72.0</td>\n",
       "      <td>35.00000</td>\n",
       "      <td>155.548223</td>\n",
       "      <td>33.6</td>\n",
       "      <td>0.627</td>\n",
       "      <td>50</td>\n",
       "      <td>1</td>\n",
       "    </tr>\n",
       "    <tr>\n",
       "      <th>1</th>\n",
       "      <td>1</td>\n",
       "      <td>85.0</td>\n",
       "      <td>66.0</td>\n",
       "      <td>29.00000</td>\n",
       "      <td>155.548223</td>\n",
       "      <td>26.6</td>\n",
       "      <td>0.351</td>\n",
       "      <td>31</td>\n",
       "      <td>0</td>\n",
       "    </tr>\n",
       "    <tr>\n",
       "      <th>2</th>\n",
       "      <td>8</td>\n",
       "      <td>183.0</td>\n",
       "      <td>64.0</td>\n",
       "      <td>29.15342</td>\n",
       "      <td>155.548223</td>\n",
       "      <td>23.3</td>\n",
       "      <td>0.672</td>\n",
       "      <td>32</td>\n",
       "      <td>1</td>\n",
       "    </tr>\n",
       "    <tr>\n",
       "      <th>3</th>\n",
       "      <td>1</td>\n",
       "      <td>89.0</td>\n",
       "      <td>66.0</td>\n",
       "      <td>23.00000</td>\n",
       "      <td>94.000000</td>\n",
       "      <td>28.1</td>\n",
       "      <td>0.167</td>\n",
       "      <td>21</td>\n",
       "      <td>0</td>\n",
       "    </tr>\n",
       "    <tr>\n",
       "      <th>4</th>\n",
       "      <td>0</td>\n",
       "      <td>137.0</td>\n",
       "      <td>40.0</td>\n",
       "      <td>35.00000</td>\n",
       "      <td>168.000000</td>\n",
       "      <td>43.1</td>\n",
       "      <td>2.288</td>\n",
       "      <td>33</td>\n",
       "      <td>1</td>\n",
       "    </tr>\n",
       "  </tbody>\n",
       "</table>\n",
       "</div>"
      ],
      "text/plain": [
       "   Pregnancies  Glucose  BloodPressure  SkinThickness     Insulin   BMI  \\\n",
       "0            6    148.0           72.0       35.00000  155.548223  33.6   \n",
       "1            1     85.0           66.0       29.00000  155.548223  26.6   \n",
       "2            8    183.0           64.0       29.15342  155.548223  23.3   \n",
       "3            1     89.0           66.0       23.00000   94.000000  28.1   \n",
       "4            0    137.0           40.0       35.00000  168.000000  43.1   \n",
       "\n",
       "   DiabetesPedigreeFunction  Age  Outcome  \n",
       "0                     0.627   50        1  \n",
       "1                     0.351   31        0  \n",
       "2                     0.672   32        1  \n",
       "3                     0.167   21        0  \n",
       "4                     2.288   33        1  "
      ]
     },
     "execution_count": 13,
     "metadata": {},
     "output_type": "execute_result"
    }
   ],
   "source": [
    "df.head()"
   ]
  },
  {
   "cell_type": "markdown",
   "id": "d54496ea",
   "metadata": {
    "papermill": {
     "duration": 0.012969,
     "end_time": "2022-12-18T13:30:19.834743",
     "exception": false,
     "start_time": "2022-12-18T13:30:19.821774",
     "status": "completed"
    },
    "tags": []
   },
   "source": [
    "## Standardize Data"
   ]
  },
  {
   "cell_type": "code",
   "execution_count": 14,
   "id": "72569334",
   "metadata": {
    "execution": {
     "iopub.execute_input": "2022-12-18T13:30:19.864239Z",
     "iopub.status.busy": "2022-12-18T13:30:19.863535Z",
     "iopub.status.idle": "2022-12-18T13:30:20.143730Z",
     "shell.execute_reply": "2022-12-18T13:30:20.142354Z"
    },
    "papermill": {
     "duration": 0.297985,
     "end_time": "2022-12-18T13:30:20.146641",
     "exception": false,
     "start_time": "2022-12-18T13:30:19.848656",
     "status": "completed"
    },
    "tags": []
   },
   "outputs": [],
   "source": [
    "from sklearn import preprocessing"
   ]
  },
  {
   "cell_type": "code",
   "execution_count": 15,
   "id": "0156085b",
   "metadata": {
    "execution": {
     "iopub.execute_input": "2022-12-18T13:30:20.175321Z",
     "iopub.status.busy": "2022-12-18T13:30:20.174903Z",
     "iopub.status.idle": "2022-12-18T13:30:20.183717Z",
     "shell.execute_reply": "2022-12-18T13:30:20.182835Z"
    },
    "papermill": {
     "duration": 0.026049,
     "end_time": "2022-12-18T13:30:20.186181",
     "exception": false,
     "start_time": "2022-12-18T13:30:20.160132",
     "status": "completed"
    },
    "tags": []
   },
   "outputs": [],
   "source": [
    "df_scaled = preprocessing.scale(df)"
   ]
  },
  {
   "cell_type": "code",
   "execution_count": 16,
   "id": "75adf70d",
   "metadata": {
    "execution": {
     "iopub.execute_input": "2022-12-18T13:30:20.215442Z",
     "iopub.status.busy": "2022-12-18T13:30:20.213999Z",
     "iopub.status.idle": "2022-12-18T13:30:20.220478Z",
     "shell.execute_reply": "2022-12-18T13:30:20.219434Z"
    },
    "papermill": {
     "duration": 0.023739,
     "end_time": "2022-12-18T13:30:20.223010",
     "exception": false,
     "start_time": "2022-12-18T13:30:20.199271",
     "status": "completed"
    },
    "tags": []
   },
   "outputs": [],
   "source": [
    "df_scaled = pd.DataFrame(df_scaled, columns = df.columns)"
   ]
  },
  {
   "cell_type": "code",
   "execution_count": 17,
   "id": "53ffdb46",
   "metadata": {
    "execution": {
     "iopub.execute_input": "2022-12-18T13:30:20.252147Z",
     "iopub.status.busy": "2022-12-18T13:30:20.251091Z",
     "iopub.status.idle": "2022-12-18T13:30:20.257814Z",
     "shell.execute_reply": "2022-12-18T13:30:20.256355Z"
    },
    "papermill": {
     "duration": 0.024163,
     "end_time": "2022-12-18T13:30:20.260402",
     "exception": false,
     "start_time": "2022-12-18T13:30:20.236239",
     "status": "completed"
    },
    "tags": []
   },
   "outputs": [],
   "source": [
    "df_scaled['Outcome'] = df['Outcome']\n",
    "df = df_scaled"
   ]
  },
  {
   "cell_type": "code",
   "execution_count": 18,
   "id": "5d8e02f2",
   "metadata": {
    "execution": {
     "iopub.execute_input": "2022-12-18T13:30:20.288468Z",
     "iopub.status.busy": "2022-12-18T13:30:20.288067Z",
     "iopub.status.idle": "2022-12-18T13:30:20.328030Z",
     "shell.execute_reply": "2022-12-18T13:30:20.326502Z"
    },
    "papermill": {
     "duration": 0.057109,
     "end_time": "2022-12-18T13:30:20.330663",
     "exception": false,
     "start_time": "2022-12-18T13:30:20.273554",
     "status": "completed"
    },
    "tags": []
   },
   "outputs": [
    {
     "name": "stdout",
     "output_type": "stream",
     "text": [
      "      Pregnancies  Glucose  BloodPressure  SkinThickness  Insulin   BMI  \\\n",
      "mean         0.00     0.00            0.0           0.00     0.00  0.00   \n",
      "std          1.00     1.00            1.0           1.00     1.00  1.00   \n",
      "max          3.91     2.54            4.1           7.95     8.13  5.04   \n",
      "\n",
      "      DiabetesPedigreeFunction   Age  Outcome  \n",
      "mean                      0.00  0.00     0.35  \n",
      "std                       1.00  1.00     0.48  \n",
      "max                       5.88  4.06     1.00  \n"
     ]
    }
   ],
   "source": [
    "print(df.describe().loc[['mean', 'std','max'],].round(2).abs())"
   ]
  },
  {
   "cell_type": "markdown",
   "id": "076fe655",
   "metadata": {
    "papermill": {
     "duration": 0.013145,
     "end_time": "2022-12-18T13:30:20.357877",
     "exception": false,
     "start_time": "2022-12-18T13:30:20.344732",
     "status": "completed"
    },
    "tags": []
   },
   "source": [
    "# Split data\n"
   ]
  },
  {
   "cell_type": "code",
   "execution_count": 19,
   "id": "5ef5806d",
   "metadata": {
    "execution": {
     "iopub.execute_input": "2022-12-18T13:30:20.386888Z",
     "iopub.status.busy": "2022-12-18T13:30:20.386119Z",
     "iopub.status.idle": "2022-12-18T13:30:20.442986Z",
     "shell.execute_reply": "2022-12-18T13:30:20.441496Z"
    },
    "papermill": {
     "duration": 0.074536,
     "end_time": "2022-12-18T13:30:20.445803",
     "exception": false,
     "start_time": "2022-12-18T13:30:20.371267",
     "status": "completed"
    },
    "tags": []
   },
   "outputs": [],
   "source": [
    "from sklearn.model_selection import train_test_split"
   ]
  },
  {
   "cell_type": "code",
   "execution_count": 20,
   "id": "90958cd9",
   "metadata": {
    "execution": {
     "iopub.execute_input": "2022-12-18T13:30:20.474449Z",
     "iopub.status.busy": "2022-12-18T13:30:20.474004Z",
     "iopub.status.idle": "2022-12-18T13:30:20.480705Z",
     "shell.execute_reply": "2022-12-18T13:30:20.479232Z"
    },
    "papermill": {
     "duration": 0.02431,
     "end_time": "2022-12-18T13:30:20.483338",
     "exception": false,
     "start_time": "2022-12-18T13:30:20.459028",
     "status": "completed"
    },
    "tags": []
   },
   "outputs": [],
   "source": [
    "X = df.loc[:, df.columns != 'Outcome']\n",
    "y = df.loc[:, 'Outcome']"
   ]
  },
  {
   "cell_type": "code",
   "execution_count": 21,
   "id": "27fd7f63",
   "metadata": {
    "execution": {
     "iopub.execute_input": "2022-12-18T13:30:20.512029Z",
     "iopub.status.busy": "2022-12-18T13:30:20.511410Z",
     "iopub.status.idle": "2022-12-18T13:30:20.519751Z",
     "shell.execute_reply": "2022-12-18T13:30:20.518336Z"
    },
    "papermill": {
     "duration": 0.025752,
     "end_time": "2022-12-18T13:30:20.522272",
     "exception": false,
     "start_time": "2022-12-18T13:30:20.496520",
     "status": "completed"
    },
    "tags": []
   },
   "outputs": [],
   "source": [
    "# First split to create training and test set\n",
    "X_train, X_test, y_train, y_test = train_test_split(X, y, test_size=0.2)"
   ]
  },
  {
   "cell_type": "code",
   "execution_count": 22,
   "id": "b141fa15",
   "metadata": {
    "execution": {
     "iopub.execute_input": "2022-12-18T13:30:20.551730Z",
     "iopub.status.busy": "2022-12-18T13:30:20.550842Z",
     "iopub.status.idle": "2022-12-18T13:30:20.557408Z",
     "shell.execute_reply": "2022-12-18T13:30:20.556134Z"
    },
    "papermill": {
     "duration": 0.024381,
     "end_time": "2022-12-18T13:30:20.560261",
     "exception": false,
     "start_time": "2022-12-18T13:30:20.535880",
     "status": "completed"
    },
    "tags": []
   },
   "outputs": [],
   "source": [
    "# Second split to create training and validation set\n",
    "X_train, X_val, y_train, y_val = train_test_split(X_train, y_train,\n",
    "test_size=0.2)"
   ]
  },
  {
   "cell_type": "markdown",
   "id": "72da0b8e",
   "metadata": {
    "papermill": {
     "duration": 0.013042,
     "end_time": "2022-12-18T13:30:20.587342",
     "exception": false,
     "start_time": "2022-12-18T13:30:20.574300",
     "status": "completed"
    },
    "tags": []
   },
   "source": [
    "# Model building with Neural Networks"
   ]
  },
  {
   "cell_type": "code",
   "execution_count": 23,
   "id": "aaeca706",
   "metadata": {
    "execution": {
     "iopub.execute_input": "2022-12-18T13:30:20.615978Z",
     "iopub.status.busy": "2022-12-18T13:30:20.615565Z",
     "iopub.status.idle": "2022-12-18T13:30:27.094706Z",
     "shell.execute_reply": "2022-12-18T13:30:27.093415Z"
    },
    "papermill": {
     "duration": 6.497511,
     "end_time": "2022-12-18T13:30:27.098405",
     "exception": false,
     "start_time": "2022-12-18T13:30:20.600894",
     "status": "completed"
    },
    "tags": []
   },
   "outputs": [],
   "source": [
    "from keras.models import Sequential\n",
    "from keras.layers import Dense"
   ]
  },
  {
   "cell_type": "code",
   "execution_count": 24,
   "id": "d36c4f6f",
   "metadata": {
    "execution": {
     "iopub.execute_input": "2022-12-18T13:30:27.127824Z",
     "iopub.status.busy": "2022-12-18T13:30:27.127033Z",
     "iopub.status.idle": "2022-12-18T13:30:27.190904Z",
     "shell.execute_reply": "2022-12-18T13:30:27.189914Z"
    },
    "papermill": {
     "duration": 0.081809,
     "end_time": "2022-12-18T13:30:27.194161",
     "exception": false,
     "start_time": "2022-12-18T13:30:27.112352",
     "status": "completed"
    },
    "tags": []
   },
   "outputs": [
    {
     "name": "stderr",
     "output_type": "stream",
     "text": [
      "2022-12-18 13:30:27.165083: I tensorflow/core/common_runtime/process_util.cc:146] Creating new thread pool with default inter op setting: 2. Tune using inter_op_parallelism_threads for best performance.\n"
     ]
    }
   ],
   "source": [
    "# we are creating the NN step by step\n",
    "model = Sequential()"
   ]
  },
  {
   "cell_type": "code",
   "execution_count": 25,
   "id": "24431a32",
   "metadata": {
    "execution": {
     "iopub.execute_input": "2022-12-18T13:30:27.229889Z",
     "iopub.status.busy": "2022-12-18T13:30:27.229171Z",
     "iopub.status.idle": "2022-12-18T13:30:27.286666Z",
     "shell.execute_reply": "2022-12-18T13:30:27.285340Z"
    },
    "papermill": {
     "duration": 0.07586,
     "end_time": "2022-12-18T13:30:27.289541",
     "exception": false,
     "start_time": "2022-12-18T13:30:27.213681",
     "status": "completed"
    },
    "tags": []
   },
   "outputs": [],
   "source": [
    "# Add first layer\n",
    "model.add(Dense(256, activation='relu', input_dim = 8))"
   ]
  },
  {
   "cell_type": "code",
   "execution_count": 26,
   "id": "56770329",
   "metadata": {
    "execution": {
     "iopub.execute_input": "2022-12-18T13:30:27.319516Z",
     "iopub.status.busy": "2022-12-18T13:30:27.319105Z",
     "iopub.status.idle": "2022-12-18T13:30:27.338030Z",
     "shell.execute_reply": "2022-12-18T13:30:27.336771Z"
    },
    "papermill": {
     "duration": 0.037344,
     "end_time": "2022-12-18T13:30:27.340879",
     "exception": false,
     "start_time": "2022-12-18T13:30:27.303535",
     "status": "completed"
    },
    "tags": []
   },
   "outputs": [],
   "source": [
    "# Add second hidden layer\n",
    "model.add(Dense(128, activation='relu'))"
   ]
  },
  {
   "cell_type": "code",
   "execution_count": 27,
   "id": "142ab6be",
   "metadata": {
    "execution": {
     "iopub.execute_input": "2022-12-18T13:30:27.370759Z",
     "iopub.status.busy": "2022-12-18T13:30:27.370308Z",
     "iopub.status.idle": "2022-12-18T13:30:27.386326Z",
     "shell.execute_reply": "2022-12-18T13:30:27.385105Z"
    },
    "papermill": {
     "duration": 0.034656,
     "end_time": "2022-12-18T13:30:27.389393",
     "exception": false,
     "start_time": "2022-12-18T13:30:27.354737",
     "status": "completed"
    },
    "tags": []
   },
   "outputs": [],
   "source": [
    "# Add output layer\n",
    "model.add(Dense(1, activation='sigmoid'))"
   ]
  },
  {
   "cell_type": "code",
   "execution_count": 28,
   "id": "b4545c82",
   "metadata": {
    "execution": {
     "iopub.execute_input": "2022-12-18T13:30:27.420008Z",
     "iopub.status.busy": "2022-12-18T13:30:27.418853Z",
     "iopub.status.idle": "2022-12-18T13:30:27.434536Z",
     "shell.execute_reply": "2022-12-18T13:30:27.433316Z"
    },
    "papermill": {
     "duration": 0.033192,
     "end_time": "2022-12-18T13:30:27.437262",
     "exception": false,
     "start_time": "2022-12-18T13:30:27.404070",
     "status": "completed"
    },
    "tags": []
   },
   "outputs": [],
   "source": [
    "# compile the model\n",
    "model.compile(optimizer='adam', loss='binary_crossentropy',\n",
    "             metrics=['binary_accuracy'])"
   ]
  },
  {
   "cell_type": "markdown",
   "id": "a71144b4",
   "metadata": {
    "papermill": {
     "duration": 0.01303,
     "end_time": "2022-12-18T13:30:27.464168",
     "exception": false,
     "start_time": "2022-12-18T13:30:27.451138",
     "status": "completed"
    },
    "tags": []
   },
   "source": [
    "## Train the model"
   ]
  },
  {
   "cell_type": "code",
   "execution_count": 29,
   "id": "5d9b8b69",
   "metadata": {
    "execution": {
     "iopub.execute_input": "2022-12-18T13:30:27.492609Z",
     "iopub.status.busy": "2022-12-18T13:30:27.492210Z",
     "iopub.status.idle": "2022-12-18T13:30:33.935944Z",
     "shell.execute_reply": "2022-12-18T13:30:33.934240Z"
    },
    "papermill": {
     "duration": 6.461954,
     "end_time": "2022-12-18T13:30:33.939335",
     "exception": false,
     "start_time": "2022-12-18T13:30:27.477381",
     "status": "completed"
    },
    "tags": []
   },
   "outputs": [
    {
     "name": "stderr",
     "output_type": "stream",
     "text": [
      "2022-12-18 13:30:27.591786: I tensorflow/compiler/mlir/mlir_graph_optimization_pass.cc:185] None of the MLIR Optimization Passes are enabled (registered 2)\n"
     ]
    },
    {
     "name": "stdout",
     "output_type": "stream",
     "text": [
      "Epoch 1/100\n",
      "2/2 [==============================] - 1s 249ms/step - loss: 0.6618 - binary_accuracy: 0.6314 - val_loss: 0.5977 - val_binary_accuracy: 0.7805\n",
      "Epoch 2/100\n",
      "2/2 [==============================] - 0s 40ms/step - loss: 0.5995 - binary_accuracy: 0.7495 - val_loss: 0.5465 - val_binary_accuracy: 0.7805\n",
      "Epoch 3/100\n",
      "2/2 [==============================] - 0s 40ms/step - loss: 0.5526 - binary_accuracy: 0.7576 - val_loss: 0.5087 - val_binary_accuracy: 0.7886\n",
      "Epoch 4/100\n",
      "2/2 [==============================] - 0s 41ms/step - loss: 0.5187 - binary_accuracy: 0.7637 - val_loss: 0.4829 - val_binary_accuracy: 0.7805\n",
      "Epoch 5/100\n",
      "2/2 [==============================] - 0s 43ms/step - loss: 0.4964 - binary_accuracy: 0.7617 - val_loss: 0.4670 - val_binary_accuracy: 0.7805\n",
      "Epoch 6/100\n",
      "2/2 [==============================] - 0s 40ms/step - loss: 0.4800 - binary_accuracy: 0.7617 - val_loss: 0.4592 - val_binary_accuracy: 0.7967\n",
      "Epoch 7/100\n",
      "2/2 [==============================] - 0s 41ms/step - loss: 0.4680 - binary_accuracy: 0.7597 - val_loss: 0.4571 - val_binary_accuracy: 0.8130\n",
      "Epoch 8/100\n",
      "2/2 [==============================] - 0s 39ms/step - loss: 0.4601 - binary_accuracy: 0.7617 - val_loss: 0.4592 - val_binary_accuracy: 0.8130\n",
      "Epoch 9/100\n",
      "2/2 [==============================] - 0s 40ms/step - loss: 0.4537 - binary_accuracy: 0.7699 - val_loss: 0.4641 - val_binary_accuracy: 0.8211\n",
      "Epoch 10/100\n",
      "2/2 [==============================] - 0s 43ms/step - loss: 0.4485 - binary_accuracy: 0.7719 - val_loss: 0.4710 - val_binary_accuracy: 0.8049\n",
      "Epoch 11/100\n",
      "2/2 [==============================] - 0s 40ms/step - loss: 0.4436 - binary_accuracy: 0.7800 - val_loss: 0.4787 - val_binary_accuracy: 0.7886\n",
      "Epoch 12/100\n",
      "2/2 [==============================] - 0s 41ms/step - loss: 0.4380 - binary_accuracy: 0.7760 - val_loss: 0.4860 - val_binary_accuracy: 0.7805\n",
      "Epoch 13/100\n",
      "2/2 [==============================] - 0s 40ms/step - loss: 0.4339 - binary_accuracy: 0.7841 - val_loss: 0.4932 - val_binary_accuracy: 0.7805\n",
      "Epoch 14/100\n",
      "2/2 [==============================] - 0s 45ms/step - loss: 0.4297 - binary_accuracy: 0.7923 - val_loss: 0.4997 - val_binary_accuracy: 0.7805\n",
      "Epoch 15/100\n",
      "2/2 [==============================] - 0s 51ms/step - loss: 0.4265 - binary_accuracy: 0.7963 - val_loss: 0.5052 - val_binary_accuracy: 0.7805\n",
      "Epoch 16/100\n",
      "2/2 [==============================] - 0s 46ms/step - loss: 0.4234 - binary_accuracy: 0.7963 - val_loss: 0.5092 - val_binary_accuracy: 0.7805\n",
      "Epoch 17/100\n",
      "2/2 [==============================] - 0s 40ms/step - loss: 0.4203 - binary_accuracy: 0.8004 - val_loss: 0.5113 - val_binary_accuracy: 0.7886\n",
      "Epoch 18/100\n",
      "2/2 [==============================] - 0s 42ms/step - loss: 0.4173 - binary_accuracy: 0.8004 - val_loss: 0.5131 - val_binary_accuracy: 0.7805\n",
      "Epoch 19/100\n",
      "2/2 [==============================] - 0s 45ms/step - loss: 0.4143 - binary_accuracy: 0.8004 - val_loss: 0.5143 - val_binary_accuracy: 0.7805\n",
      "Epoch 20/100\n",
      "2/2 [==============================] - 0s 45ms/step - loss: 0.4113 - binary_accuracy: 0.7963 - val_loss: 0.5153 - val_binary_accuracy: 0.7724\n",
      "Epoch 21/100\n",
      "2/2 [==============================] - 0s 41ms/step - loss: 0.4083 - binary_accuracy: 0.7963 - val_loss: 0.5152 - val_binary_accuracy: 0.7642\n",
      "Epoch 22/100\n",
      "2/2 [==============================] - 0s 44ms/step - loss: 0.4052 - binary_accuracy: 0.8004 - val_loss: 0.5165 - val_binary_accuracy: 0.7724\n",
      "Epoch 23/100\n",
      "2/2 [==============================] - 0s 42ms/step - loss: 0.4031 - binary_accuracy: 0.8024 - val_loss: 0.5177 - val_binary_accuracy: 0.7724\n",
      "Epoch 24/100\n",
      "2/2 [==============================] - 0s 41ms/step - loss: 0.3999 - binary_accuracy: 0.8045 - val_loss: 0.5187 - val_binary_accuracy: 0.7724\n",
      "Epoch 25/100\n",
      "2/2 [==============================] - 0s 42ms/step - loss: 0.3969 - binary_accuracy: 0.8126 - val_loss: 0.5200 - val_binary_accuracy: 0.7805\n",
      "Epoch 26/100\n",
      "2/2 [==============================] - 0s 39ms/step - loss: 0.3947 - binary_accuracy: 0.8147 - val_loss: 0.5227 - val_binary_accuracy: 0.7805\n",
      "Epoch 27/100\n",
      "2/2 [==============================] - 0s 38ms/step - loss: 0.3919 - binary_accuracy: 0.8208 - val_loss: 0.5251 - val_binary_accuracy: 0.7805\n",
      "Epoch 28/100\n",
      "2/2 [==============================] - 0s 39ms/step - loss: 0.3899 - binary_accuracy: 0.8208 - val_loss: 0.5285 - val_binary_accuracy: 0.7805\n",
      "Epoch 29/100\n",
      "2/2 [==============================] - 0s 41ms/step - loss: 0.3869 - binary_accuracy: 0.8248 - val_loss: 0.5310 - val_binary_accuracy: 0.7642\n",
      "Epoch 30/100\n",
      "2/2 [==============================] - 0s 41ms/step - loss: 0.3846 - binary_accuracy: 0.8248 - val_loss: 0.5338 - val_binary_accuracy: 0.7724\n",
      "Epoch 31/100\n",
      "2/2 [==============================] - 0s 39ms/step - loss: 0.3817 - binary_accuracy: 0.8248 - val_loss: 0.5364 - val_binary_accuracy: 0.7642\n",
      "Epoch 32/100\n",
      "2/2 [==============================] - 0s 44ms/step - loss: 0.3792 - binary_accuracy: 0.8289 - val_loss: 0.5402 - val_binary_accuracy: 0.7642\n",
      "Epoch 33/100\n",
      "2/2 [==============================] - 0s 40ms/step - loss: 0.3768 - binary_accuracy: 0.8269 - val_loss: 0.5422 - val_binary_accuracy: 0.7642\n",
      "Epoch 34/100\n",
      "2/2 [==============================] - 0s 39ms/step - loss: 0.3749 - binary_accuracy: 0.8289 - val_loss: 0.5458 - val_binary_accuracy: 0.7642\n",
      "Epoch 35/100\n",
      "2/2 [==============================] - 0s 40ms/step - loss: 0.3724 - binary_accuracy: 0.8269 - val_loss: 0.5502 - val_binary_accuracy: 0.7642\n",
      "Epoch 36/100\n",
      "2/2 [==============================] - 0s 40ms/step - loss: 0.3696 - binary_accuracy: 0.8269 - val_loss: 0.5541 - val_binary_accuracy: 0.7805\n",
      "Epoch 37/100\n",
      "2/2 [==============================] - 0s 38ms/step - loss: 0.3672 - binary_accuracy: 0.8310 - val_loss: 0.5549 - val_binary_accuracy: 0.7642\n",
      "Epoch 38/100\n",
      "2/2 [==============================] - 0s 38ms/step - loss: 0.3647 - binary_accuracy: 0.8310 - val_loss: 0.5576 - val_binary_accuracy: 0.7561\n",
      "Epoch 39/100\n",
      "2/2 [==============================] - 0s 39ms/step - loss: 0.3624 - binary_accuracy: 0.8371 - val_loss: 0.5602 - val_binary_accuracy: 0.7561\n",
      "Epoch 40/100\n",
      "2/2 [==============================] - 0s 38ms/step - loss: 0.3608 - binary_accuracy: 0.8391 - val_loss: 0.5627 - val_binary_accuracy: 0.7561\n",
      "Epoch 41/100\n",
      "2/2 [==============================] - 0s 41ms/step - loss: 0.3578 - binary_accuracy: 0.8350 - val_loss: 0.5660 - val_binary_accuracy: 0.7480\n",
      "Epoch 42/100\n",
      "2/2 [==============================] - 0s 42ms/step - loss: 0.3555 - binary_accuracy: 0.8391 - val_loss: 0.5689 - val_binary_accuracy: 0.7561\n",
      "Epoch 43/100\n",
      "2/2 [==============================] - 0s 40ms/step - loss: 0.3529 - binary_accuracy: 0.8371 - val_loss: 0.5715 - val_binary_accuracy: 0.7561\n",
      "Epoch 44/100\n",
      "2/2 [==============================] - 0s 41ms/step - loss: 0.3504 - binary_accuracy: 0.8432 - val_loss: 0.5738 - val_binary_accuracy: 0.7480\n",
      "Epoch 45/100\n",
      "2/2 [==============================] - 0s 40ms/step - loss: 0.3484 - binary_accuracy: 0.8493 - val_loss: 0.5775 - val_binary_accuracy: 0.7561\n",
      "Epoch 46/100\n",
      "2/2 [==============================] - 0s 40ms/step - loss: 0.3463 - binary_accuracy: 0.8473 - val_loss: 0.5800 - val_binary_accuracy: 0.7642\n",
      "Epoch 47/100\n",
      "2/2 [==============================] - 0s 40ms/step - loss: 0.3437 - binary_accuracy: 0.8493 - val_loss: 0.5822 - val_binary_accuracy: 0.7480\n",
      "Epoch 48/100\n",
      "2/2 [==============================] - 0s 40ms/step - loss: 0.3419 - binary_accuracy: 0.8534 - val_loss: 0.5861 - val_binary_accuracy: 0.7480\n",
      "Epoch 49/100\n",
      "2/2 [==============================] - 0s 43ms/step - loss: 0.3390 - binary_accuracy: 0.8554 - val_loss: 0.5901 - val_binary_accuracy: 0.7480\n",
      "Epoch 50/100\n",
      "2/2 [==============================] - 0s 41ms/step - loss: 0.3362 - binary_accuracy: 0.8595 - val_loss: 0.5924 - val_binary_accuracy: 0.7480\n",
      "Epoch 51/100\n",
      "2/2 [==============================] - 0s 39ms/step - loss: 0.3339 - binary_accuracy: 0.8615 - val_loss: 0.5950 - val_binary_accuracy: 0.7398\n",
      "Epoch 52/100\n",
      "2/2 [==============================] - 0s 41ms/step - loss: 0.3318 - binary_accuracy: 0.8615 - val_loss: 0.5988 - val_binary_accuracy: 0.7480\n",
      "Epoch 53/100\n",
      "2/2 [==============================] - 0s 41ms/step - loss: 0.3299 - binary_accuracy: 0.8595 - val_loss: 0.5998 - val_binary_accuracy: 0.7480\n",
      "Epoch 54/100\n",
      "2/2 [==============================] - 0s 40ms/step - loss: 0.3271 - binary_accuracy: 0.8615 - val_loss: 0.6020 - val_binary_accuracy: 0.7480\n",
      "Epoch 55/100\n",
      "2/2 [==============================] - 0s 43ms/step - loss: 0.3255 - binary_accuracy: 0.8635 - val_loss: 0.6054 - val_binary_accuracy: 0.7480\n",
      "Epoch 56/100\n",
      "2/2 [==============================] - 0s 40ms/step - loss: 0.3225 - binary_accuracy: 0.8656 - val_loss: 0.6063 - val_binary_accuracy: 0.7398\n",
      "Epoch 57/100\n",
      "2/2 [==============================] - 0s 52ms/step - loss: 0.3203 - binary_accuracy: 0.8635 - val_loss: 0.6077 - val_binary_accuracy: 0.7398\n",
      "Epoch 58/100\n",
      "2/2 [==============================] - 0s 41ms/step - loss: 0.3179 - binary_accuracy: 0.8656 - val_loss: 0.6102 - val_binary_accuracy: 0.7398\n",
      "Epoch 59/100\n",
      "2/2 [==============================] - 0s 44ms/step - loss: 0.3146 - binary_accuracy: 0.8635 - val_loss: 0.6127 - val_binary_accuracy: 0.7398\n",
      "Epoch 60/100\n",
      "2/2 [==============================] - 0s 43ms/step - loss: 0.3133 - binary_accuracy: 0.8635 - val_loss: 0.6178 - val_binary_accuracy: 0.7480\n",
      "Epoch 61/100\n",
      "2/2 [==============================] - 0s 40ms/step - loss: 0.3105 - binary_accuracy: 0.8737 - val_loss: 0.6224 - val_binary_accuracy: 0.7480\n",
      "Epoch 62/100\n",
      "2/2 [==============================] - 0s 42ms/step - loss: 0.3075 - binary_accuracy: 0.8676 - val_loss: 0.6269 - val_binary_accuracy: 0.7398\n",
      "Epoch 63/100\n",
      "2/2 [==============================] - 0s 41ms/step - loss: 0.3055 - binary_accuracy: 0.8676 - val_loss: 0.6287 - val_binary_accuracy: 0.7398\n",
      "Epoch 64/100\n",
      "2/2 [==============================] - 0s 41ms/step - loss: 0.3035 - binary_accuracy: 0.8697 - val_loss: 0.6306 - val_binary_accuracy: 0.7398\n",
      "Epoch 65/100\n",
      "2/2 [==============================] - 0s 41ms/step - loss: 0.3002 - binary_accuracy: 0.8697 - val_loss: 0.6302 - val_binary_accuracy: 0.7398\n",
      "Epoch 66/100\n",
      "2/2 [==============================] - 0s 39ms/step - loss: 0.2987 - binary_accuracy: 0.8778 - val_loss: 0.6291 - val_binary_accuracy: 0.7317\n",
      "Epoch 67/100\n",
      "2/2 [==============================] - 0s 42ms/step - loss: 0.2959 - binary_accuracy: 0.8839 - val_loss: 0.6327 - val_binary_accuracy: 0.7317\n",
      "Epoch 68/100\n",
      "2/2 [==============================] - 0s 41ms/step - loss: 0.2932 - binary_accuracy: 0.8839 - val_loss: 0.6369 - val_binary_accuracy: 0.7398\n",
      "Epoch 69/100\n",
      "2/2 [==============================] - 0s 43ms/step - loss: 0.2904 - binary_accuracy: 0.8798 - val_loss: 0.6425 - val_binary_accuracy: 0.7398\n",
      "Epoch 70/100\n",
      "2/2 [==============================] - 0s 41ms/step - loss: 0.2885 - binary_accuracy: 0.8758 - val_loss: 0.6448 - val_binary_accuracy: 0.7398\n",
      "Epoch 71/100\n",
      "2/2 [==============================] - 0s 39ms/step - loss: 0.2857 - binary_accuracy: 0.8778 - val_loss: 0.6495 - val_binary_accuracy: 0.7398\n",
      "Epoch 72/100\n",
      "2/2 [==============================] - 0s 43ms/step - loss: 0.2835 - binary_accuracy: 0.8880 - val_loss: 0.6537 - val_binary_accuracy: 0.7398\n",
      "Epoch 73/100\n",
      "2/2 [==============================] - 0s 41ms/step - loss: 0.2813 - binary_accuracy: 0.8859 - val_loss: 0.6551 - val_binary_accuracy: 0.7317\n",
      "Epoch 74/100\n",
      "2/2 [==============================] - 0s 45ms/step - loss: 0.2782 - binary_accuracy: 0.8921 - val_loss: 0.6543 - val_binary_accuracy: 0.7317\n",
      "Epoch 75/100\n",
      "2/2 [==============================] - 0s 42ms/step - loss: 0.2757 - binary_accuracy: 0.8921 - val_loss: 0.6537 - val_binary_accuracy: 0.7317\n",
      "Epoch 76/100\n",
      "2/2 [==============================] - 0s 42ms/step - loss: 0.2741 - binary_accuracy: 0.8859 - val_loss: 0.6566 - val_binary_accuracy: 0.7317\n",
      "Epoch 77/100\n",
      "2/2 [==============================] - 0s 42ms/step - loss: 0.2710 - binary_accuracy: 0.8961 - val_loss: 0.6625 - val_binary_accuracy: 0.7317\n",
      "Epoch 78/100\n",
      "2/2 [==============================] - 0s 41ms/step - loss: 0.2685 - binary_accuracy: 0.9002 - val_loss: 0.6670 - val_binary_accuracy: 0.7317\n",
      "Epoch 79/100\n",
      "2/2 [==============================] - 0s 45ms/step - loss: 0.2666 - binary_accuracy: 0.8961 - val_loss: 0.6752 - val_binary_accuracy: 0.7398\n",
      "Epoch 80/100\n",
      "2/2 [==============================] - 0s 40ms/step - loss: 0.2643 - binary_accuracy: 0.9002 - val_loss: 0.6797 - val_binary_accuracy: 0.7236\n",
      "Epoch 81/100\n",
      "2/2 [==============================] - 0s 38ms/step - loss: 0.2610 - binary_accuracy: 0.9022 - val_loss: 0.6769 - val_binary_accuracy: 0.7317\n",
      "Epoch 82/100\n",
      "2/2 [==============================] - 0s 40ms/step - loss: 0.2589 - binary_accuracy: 0.9002 - val_loss: 0.6758 - val_binary_accuracy: 0.7398\n",
      "Epoch 83/100\n",
      "2/2 [==============================] - 0s 40ms/step - loss: 0.2566 - binary_accuracy: 0.9063 - val_loss: 0.6779 - val_binary_accuracy: 0.7317\n",
      "Epoch 84/100\n",
      "2/2 [==============================] - 0s 37ms/step - loss: 0.2536 - binary_accuracy: 0.9043 - val_loss: 0.6798 - val_binary_accuracy: 0.7317\n",
      "Epoch 85/100\n",
      "2/2 [==============================] - 0s 40ms/step - loss: 0.2515 - binary_accuracy: 0.9063 - val_loss: 0.6869 - val_binary_accuracy: 0.7236\n",
      "Epoch 86/100\n",
      "2/2 [==============================] - 0s 41ms/step - loss: 0.2492 - binary_accuracy: 0.9084 - val_loss: 0.6915 - val_binary_accuracy: 0.7317\n",
      "Epoch 87/100\n",
      "2/2 [==============================] - 0s 39ms/step - loss: 0.2461 - binary_accuracy: 0.9063 - val_loss: 0.6970 - val_binary_accuracy: 0.7317\n",
      "Epoch 88/100\n",
      "2/2 [==============================] - 0s 42ms/step - loss: 0.2440 - binary_accuracy: 0.9022 - val_loss: 0.6987 - val_binary_accuracy: 0.7317\n",
      "Epoch 89/100\n",
      "2/2 [==============================] - 0s 46ms/step - loss: 0.2419 - binary_accuracy: 0.9084 - val_loss: 0.7011 - val_binary_accuracy: 0.7317\n",
      "Epoch 90/100\n",
      "2/2 [==============================] - 0s 45ms/step - loss: 0.2397 - binary_accuracy: 0.9063 - val_loss: 0.7021 - val_binary_accuracy: 0.7317\n",
      "Epoch 91/100\n",
      "2/2 [==============================] - 0s 42ms/step - loss: 0.2366 - binary_accuracy: 0.9145 - val_loss: 0.7058 - val_binary_accuracy: 0.7317\n",
      "Epoch 92/100\n",
      "2/2 [==============================] - 0s 45ms/step - loss: 0.2343 - binary_accuracy: 0.9185 - val_loss: 0.7109 - val_binary_accuracy: 0.7317\n",
      "Epoch 93/100\n",
      "2/2 [==============================] - 0s 44ms/step - loss: 0.2318 - binary_accuracy: 0.9104 - val_loss: 0.7121 - val_binary_accuracy: 0.7317\n",
      "Epoch 94/100\n",
      "2/2 [==============================] - 0s 47ms/step - loss: 0.2295 - binary_accuracy: 0.9145 - val_loss: 0.7140 - val_binary_accuracy: 0.7317\n",
      "Epoch 95/100\n",
      "2/2 [==============================] - 0s 43ms/step - loss: 0.2274 - binary_accuracy: 0.9165 - val_loss: 0.7203 - val_binary_accuracy: 0.7317\n",
      "Epoch 96/100\n",
      "2/2 [==============================] - 0s 44ms/step - loss: 0.2244 - binary_accuracy: 0.9206 - val_loss: 0.7253 - val_binary_accuracy: 0.7317\n",
      "Epoch 97/100\n",
      "2/2 [==============================] - 0s 40ms/step - loss: 0.2236 - binary_accuracy: 0.9145 - val_loss: 0.7231 - val_binary_accuracy: 0.7317\n",
      "Epoch 98/100\n",
      "2/2 [==============================] - 0s 41ms/step - loss: 0.2198 - binary_accuracy: 0.9145 - val_loss: 0.7256 - val_binary_accuracy: 0.7398\n",
      "Epoch 99/100\n",
      "2/2 [==============================] - 0s 40ms/step - loss: 0.2172 - binary_accuracy: 0.9165 - val_loss: 0.7350 - val_binary_accuracy: 0.7398\n",
      "Epoch 100/100\n",
      "2/2 [==============================] - 0s 39ms/step - loss: 0.2150 - binary_accuracy: 0.9226 - val_loss: 0.7391 - val_binary_accuracy: 0.7398\n"
     ]
    }
   ],
   "source": [
    "history = model.fit(X_train, y_train,\n",
    "                    validation_data=(X_val, y_val),\n",
    "                    batch_size=256,\n",
    "                    epochs=100)"
   ]
  },
  {
   "cell_type": "code",
   "execution_count": 30,
   "id": "394b8b30",
   "metadata": {
    "execution": {
     "iopub.execute_input": "2022-12-18T13:30:34.001104Z",
     "iopub.status.busy": "2022-12-18T13:30:34.000643Z",
     "iopub.status.idle": "2022-12-18T13:30:34.202556Z",
     "shell.execute_reply": "2022-12-18T13:30:34.200988Z"
    },
    "papermill": {
     "duration": 0.235993,
     "end_time": "2022-12-18T13:30:34.205214",
     "exception": false,
     "start_time": "2022-12-18T13:30:33.969221",
     "status": "completed"
    },
    "tags": []
   },
   "outputs": [
    {
     "name": "stdout",
     "output_type": "stream",
     "text": [
      "16/16 [==============================] - 0s 2ms/step - loss: 0.2123 - binary_accuracy: 0.9206\n",
      "Training Accuracy: 92.06%\n",
      "\n",
      "5/5 [==============================] - 0s 3ms/step - loss: 0.5186 - binary_accuracy: 0.7857\n",
      "Testing Accuracy: 78.57%\n",
      "\n"
     ]
    }
   ],
   "source": [
    "scores = model.evaluate(X_train, y_train)\n",
    "print(\"Training Accuracy: %.2f%%\\n\" % (scores[1]*100))\n",
    "scores = model.evaluate(X_test, y_test)\n",
    "print(\"Testing Accuracy: %.2f%%\\n\" % (scores[1]*100))"
   ]
  },
  {
   "cell_type": "code",
   "execution_count": 31,
   "id": "319edfdf",
   "metadata": {
    "execution": {
     "iopub.execute_input": "2022-12-18T13:30:34.266645Z",
     "iopub.status.busy": "2022-12-18T13:30:34.265427Z",
     "iopub.status.idle": "2022-12-18T13:30:34.484409Z",
     "shell.execute_reply": "2022-12-18T13:30:34.483100Z"
    },
    "papermill": {
     "duration": 0.253432,
     "end_time": "2022-12-18T13:30:34.487393",
     "exception": false,
     "start_time": "2022-12-18T13:30:34.233961",
     "status": "completed"
    },
    "tags": []
   },
   "outputs": [
    {
     "data": {
      "image/png": "[encoded data removed]",
      "text/plain": [
       "<Figure size 432x288 with 1 Axes>"
      ]
     },
     "metadata": {
      "needs_background": "light"
     },
     "output_type": "display_data"
    }
   ],
   "source": [
    "# convert the training history to a dataframe\n",
    "history_df = pd.DataFrame(history.history)\n",
    "# use Pandas native plot method\n",
    "history_df['loss'].plot();"
   ]
  },
  {
   "cell_type": "markdown",
   "id": "b7e6d64e",
   "metadata": {
    "papermill": {
     "duration": 0.032041,
     "end_time": "2022-12-18T13:30:34.549482",
     "exception": false,
     "start_time": "2022-12-18T13:30:34.517441",
     "status": "completed"
    },
    "tags": []
   },
   "source": [
    "## Visualize"
   ]
  },
  {
   "cell_type": "code",
   "execution_count": 32,
   "id": "a361adb7",
   "metadata": {
    "execution": {
     "iopub.execute_input": "2022-12-18T13:30:34.611957Z",
     "iopub.status.busy": "2022-12-18T13:30:34.611554Z",
     "iopub.status.idle": "2022-12-18T13:30:34.759351Z",
     "shell.execute_reply": "2022-12-18T13:30:34.758008Z"
    },
    "papermill": {
     "duration": 0.182368,
     "end_time": "2022-12-18T13:30:34.762207",
     "exception": false,
     "start_time": "2022-12-18T13:30:34.579839",
     "status": "completed"
    },
    "tags": []
   },
   "outputs": [],
   "source": [
    "from sklearn.metrics import roc_curve\n",
    "\n",
    "y_test_pred_probs = model.predict(X_test)"
   ]
  },
  {
   "cell_type": "code",
   "execution_count": 33,
   "id": "73727862",
   "metadata": {
    "execution": {
     "iopub.execute_input": "2022-12-18T13:30:34.823286Z",
     "iopub.status.busy": "2022-12-18T13:30:34.822835Z",
     "iopub.status.idle": "2022-12-18T13:30:34.830643Z",
     "shell.execute_reply": "2022-12-18T13:30:34.829472Z"
    },
    "papermill": {
     "duration": 0.041669,
     "end_time": "2022-12-18T13:30:34.833095",
     "exception": false,
     "start_time": "2022-12-18T13:30:34.791426",
     "status": "completed"
    },
    "tags": []
   },
   "outputs": [],
   "source": [
    "FPR, TPR, _ = roc_curve(y_test, y_test_pred_probs)\n"
   ]
  },
  {
   "cell_type": "code",
   "execution_count": 34,
   "id": "724345d8",
   "metadata": {
    "execution": {
     "iopub.execute_input": "2022-12-18T13:30:34.895984Z",
     "iopub.status.busy": "2022-12-18T13:30:34.894917Z",
     "iopub.status.idle": "2022-12-18T13:30:35.123306Z",
     "shell.execute_reply": "2022-12-18T13:30:35.122093Z"
    },
    "papermill": {
     "duration": 0.261869,
     "end_time": "2022-12-18T13:30:35.126202",
     "exception": false,
     "start_time": "2022-12-18T13:30:34.864333",
     "status": "completed"
    },
    "tags": []
   },
   "outputs": [
    {
     "data": {
      "text/plain": [
       "Text(0, 0.5, 'True Positive Rate')"
      ]
     },
     "execution_count": 34,
     "metadata": {},
     "output_type": "execute_result"
    },
    {
     "data": {
      "image/png": "[encoded data removed]",
      "text/plain": [
       "<Figure size 432x288 with 1 Axes>"
      ]
     },
     "metadata": {
      "needs_background": "light"
     },
     "output_type": "display_data"
    }
   ],
   "source": [
    "plt.plot(FPR, TPR)\n",
    "plt.plot([0,1],[0,1],'--', color='black') #diagonal line\n",
    "plt.title('ROC Curve')\n",
    "plt.xlabel('False Positive Rate')\n",
    "plt.ylabel('True Positive Rate')"
   ]
  }
 ],
 "metadata": {
  "kernelspec": {
   "display_name": "Python 3",
   "language": "python",
   "name": "python3"
  },
  "language_info": {
   "codemirror_mode": {
    "name": "ipython",
    "version": 3
   },
   "file_extension": ".py",
   "mimetype": "text/x-python",
   "name": "python",
   "nbconvert_exporter": "python",
   "pygments_lexer": "ipython3",
   "version": "3.7.12"
  },
  "papermill": {
   "default_parameters": {},
   "duration": 32.197677,
   "end_time": "2022-12-18T13:30:38.657107",
   "environment_variables": {},
   "exception": null,
   "input_path": "__notebook__.ipynb",
   "output_path": "__notebook__.ipynb",
   "parameters": {},
   "start_time": "2022-12-18T13:30:06.459430",
   "version": "2.3.4"
  }
 },
 "nbformat": 4,
 "nbformat_minor": 5
}
