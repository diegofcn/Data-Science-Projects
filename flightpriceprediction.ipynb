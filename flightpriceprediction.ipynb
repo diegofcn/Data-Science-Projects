{
 "cells": [
  {
   "cell_type": "code",
   "execution_count": 1,
   "id": "6c329205",
   "metadata": {
    "_cell_guid": "b1076dfc-b9ad-4769-8c92-a6c4dae69d19",
    "_uuid": "8f2839f25d086af736a60e9eeb907d3b93b6e0e5",
    "execution": {
     "iopub.execute_input": "2023-01-03T21:20:31.642869Z",
     "iopub.status.busy": "2023-01-03T21:20:31.642387Z",
     "iopub.status.idle": "2023-01-03T21:20:31.662930Z",
     "shell.execute_reply": "2023-01-03T21:20:31.660521Z"
    },
    "papermill": {
     "duration": 0.03994,
     "end_time": "2023-01-03T21:20:31.666595",
     "exception": false,
     "start_time": "2023-01-03T21:20:31.626655",
     "status": "completed"
    },
    "tags": []
   },
   "outputs": [
    {
     "name": "stdout",
     "output_type": "stream",
     "text": [
      "/kaggle/input/flight-fare-prediction-mh/Data_Train.xlsx\n",
      "/kaggle/input/flight-fare-prediction-mh/Sample_submission.xlsx\n",
      "/kaggle/input/flight-fare-prediction-mh/Test_set.xlsx\n"
     ]
    }
   ],
   "source": [
    "# This Python 3 environment comes with many helpful analytics libraries installed\n",
    "# It is defined by the kaggle/python Docker image: https://github.com/kaggle/docker-python\n",
    "# For example, here's several helpful packages to load\n",
    "\n",
    "import numpy as np # linear algebra\n",
    "import pandas as pd # data processing, CSV file I/O (e.g. pd.read_csv)\n",
    "\n",
    "# Input data files are available in the read-only \"../input/\" directory\n",
    "# For example, running this (by clicking run or pressing Shift+Enter) will list all files under the input directory\n",
    "\n",
    "import os\n",
    "for dirname, _, filenames in os.walk('/kaggle/input'):\n",
    "    for filename in filenames:\n",
    "        print(os.path.join(dirname, filename))\n",
    "\n",
    "# You can write up to 20GB to the current directory (/kaggle/working/) that gets preserved as output when you create a version using \"Save & Run All\" \n",
    "# You can also write temporary files to /kaggle/temp/, but they won't be saved outside of the current session"
   ]
  },
  {
   "cell_type": "code",
   "execution_count": 2,
   "id": "28b29d67",
   "metadata": {
    "execution": {
     "iopub.execute_input": "2023-01-03T21:20:31.697277Z",
     "iopub.status.busy": "2023-01-03T21:20:31.696913Z",
     "iopub.status.idle": "2023-01-03T21:20:33.305771Z",
     "shell.execute_reply": "2023-01-03T21:20:33.304439Z"
    },
    "papermill": {
     "duration": 1.62919,
     "end_time": "2023-01-03T21:20:33.309211",
     "exception": false,
     "start_time": "2023-01-03T21:20:31.680021",
     "status": "completed"
    },
    "tags": []
   },
   "outputs": [],
   "source": [
    "\n",
    "import seaborn as sns\n",
    "import matplotlib.pyplot as plt\n",
    "import datetime as dt\n",
    "from sklearn import metrics\n",
    "from sklearn.model_selection import train_test_split, RandomizedSearchCV\n",
    "from sklearn.ensemble import RandomForestRegressor, ExtraTreesRegressor\n",
    "import pickle"
   ]
  },
  {
   "cell_type": "markdown",
   "id": "3cd130de",
   "metadata": {
    "papermill": {
     "duration": 0.013536,
     "end_time": "2023-01-03T21:20:33.335830",
     "exception": false,
     "start_time": "2023-01-03T21:20:33.322294",
     "status": "completed"
    },
    "tags": []
   },
   "source": [
    "# Read the data"
   ]
  },
  {
   "cell_type": "code",
   "execution_count": 3,
   "id": "82d513d5",
   "metadata": {
    "execution": {
     "iopub.execute_input": "2023-01-03T21:20:33.365118Z",
     "iopub.status.busy": "2023-01-03T21:20:33.363953Z",
     "iopub.status.idle": "2023-01-03T21:20:35.583654Z",
     "shell.execute_reply": "2023-01-03T21:20:35.582661Z"
    },
    "papermill": {
     "duration": 2.236853,
     "end_time": "2023-01-03T21:20:35.586629",
     "exception": false,
     "start_time": "2023-01-03T21:20:33.349776",
     "status": "completed"
    },
    "tags": []
   },
   "outputs": [
    {
     "data": {
      "text/html": [
       "<div>\n",
       "<style scoped>\n",
       "    .dataframe tbody tr th:only-of-type {\n",
       "        vertical-align: middle;\n",
       "    }\n",
       "\n",
       "    .dataframe tbody tr th {\n",
       "        vertical-align: top;\n",
       "    }\n",
       "\n",
       "    .dataframe thead th {\n",
       "        text-align: right;\n",
       "    }\n",
       "</style>\n",
       "<table border=\"1\" class=\"dataframe\">\n",
       "  <thead>\n",
       "    <tr style=\"text-align: right;\">\n",
       "      <th></th>\n",
       "      <th>Airline</th>\n",
       "      <th>Date_of_Journey</th>\n",
       "      <th>Source</th>\n",
       "      <th>Destination</th>\n",
       "      <th>Route</th>\n",
       "      <th>Dep_Time</th>\n",
       "      <th>Arrival_Time</th>\n",
       "      <th>Duration</th>\n",
       "      <th>Total_Stops</th>\n",
       "      <th>Additional_Info</th>\n",
       "      <th>Price</th>\n",
       "    </tr>\n",
       "  </thead>\n",
       "  <tbody>\n",
       "    <tr>\n",
       "      <th>0</th>\n",
       "      <td>IndiGo</td>\n",
       "      <td>24/03/2019</td>\n",
       "      <td>Banglore</td>\n",
       "      <td>New Delhi</td>\n",
       "      <td>BLR → DEL</td>\n",
       "      <td>22:20</td>\n",
       "      <td>01:10 22 Mar</td>\n",
       "      <td>2h 50m</td>\n",
       "      <td>non-stop</td>\n",
       "      <td>No info</td>\n",
       "      <td>3897</td>\n",
       "    </tr>\n",
       "    <tr>\n",
       "      <th>1</th>\n",
       "      <td>Air India</td>\n",
       "      <td>1/05/2019</td>\n",
       "      <td>Kolkata</td>\n",
       "      <td>Banglore</td>\n",
       "      <td>CCU → IXR → BBI → BLR</td>\n",
       "      <td>05:50</td>\n",
       "      <td>13:15</td>\n",
       "      <td>7h 25m</td>\n",
       "      <td>2 stops</td>\n",
       "      <td>No info</td>\n",
       "      <td>7662</td>\n",
       "    </tr>\n",
       "    <tr>\n",
       "      <th>2</th>\n",
       "      <td>Jet Airways</td>\n",
       "      <td>9/06/2019</td>\n",
       "      <td>Delhi</td>\n",
       "      <td>Cochin</td>\n",
       "      <td>DEL → LKO → BOM → COK</td>\n",
       "      <td>09:25</td>\n",
       "      <td>04:25 10 Jun</td>\n",
       "      <td>19h</td>\n",
       "      <td>2 stops</td>\n",
       "      <td>No info</td>\n",
       "      <td>13882</td>\n",
       "    </tr>\n",
       "    <tr>\n",
       "      <th>3</th>\n",
       "      <td>IndiGo</td>\n",
       "      <td>12/05/2019</td>\n",
       "      <td>Kolkata</td>\n",
       "      <td>Banglore</td>\n",
       "      <td>CCU → NAG → BLR</td>\n",
       "      <td>18:05</td>\n",
       "      <td>23:30</td>\n",
       "      <td>5h 25m</td>\n",
       "      <td>1 stop</td>\n",
       "      <td>No info</td>\n",
       "      <td>6218</td>\n",
       "    </tr>\n",
       "    <tr>\n",
       "      <th>4</th>\n",
       "      <td>IndiGo</td>\n",
       "      <td>01/03/2019</td>\n",
       "      <td>Banglore</td>\n",
       "      <td>New Delhi</td>\n",
       "      <td>BLR → NAG → DEL</td>\n",
       "      <td>16:50</td>\n",
       "      <td>21:35</td>\n",
       "      <td>4h 45m</td>\n",
       "      <td>1 stop</td>\n",
       "      <td>No info</td>\n",
       "      <td>13302</td>\n",
       "    </tr>\n",
       "  </tbody>\n",
       "</table>\n",
       "</div>"
      ],
      "text/plain": [
       "       Airline Date_of_Journey    Source Destination                  Route  \\\n",
       "0       IndiGo      24/03/2019  Banglore   New Delhi              BLR → DEL   \n",
       "1    Air India       1/05/2019   Kolkata    Banglore  CCU → IXR → BBI → BLR   \n",
       "2  Jet Airways       9/06/2019     Delhi      Cochin  DEL → LKO → BOM → COK   \n",
       "3       IndiGo      12/05/2019   Kolkata    Banglore        CCU → NAG → BLR   \n",
       "4       IndiGo      01/03/2019  Banglore   New Delhi        BLR → NAG → DEL   \n",
       "\n",
       "  Dep_Time  Arrival_Time Duration Total_Stops Additional_Info  Price  \n",
       "0    22:20  01:10 22 Mar   2h 50m    non-stop         No info   3897  \n",
       "1    05:50         13:15   7h 25m     2 stops         No info   7662  \n",
       "2    09:25  04:25 10 Jun      19h     2 stops         No info  13882  \n",
       "3    18:05         23:30   5h 25m      1 stop         No info   6218  \n",
       "4    16:50         21:35   4h 45m      1 stop         No info  13302  "
      ]
     },
     "execution_count": 3,
     "metadata": {},
     "output_type": "execute_result"
    }
   ],
   "source": [
    "train_data = pd.read_excel('/kaggle/input/flight-fare-prediction-mh/Data_Train.xlsx')\n",
    "train_data.head()"
   ]
  },
  {
   "cell_type": "markdown",
   "id": "ee07e622",
   "metadata": {
    "papermill": {
     "duration": 0.01222,
     "end_time": "2023-01-03T21:20:35.611988",
     "exception": false,
     "start_time": "2023-01-03T21:20:35.599768",
     "status": "completed"
    },
    "tags": []
   },
   "source": [
    "# Data Analysis/Cleaning and Feature Engineering"
   ]
  },
  {
   "cell_type": "code",
   "execution_count": 4,
   "id": "e10eef07",
   "metadata": {
    "execution": {
     "iopub.execute_input": "2023-01-03T21:20:35.641208Z",
     "iopub.status.busy": "2023-01-03T21:20:35.640784Z",
     "iopub.status.idle": "2023-01-03T21:20:35.672262Z",
     "shell.execute_reply": "2023-01-03T21:20:35.670599Z"
    },
    "papermill": {
     "duration": 0.049579,
     "end_time": "2023-01-03T21:20:35.674758",
     "exception": false,
     "start_time": "2023-01-03T21:20:35.625179",
     "status": "completed"
    },
    "tags": []
   },
   "outputs": [
    {
     "name": "stdout",
     "output_type": "stream",
     "text": [
      "<class 'pandas.core.frame.DataFrame'>\n",
      "RangeIndex: 10683 entries, 0 to 10682\n",
      "Data columns (total 11 columns):\n",
      " #   Column           Non-Null Count  Dtype \n",
      "---  ------           --------------  ----- \n",
      " 0   Airline          10683 non-null  object\n",
      " 1   Date_of_Journey  10683 non-null  object\n",
      " 2   Source           10683 non-null  object\n",
      " 3   Destination      10683 non-null  object\n",
      " 4   Route            10682 non-null  object\n",
      " 5   Dep_Time         10683 non-null  object\n",
      " 6   Arrival_Time     10683 non-null  object\n",
      " 7   Duration         10683 non-null  object\n",
      " 8   Total_Stops      10682 non-null  object\n",
      " 9   Additional_Info  10683 non-null  object\n",
      " 10  Price            10683 non-null  int64 \n",
      "dtypes: int64(1), object(10)\n",
      "memory usage: 918.2+ KB\n"
     ]
    }
   ],
   "source": [
    "train_data.info()"
   ]
  },
  {
   "cell_type": "code",
   "execution_count": 5,
   "id": "67e4241b",
   "metadata": {
    "execution": {
     "iopub.execute_input": "2023-01-03T21:20:35.702479Z",
     "iopub.status.busy": "2023-01-03T21:20:35.701844Z",
     "iopub.status.idle": "2023-01-03T21:20:35.710923Z",
     "shell.execute_reply": "2023-01-03T21:20:35.709416Z"
    },
    "papermill": {
     "duration": 0.026031,
     "end_time": "2023-01-03T21:20:35.713566",
     "exception": false,
     "start_time": "2023-01-03T21:20:35.687535",
     "status": "completed"
    },
    "tags": []
   },
   "outputs": [
    {
     "data": {
      "text/plain": [
       "Cochin       4537\n",
       "Banglore     2871\n",
       "Delhi        1265\n",
       "New Delhi     932\n",
       "Hyderabad     697\n",
       "Kolkata       381\n",
       "Name: Destination, dtype: int64"
      ]
     },
     "execution_count": 5,
     "metadata": {},
     "output_type": "execute_result"
    }
   ],
   "source": [
    "train_data['Destination'].value_counts()"
   ]
  },
  {
   "cell_type": "markdown",
   "id": "0498954e",
   "metadata": {
    "papermill": {
     "duration": 0.012545,
     "end_time": "2023-01-03T21:20:35.739267",
     "exception": false,
     "start_time": "2023-01-03T21:20:35.726722",
     "status": "completed"
    },
    "tags": []
   },
   "source": [
    "### Notes:\n",
    "- We should merge Delhi and New Delhi. We can also see that the most people are going to Cochin, Banglore and New Delhi.\n",
    "- \"Route\" and \"Total stops\" with NULL values. We're gonna drop those values, since there aren't too many."
   ]
  },
  {
   "cell_type": "code",
   "execution_count": 6,
   "id": "4c5b0333",
   "metadata": {
    "execution": {
     "iopub.execute_input": "2023-01-03T21:20:35.766421Z",
     "iopub.status.busy": "2023-01-03T21:20:35.766025Z",
     "iopub.status.idle": "2023-01-03T21:20:35.774832Z",
     "shell.execute_reply": "2023-01-03T21:20:35.772962Z"
    },
    "papermill": {
     "duration": 0.025122,
     "end_time": "2023-01-03T21:20:35.777132",
     "exception": false,
     "start_time": "2023-01-03T21:20:35.752010",
     "status": "completed"
    },
    "tags": []
   },
   "outputs": [],
   "source": [
    "def newdelhi(x):\n",
    "    if x == \"New Delhi\":\n",
    "        return 'Delhi'\n",
    "    else:\n",
    "        return x\n",
    "\n",
    "train_data['Destination'] = train_data['Destination'].apply(newdelhi)"
   ]
  },
  {
   "cell_type": "code",
   "execution_count": 7,
   "id": "f0974be2",
   "metadata": {
    "execution": {
     "iopub.execute_input": "2023-01-03T21:20:35.804750Z",
     "iopub.status.busy": "2023-01-03T21:20:35.804368Z",
     "iopub.status.idle": "2023-01-03T21:20:35.827437Z",
     "shell.execute_reply": "2023-01-03T21:20:35.826612Z"
    },
    "papermill": {
     "duration": 0.039746,
     "end_time": "2023-01-03T21:20:35.829809",
     "exception": false,
     "start_time": "2023-01-03T21:20:35.790063",
     "status": "completed"
    },
    "tags": []
   },
   "outputs": [
    {
     "name": "stdout",
     "output_type": "stream",
     "text": [
      "<class 'pandas.core.frame.DataFrame'>\n",
      "Int64Index: 10682 entries, 0 to 10682\n",
      "Data columns (total 11 columns):\n",
      " #   Column           Non-Null Count  Dtype \n",
      "---  ------           --------------  ----- \n",
      " 0   Airline          10682 non-null  object\n",
      " 1   Date_of_Journey  10682 non-null  object\n",
      " 2   Source           10682 non-null  object\n",
      " 3   Destination      10682 non-null  object\n",
      " 4   Route            10682 non-null  object\n",
      " 5   Dep_Time         10682 non-null  object\n",
      " 6   Arrival_Time     10682 non-null  object\n",
      " 7   Duration         10682 non-null  object\n",
      " 8   Total_Stops      10682 non-null  object\n",
      " 9   Additional_Info  10682 non-null  object\n",
      " 10  Price            10682 non-null  int64 \n",
      "dtypes: int64(1), object(10)\n",
      "memory usage: 1001.4+ KB\n"
     ]
    }
   ],
   "source": [
    "train_data.dropna(inplace=True)\n",
    "train_data.info()"
   ]
  },
  {
   "cell_type": "markdown",
   "id": "618c4120",
   "metadata": {
    "papermill": {
     "duration": 0.012663,
     "end_time": "2023-01-03T21:20:35.855334",
     "exception": false,
     "start_time": "2023-01-03T21:20:35.842671",
     "status": "completed"
    },
    "tags": []
   },
   "source": [
    "### Extract journey day and month from the Date of journey. Then drop Date of the journey column."
   ]
  },
  {
   "cell_type": "code",
   "execution_count": 8,
   "id": "2440d600",
   "metadata": {
    "execution": {
     "iopub.execute_input": "2023-01-03T21:20:35.885522Z",
     "iopub.status.busy": "2023-01-03T21:20:35.885023Z",
     "iopub.status.idle": "2023-01-03T21:20:35.903797Z",
     "shell.execute_reply": "2023-01-03T21:20:35.902088Z"
    },
    "papermill": {
     "duration": 0.038373,
     "end_time": "2023-01-03T21:20:35.906772",
     "exception": false,
     "start_time": "2023-01-03T21:20:35.868399",
     "status": "completed"
    },
    "tags": []
   },
   "outputs": [],
   "source": [
    "train_data['Journey_day'] = pd.to_datetime(train_data['Date_of_Journey'], format='%d/%m/%Y').dt.day\n",
    "train_data['Journey_month'] = pd.to_datetime(train_data['Date_of_Journey'], format='%d/%m/%Y').dt.month"
   ]
  },
  {
   "cell_type": "code",
   "execution_count": 9,
   "id": "2c9ef972",
   "metadata": {
    "execution": {
     "iopub.execute_input": "2023-01-03T21:20:35.934111Z",
     "iopub.status.busy": "2023-01-03T21:20:35.933654Z",
     "iopub.status.idle": "2023-01-03T21:20:35.956283Z",
     "shell.execute_reply": "2023-01-03T21:20:35.954540Z"
    },
    "papermill": {
     "duration": 0.039948,
     "end_time": "2023-01-03T21:20:35.959612",
     "exception": false,
     "start_time": "2023-01-03T21:20:35.919664",
     "status": "completed"
    },
    "tags": []
   },
   "outputs": [
    {
     "data": {
      "text/html": [
       "<div>\n",
       "<style scoped>\n",
       "    .dataframe tbody tr th:only-of-type {\n",
       "        vertical-align: middle;\n",
       "    }\n",
       "\n",
       "    .dataframe tbody tr th {\n",
       "        vertical-align: top;\n",
       "    }\n",
       "\n",
       "    .dataframe thead th {\n",
       "        text-align: right;\n",
       "    }\n",
       "</style>\n",
       "<table border=\"1\" class=\"dataframe\">\n",
       "  <thead>\n",
       "    <tr style=\"text-align: right;\">\n",
       "      <th></th>\n",
       "      <th>Airline</th>\n",
       "      <th>Source</th>\n",
       "      <th>Destination</th>\n",
       "      <th>Route</th>\n",
       "      <th>Dep_Time</th>\n",
       "      <th>Arrival_Time</th>\n",
       "      <th>Duration</th>\n",
       "      <th>Total_Stops</th>\n",
       "      <th>Additional_Info</th>\n",
       "      <th>Price</th>\n",
       "      <th>Journey_day</th>\n",
       "      <th>Journey_month</th>\n",
       "    </tr>\n",
       "  </thead>\n",
       "  <tbody>\n",
       "    <tr>\n",
       "      <th>0</th>\n",
       "      <td>IndiGo</td>\n",
       "      <td>Banglore</td>\n",
       "      <td>Delhi</td>\n",
       "      <td>BLR → DEL</td>\n",
       "      <td>22:20</td>\n",
       "      <td>01:10 22 Mar</td>\n",
       "      <td>2h 50m</td>\n",
       "      <td>non-stop</td>\n",
       "      <td>No info</td>\n",
       "      <td>3897</td>\n",
       "      <td>24</td>\n",
       "      <td>3</td>\n",
       "    </tr>\n",
       "    <tr>\n",
       "      <th>1</th>\n",
       "      <td>Air India</td>\n",
       "      <td>Kolkata</td>\n",
       "      <td>Banglore</td>\n",
       "      <td>CCU → IXR → BBI → BLR</td>\n",
       "      <td>05:50</td>\n",
       "      <td>13:15</td>\n",
       "      <td>7h 25m</td>\n",
       "      <td>2 stops</td>\n",
       "      <td>No info</td>\n",
       "      <td>7662</td>\n",
       "      <td>1</td>\n",
       "      <td>5</td>\n",
       "    </tr>\n",
       "    <tr>\n",
       "      <th>2</th>\n",
       "      <td>Jet Airways</td>\n",
       "      <td>Delhi</td>\n",
       "      <td>Cochin</td>\n",
       "      <td>DEL → LKO → BOM → COK</td>\n",
       "      <td>09:25</td>\n",
       "      <td>04:25 10 Jun</td>\n",
       "      <td>19h</td>\n",
       "      <td>2 stops</td>\n",
       "      <td>No info</td>\n",
       "      <td>13882</td>\n",
       "      <td>9</td>\n",
       "      <td>6</td>\n",
       "    </tr>\n",
       "    <tr>\n",
       "      <th>3</th>\n",
       "      <td>IndiGo</td>\n",
       "      <td>Kolkata</td>\n",
       "      <td>Banglore</td>\n",
       "      <td>CCU → NAG → BLR</td>\n",
       "      <td>18:05</td>\n",
       "      <td>23:30</td>\n",
       "      <td>5h 25m</td>\n",
       "      <td>1 stop</td>\n",
       "      <td>No info</td>\n",
       "      <td>6218</td>\n",
       "      <td>12</td>\n",
       "      <td>5</td>\n",
       "    </tr>\n",
       "    <tr>\n",
       "      <th>4</th>\n",
       "      <td>IndiGo</td>\n",
       "      <td>Banglore</td>\n",
       "      <td>Delhi</td>\n",
       "      <td>BLR → NAG → DEL</td>\n",
       "      <td>16:50</td>\n",
       "      <td>21:35</td>\n",
       "      <td>4h 45m</td>\n",
       "      <td>1 stop</td>\n",
       "      <td>No info</td>\n",
       "      <td>13302</td>\n",
       "      <td>1</td>\n",
       "      <td>3</td>\n",
       "    </tr>\n",
       "  </tbody>\n",
       "</table>\n",
       "</div>"
      ],
      "text/plain": [
       "       Airline    Source Destination                  Route Dep_Time  \\\n",
       "0       IndiGo  Banglore       Delhi              BLR → DEL    22:20   \n",
       "1    Air India   Kolkata    Banglore  CCU → IXR → BBI → BLR    05:50   \n",
       "2  Jet Airways     Delhi      Cochin  DEL → LKO → BOM → COK    09:25   \n",
       "3       IndiGo   Kolkata    Banglore        CCU → NAG → BLR    18:05   \n",
       "4       IndiGo  Banglore       Delhi        BLR → NAG → DEL    16:50   \n",
       "\n",
       "   Arrival_Time Duration Total_Stops Additional_Info  Price  Journey_day  \\\n",
       "0  01:10 22 Mar   2h 50m    non-stop         No info   3897           24   \n",
       "1         13:15   7h 25m     2 stops         No info   7662            1   \n",
       "2  04:25 10 Jun      19h     2 stops         No info  13882            9   \n",
       "3         23:30   5h 25m      1 stop         No info   6218           12   \n",
       "4         21:35   4h 45m      1 stop         No info  13302            1   \n",
       "\n",
       "   Journey_month  \n",
       "0              3  \n",
       "1              5  \n",
       "2              6  \n",
       "3              5  \n",
       "4              3  "
      ]
     },
     "execution_count": 9,
     "metadata": {},
     "output_type": "execute_result"
    }
   ],
   "source": [
    "train_data.drop('Date_of_Journey', inplace=True, axis=1)\n",
    "train_data.head()"
   ]
  },
  {
   "cell_type": "markdown",
   "id": "8d6bed81",
   "metadata": {
    "papermill": {
     "duration": 0.014553,
     "end_time": "2023-01-03T21:20:35.988468",
     "exception": false,
     "start_time": "2023-01-03T21:20:35.973915",
     "status": "completed"
    },
    "tags": []
   },
   "source": [
    "### Now Extract hours and minutes from Departure and Arrival Time. Then drop those columns"
   ]
  },
  {
   "cell_type": "code",
   "execution_count": 10,
   "id": "09c526e4",
   "metadata": {
    "execution": {
     "iopub.execute_input": "2023-01-03T21:20:36.017696Z",
     "iopub.status.busy": "2023-01-03T21:20:36.017287Z",
     "iopub.status.idle": "2023-01-03T21:20:36.235870Z",
     "shell.execute_reply": "2023-01-03T21:20:36.234647Z"
    },
    "papermill": {
     "duration": 0.236047,
     "end_time": "2023-01-03T21:20:36.238517",
     "exception": false,
     "start_time": "2023-01-03T21:20:36.002470",
     "status": "completed"
    },
    "tags": []
   },
   "outputs": [
    {
     "data": {
      "text/html": [
       "<div>\n",
       "<style scoped>\n",
       "    .dataframe tbody tr th:only-of-type {\n",
       "        vertical-align: middle;\n",
       "    }\n",
       "\n",
       "    .dataframe tbody tr th {\n",
       "        vertical-align: top;\n",
       "    }\n",
       "\n",
       "    .dataframe thead th {\n",
       "        text-align: right;\n",
       "    }\n",
       "</style>\n",
       "<table border=\"1\" class=\"dataframe\">\n",
       "  <thead>\n",
       "    <tr style=\"text-align: right;\">\n",
       "      <th></th>\n",
       "      <th>Airline</th>\n",
       "      <th>Source</th>\n",
       "      <th>Destination</th>\n",
       "      <th>Route</th>\n",
       "      <th>Duration</th>\n",
       "      <th>Total_Stops</th>\n",
       "      <th>Additional_Info</th>\n",
       "      <th>Price</th>\n",
       "      <th>Journey_day</th>\n",
       "      <th>Journey_month</th>\n",
       "      <th>Dep_hour</th>\n",
       "      <th>Dep_min</th>\n",
       "      <th>Arrival_hour</th>\n",
       "      <th>Arrival_min</th>\n",
       "    </tr>\n",
       "  </thead>\n",
       "  <tbody>\n",
       "    <tr>\n",
       "      <th>0</th>\n",
       "      <td>IndiGo</td>\n",
       "      <td>Banglore</td>\n",
       "      <td>Delhi</td>\n",
       "      <td>BLR → DEL</td>\n",
       "      <td>2h 50m</td>\n",
       "      <td>non-stop</td>\n",
       "      <td>No info</td>\n",
       "      <td>3897</td>\n",
       "      <td>24</td>\n",
       "      <td>3</td>\n",
       "      <td>22</td>\n",
       "      <td>20</td>\n",
       "      <td>1</td>\n",
       "      <td>10</td>\n",
       "    </tr>\n",
       "    <tr>\n",
       "      <th>1</th>\n",
       "      <td>Air India</td>\n",
       "      <td>Kolkata</td>\n",
       "      <td>Banglore</td>\n",
       "      <td>CCU → IXR → BBI → BLR</td>\n",
       "      <td>7h 25m</td>\n",
       "      <td>2 stops</td>\n",
       "      <td>No info</td>\n",
       "      <td>7662</td>\n",
       "      <td>1</td>\n",
       "      <td>5</td>\n",
       "      <td>5</td>\n",
       "      <td>50</td>\n",
       "      <td>13</td>\n",
       "      <td>15</td>\n",
       "    </tr>\n",
       "    <tr>\n",
       "      <th>2</th>\n",
       "      <td>Jet Airways</td>\n",
       "      <td>Delhi</td>\n",
       "      <td>Cochin</td>\n",
       "      <td>DEL → LKO → BOM → COK</td>\n",
       "      <td>19h</td>\n",
       "      <td>2 stops</td>\n",
       "      <td>No info</td>\n",
       "      <td>13882</td>\n",
       "      <td>9</td>\n",
       "      <td>6</td>\n",
       "      <td>9</td>\n",
       "      <td>25</td>\n",
       "      <td>4</td>\n",
       "      <td>25</td>\n",
       "    </tr>\n",
       "    <tr>\n",
       "      <th>3</th>\n",
       "      <td>IndiGo</td>\n",
       "      <td>Kolkata</td>\n",
       "      <td>Banglore</td>\n",
       "      <td>CCU → NAG → BLR</td>\n",
       "      <td>5h 25m</td>\n",
       "      <td>1 stop</td>\n",
       "      <td>No info</td>\n",
       "      <td>6218</td>\n",
       "      <td>12</td>\n",
       "      <td>5</td>\n",
       "      <td>18</td>\n",
       "      <td>5</td>\n",
       "      <td>23</td>\n",
       "      <td>30</td>\n",
       "    </tr>\n",
       "    <tr>\n",
       "      <th>4</th>\n",
       "      <td>IndiGo</td>\n",
       "      <td>Banglore</td>\n",
       "      <td>Delhi</td>\n",
       "      <td>BLR → NAG → DEL</td>\n",
       "      <td>4h 45m</td>\n",
       "      <td>1 stop</td>\n",
       "      <td>No info</td>\n",
       "      <td>13302</td>\n",
       "      <td>1</td>\n",
       "      <td>3</td>\n",
       "      <td>16</td>\n",
       "      <td>50</td>\n",
       "      <td>21</td>\n",
       "      <td>35</td>\n",
       "    </tr>\n",
       "  </tbody>\n",
       "</table>\n",
       "</div>"
      ],
      "text/plain": [
       "       Airline    Source Destination                  Route Duration  \\\n",
       "0       IndiGo  Banglore       Delhi              BLR → DEL   2h 50m   \n",
       "1    Air India   Kolkata    Banglore  CCU → IXR → BBI → BLR   7h 25m   \n",
       "2  Jet Airways     Delhi      Cochin  DEL → LKO → BOM → COK      19h   \n",
       "3       IndiGo   Kolkata    Banglore        CCU → NAG → BLR   5h 25m   \n",
       "4       IndiGo  Banglore       Delhi        BLR → NAG → DEL   4h 45m   \n",
       "\n",
       "  Total_Stops Additional_Info  Price  Journey_day  Journey_month  Dep_hour  \\\n",
       "0    non-stop         No info   3897           24              3        22   \n",
       "1     2 stops         No info   7662            1              5         5   \n",
       "2     2 stops         No info  13882            9              6         9   \n",
       "3      1 stop         No info   6218           12              5        18   \n",
       "4      1 stop         No info  13302            1              3        16   \n",
       "\n",
       "   Dep_min  Arrival_hour  Arrival_min  \n",
       "0       20             1           10  \n",
       "1       50            13           15  \n",
       "2       25             4           25  \n",
       "3        5            23           30  \n",
       "4       50            21           35  "
      ]
     },
     "execution_count": 10,
     "metadata": {},
     "output_type": "execute_result"
    }
   ],
   "source": [
    "train_data['Dep_hour'] = pd.to_datetime(train_data['Dep_Time']).dt.hour\n",
    "train_data['Dep_min'] = pd.to_datetime(train_data['Dep_Time']).dt.minute\n",
    "train_data.drop('Dep_Time',axis=1,inplace=True)\n",
    "\n",
    "train_data['Arrival_hour'] = pd.to_datetime(train_data['Arrival_Time']).dt.hour\n",
    "train_data['Arrival_min'] = pd.to_datetime(train_data['Arrival_Time']).dt.minute\n",
    "train_data.drop('Arrival_Time',axis=1,inplace=True)\n",
    "\n",
    "train_data.head()"
   ]
  },
  {
   "cell_type": "code",
   "execution_count": 11,
   "id": "4f21429d",
   "metadata": {
    "execution": {
     "iopub.execute_input": "2023-01-03T21:20:36.267911Z",
     "iopub.status.busy": "2023-01-03T21:20:36.267486Z",
     "iopub.status.idle": "2023-01-03T21:20:36.279255Z",
     "shell.execute_reply": "2023-01-03T21:20:36.278339Z"
    },
    "papermill": {
     "duration": 0.029332,
     "end_time": "2023-01-03T21:20:36.281249",
     "exception": false,
     "start_time": "2023-01-03T21:20:36.251917",
     "status": "completed"
    },
    "tags": []
   },
   "outputs": [
    {
     "data": {
      "text/plain": [
       "2h 50m     550\n",
       "1h 30m     386\n",
       "2h 45m     337\n",
       "2h 55m     337\n",
       "2h 35m     329\n",
       "          ... \n",
       "31h 30m      1\n",
       "30h 25m      1\n",
       "42h 5m       1\n",
       "4h 10m       1\n",
       "47h 40m      1\n",
       "Name: Duration, Length: 368, dtype: int64"
      ]
     },
     "execution_count": 11,
     "metadata": {},
     "output_type": "execute_result"
    }
   ],
   "source": [
    "train_data['Duration'].value_counts()"
   ]
  },
  {
   "cell_type": "markdown",
   "id": "5eb6efe0",
   "metadata": {
    "papermill": {
     "duration": 0.012847,
     "end_time": "2023-01-03T21:20:36.307688",
     "exception": false,
     "start_time": "2023-01-03T21:20:36.294841",
     "status": "completed"
    },
    "tags": []
   },
   "source": [
    "### Extract hours and minutes from Duration. Then drop the Duration column"
   ]
  },
  {
   "cell_type": "code",
   "execution_count": 12,
   "id": "27aff583",
   "metadata": {
    "execution": {
     "iopub.execute_input": "2023-01-03T21:20:36.337002Z",
     "iopub.status.busy": "2023-01-03T21:20:36.336600Z",
     "iopub.status.idle": "2023-01-03T21:20:36.381883Z",
     "shell.execute_reply": "2023-01-03T21:20:36.380937Z"
    },
    "papermill": {
     "duration": 0.063016,
     "end_time": "2023-01-03T21:20:36.383822",
     "exception": false,
     "start_time": "2023-01-03T21:20:36.320806",
     "status": "completed"
    },
    "tags": []
   },
   "outputs": [
    {
     "data": {
      "text/html": [
       "<div>\n",
       "<style scoped>\n",
       "    .dataframe tbody tr th:only-of-type {\n",
       "        vertical-align: middle;\n",
       "    }\n",
       "\n",
       "    .dataframe tbody tr th {\n",
       "        vertical-align: top;\n",
       "    }\n",
       "\n",
       "    .dataframe thead th {\n",
       "        text-align: right;\n",
       "    }\n",
       "</style>\n",
       "<table border=\"1\" class=\"dataframe\">\n",
       "  <thead>\n",
       "    <tr style=\"text-align: right;\">\n",
       "      <th></th>\n",
       "      <th>Airline</th>\n",
       "      <th>Source</th>\n",
       "      <th>Destination</th>\n",
       "      <th>Route</th>\n",
       "      <th>Total_Stops</th>\n",
       "      <th>Additional_Info</th>\n",
       "      <th>Price</th>\n",
       "      <th>Journey_day</th>\n",
       "      <th>Journey_month</th>\n",
       "      <th>Dep_hour</th>\n",
       "      <th>Dep_min</th>\n",
       "      <th>Arrival_hour</th>\n",
       "      <th>Arrival_min</th>\n",
       "      <th>Duration_hours</th>\n",
       "      <th>Duration_mins</th>\n",
       "    </tr>\n",
       "  </thead>\n",
       "  <tbody>\n",
       "    <tr>\n",
       "      <th>0</th>\n",
       "      <td>IndiGo</td>\n",
       "      <td>Banglore</td>\n",
       "      <td>Delhi</td>\n",
       "      <td>BLR → DEL</td>\n",
       "      <td>non-stop</td>\n",
       "      <td>No info</td>\n",
       "      <td>3897</td>\n",
       "      <td>24</td>\n",
       "      <td>3</td>\n",
       "      <td>22</td>\n",
       "      <td>20</td>\n",
       "      <td>1</td>\n",
       "      <td>10</td>\n",
       "      <td>2</td>\n",
       "      <td>50</td>\n",
       "    </tr>\n",
       "    <tr>\n",
       "      <th>1</th>\n",
       "      <td>Air India</td>\n",
       "      <td>Kolkata</td>\n",
       "      <td>Banglore</td>\n",
       "      <td>CCU → IXR → BBI → BLR</td>\n",
       "      <td>2 stops</td>\n",
       "      <td>No info</td>\n",
       "      <td>7662</td>\n",
       "      <td>1</td>\n",
       "      <td>5</td>\n",
       "      <td>5</td>\n",
       "      <td>50</td>\n",
       "      <td>13</td>\n",
       "      <td>15</td>\n",
       "      <td>7</td>\n",
       "      <td>25</td>\n",
       "    </tr>\n",
       "    <tr>\n",
       "      <th>2</th>\n",
       "      <td>Jet Airways</td>\n",
       "      <td>Delhi</td>\n",
       "      <td>Cochin</td>\n",
       "      <td>DEL → LKO → BOM → COK</td>\n",
       "      <td>2 stops</td>\n",
       "      <td>No info</td>\n",
       "      <td>13882</td>\n",
       "      <td>9</td>\n",
       "      <td>6</td>\n",
       "      <td>9</td>\n",
       "      <td>25</td>\n",
       "      <td>4</td>\n",
       "      <td>25</td>\n",
       "      <td>19</td>\n",
       "      <td>0</td>\n",
       "    </tr>\n",
       "    <tr>\n",
       "      <th>3</th>\n",
       "      <td>IndiGo</td>\n",
       "      <td>Kolkata</td>\n",
       "      <td>Banglore</td>\n",
       "      <td>CCU → NAG → BLR</td>\n",
       "      <td>1 stop</td>\n",
       "      <td>No info</td>\n",
       "      <td>6218</td>\n",
       "      <td>12</td>\n",
       "      <td>5</td>\n",
       "      <td>18</td>\n",
       "      <td>5</td>\n",
       "      <td>23</td>\n",
       "      <td>30</td>\n",
       "      <td>5</td>\n",
       "      <td>25</td>\n",
       "    </tr>\n",
       "    <tr>\n",
       "      <th>4</th>\n",
       "      <td>IndiGo</td>\n",
       "      <td>Banglore</td>\n",
       "      <td>Delhi</td>\n",
       "      <td>BLR → NAG → DEL</td>\n",
       "      <td>1 stop</td>\n",
       "      <td>No info</td>\n",
       "      <td>13302</td>\n",
       "      <td>1</td>\n",
       "      <td>3</td>\n",
       "      <td>16</td>\n",
       "      <td>50</td>\n",
       "      <td>21</td>\n",
       "      <td>35</td>\n",
       "      <td>4</td>\n",
       "      <td>45</td>\n",
       "    </tr>\n",
       "  </tbody>\n",
       "</table>\n",
       "</div>"
      ],
      "text/plain": [
       "       Airline    Source Destination                  Route Total_Stops  \\\n",
       "0       IndiGo  Banglore       Delhi              BLR → DEL    non-stop   \n",
       "1    Air India   Kolkata    Banglore  CCU → IXR → BBI → BLR     2 stops   \n",
       "2  Jet Airways     Delhi      Cochin  DEL → LKO → BOM → COK     2 stops   \n",
       "3       IndiGo   Kolkata    Banglore        CCU → NAG → BLR      1 stop   \n",
       "4       IndiGo  Banglore       Delhi        BLR → NAG → DEL      1 stop   \n",
       "\n",
       "  Additional_Info  Price  Journey_day  Journey_month  Dep_hour  Dep_min  \\\n",
       "0         No info   3897           24              3        22       20   \n",
       "1         No info   7662            1              5         5       50   \n",
       "2         No info  13882            9              6         9       25   \n",
       "3         No info   6218           12              5        18        5   \n",
       "4         No info  13302            1              3        16       50   \n",
       "\n",
       "   Arrival_hour  Arrival_min  Duration_hours  Duration_mins  \n",
       "0             1           10               2             50  \n",
       "1            13           15               7             25  \n",
       "2             4           25              19              0  \n",
       "3            23           30               5             25  \n",
       "4            21           35               4             45  "
      ]
     },
     "execution_count": 12,
     "metadata": {},
     "output_type": "execute_result"
    }
   ],
   "source": [
    "duration = list(train_data['Duration'])\n",
    "\n",
    "for i in range(len(duration)):\n",
    "    if len(duration[i].split()) != 2:\n",
    "        if 'h' in duration[i]:\n",
    "            duration[i] = duration[i] + ' 0m'\n",
    "        else:\n",
    "            duration[i] = '0h ' + duration[i]\n",
    "            \n",
    "duration_hour = []\n",
    "duration_min = []\n",
    "\n",
    "for i in duration:\n",
    "    h,m = i.split()\n",
    "    duration_hour.append(int(h[:-1]))\n",
    "    duration_min.append(int(m[:-1]))\n",
    "    \n",
    "train_data['Duration_hours'] = duration_hour\n",
    "train_data['Duration_mins'] = duration_min\n",
    "\n",
    "train_data.drop('Duration',axis=1,inplace=True)\n",
    "train_data.head()"
   ]
  },
  {
   "cell_type": "markdown",
   "id": "1aca4b12",
   "metadata": {
    "papermill": {
     "duration": 0.01289,
     "end_time": "2023-01-03T21:20:36.410173",
     "exception": false,
     "start_time": "2023-01-03T21:20:36.397283",
     "status": "completed"
    },
    "tags": []
   },
   "source": [
    "### Plot Ariline vs Price to see which Airline is the most highly priced"
   ]
  },
  {
   "cell_type": "code",
   "execution_count": 13,
   "id": "608c57a5",
   "metadata": {
    "execution": {
     "iopub.execute_input": "2023-01-03T21:20:36.438148Z",
     "iopub.status.busy": "2023-01-03T21:20:36.437770Z",
     "iopub.status.idle": "2023-01-03T21:20:36.930427Z",
     "shell.execute_reply": "2023-01-03T21:20:36.929141Z"
    },
    "papermill": {
     "duration": 0.509181,
     "end_time": "2023-01-03T21:20:36.932579",
     "exception": false,
     "start_time": "2023-01-03T21:20:36.423398",
     "status": "completed"
    },
    "tags": []
   },
   "outputs": [
    {
     "data": {
      "text/plain": [
       "<seaborn.axisgrid.FacetGrid at 0x7f5a3a584390>"
      ]
     },
     "execution_count": 13,
     "metadata": {},
     "output_type": "execute_result"
    },
    {
     "data": {
      "image/png": "[encoded data removed]",
      "text/plain": [
       "<Figure size 1296x432 with 1 Axes>"
      ]
     },
     "metadata": {
      "needs_background": "light"
     },
     "output_type": "display_data"
    }
   ],
   "source": [
    "sns.catplot(x='Airline',y='Price',data=train_data.sort_values('Price',ascending=False),kind='boxen',aspect=3,height=6)\n"
   ]
  },
  {
   "cell_type": "markdown",
   "id": "7ba42389",
   "metadata": {
    "papermill": {
     "duration": 0.014993,
     "end_time": "2023-01-03T21:20:36.962788",
     "exception": false,
     "start_time": "2023-01-03T21:20:36.947795",
     "status": "completed"
    },
    "tags": []
   },
   "source": [
    "### Plot Source vs Price "
   ]
  },
  {
   "cell_type": "code",
   "execution_count": 14,
   "id": "607d1fff",
   "metadata": {
    "execution": {
     "iopub.execute_input": "2023-01-03T21:20:36.995035Z",
     "iopub.status.busy": "2023-01-03T21:20:36.994617Z",
     "iopub.status.idle": "2023-01-03T21:20:37.275332Z",
     "shell.execute_reply": "2023-01-03T21:20:37.274083Z"
    },
    "papermill": {
     "duration": 0.299997,
     "end_time": "2023-01-03T21:20:37.278168",
     "exception": false,
     "start_time": "2023-01-03T21:20:36.978171",
     "status": "completed"
    },
    "tags": []
   },
   "outputs": [
    {
     "data": {
      "text/plain": [
       "<seaborn.axisgrid.FacetGrid at 0x7f5a5f2f2650>"
      ]
     },
     "execution_count": 14,
     "metadata": {},
     "output_type": "execute_result"
    },
    {
     "data": {
      "image/png": "[encoded data removed]",
      "text/plain": [
       "<Figure size 864x288 with 1 Axes>"
      ]
     },
     "metadata": {
      "needs_background": "light"
     },
     "output_type": "display_data"
    }
   ],
   "source": [
    "sns.catplot(x='Source',y='Price',data=train_data.sort_values('Price',ascending=False),kind='boxen',aspect=3,height=4)"
   ]
  },
  {
   "cell_type": "markdown",
   "id": "3df90a30",
   "metadata": {
    "papermill": {
     "duration": 0.014598,
     "end_time": "2023-01-03T21:20:37.307667",
     "exception": false,
     "start_time": "2023-01-03T21:20:37.293069",
     "status": "completed"
    },
    "tags": []
   },
   "source": []
  },
  {
   "cell_type": "markdown",
   "id": "cdd30380",
   "metadata": {
    "papermill": {
     "duration": 0.014761,
     "end_time": "2023-01-03T21:20:37.337617",
     "exception": false,
     "start_time": "2023-01-03T21:20:37.322856",
     "status": "completed"
    },
    "tags": []
   },
   "source": [
    "Doesn't matter where you go to, if you start from Banglore, you are paying the highest amount of money."
   ]
  },
  {
   "cell_type": "markdown",
   "id": "283e4dc8",
   "metadata": {
    "papermill": {
     "duration": 0.014574,
     "end_time": "2023-01-03T21:20:37.367203",
     "exception": false,
     "start_time": "2023-01-03T21:20:37.352629",
     "status": "completed"
    },
    "tags": []
   },
   "source": [
    "### Plot Destination vs. Price\n"
   ]
  },
  {
   "cell_type": "code",
   "execution_count": 15,
   "id": "f57fa11e",
   "metadata": {
    "execution": {
     "iopub.execute_input": "2023-01-03T21:20:37.400334Z",
     "iopub.status.busy": "2023-01-03T21:20:37.399611Z",
     "iopub.status.idle": "2023-01-03T21:20:37.691634Z",
     "shell.execute_reply": "2023-01-03T21:20:37.690489Z"
    },
    "papermill": {
     "duration": 0.311086,
     "end_time": "2023-01-03T21:20:37.693664",
     "exception": false,
     "start_time": "2023-01-03T21:20:37.382578",
     "status": "completed"
    },
    "tags": []
   },
   "outputs": [
    {
     "data": {
      "text/plain": [
       "<seaborn.axisgrid.FacetGrid at 0x7f5a3a34ed90>"
      ]
     },
     "execution_count": 15,
     "metadata": {},
     "output_type": "execute_result"
    },
    {
     "data": {
      "image/png": "[encoded data removed]",
      "text/plain": [
       "<Figure size 864x288 with 1 Axes>"
      ]
     },
     "metadata": {
      "needs_background": "light"
     },
     "output_type": "display_data"
    }
   ],
   "source": [
    "sns.catplot(x='Destination',y='Price',data=train_data.sort_values('Price',ascending=False),kind='boxen',aspect=3,height=4)"
   ]
  },
  {
   "cell_type": "markdown",
   "id": "da1d9e25",
   "metadata": {
    "papermill": {
     "duration": 0.014303,
     "end_time": "2023-01-03T21:20:37.722655",
     "exception": false,
     "start_time": "2023-01-03T21:20:37.708352",
     "status": "completed"
    },
    "tags": []
   },
   "source": [
    "### Create dummy values for categorical columns"
   ]
  },
  {
   "cell_type": "code",
   "execution_count": 16,
   "id": "6222771f",
   "metadata": {
    "execution": {
     "iopub.execute_input": "2023-01-03T21:20:37.753796Z",
     "iopub.status.busy": "2023-01-03T21:20:37.753249Z",
     "iopub.status.idle": "2023-01-03T21:20:37.771185Z",
     "shell.execute_reply": "2023-01-03T21:20:37.770326Z"
    },
    "papermill": {
     "duration": 0.03657,
     "end_time": "2023-01-03T21:20:37.773876",
     "exception": false,
     "start_time": "2023-01-03T21:20:37.737306",
     "status": "completed"
    },
    "tags": []
   },
   "outputs": [],
   "source": [
    "airline = train_data[['Airline']]\n",
    "airline = pd.get_dummies(airline,drop_first=True)\n",
    "\n",
    "source = train_data[['Source']]\n",
    "source = pd.get_dummies(source,drop_first=True)\n",
    "\n",
    "destination = train_data[['Destination']]\n",
    "destination = pd.get_dummies(destination,drop_first=True)"
   ]
  },
  {
   "cell_type": "code",
   "execution_count": 17,
   "id": "ff243a74",
   "metadata": {
    "execution": {
     "iopub.execute_input": "2023-01-03T21:20:37.806675Z",
     "iopub.status.busy": "2023-01-03T21:20:37.805765Z",
     "iopub.status.idle": "2023-01-03T21:20:37.816984Z",
     "shell.execute_reply": "2023-01-03T21:20:37.816308Z"
    },
    "papermill": {
     "duration": 0.030137,
     "end_time": "2023-01-03T21:20:37.819221",
     "exception": false,
     "start_time": "2023-01-03T21:20:37.789084",
     "status": "completed"
    },
    "tags": []
   },
   "outputs": [
    {
     "data": {
      "text/html": [
       "<div>\n",
       "<style scoped>\n",
       "    .dataframe tbody tr th:only-of-type {\n",
       "        vertical-align: middle;\n",
       "    }\n",
       "\n",
       "    .dataframe tbody tr th {\n",
       "        vertical-align: top;\n",
       "    }\n",
       "\n",
       "    .dataframe thead th {\n",
       "        text-align: right;\n",
       "    }\n",
       "</style>\n",
       "<table border=\"1\" class=\"dataframe\">\n",
       "  <thead>\n",
       "    <tr style=\"text-align: right;\">\n",
       "      <th></th>\n",
       "      <th>Airline_Air India</th>\n",
       "      <th>Airline_GoAir</th>\n",
       "      <th>Airline_IndiGo</th>\n",
       "      <th>Airline_Jet Airways</th>\n",
       "      <th>Airline_Jet Airways Business</th>\n",
       "      <th>Airline_Multiple carriers</th>\n",
       "      <th>Airline_Multiple carriers Premium economy</th>\n",
       "      <th>Airline_SpiceJet</th>\n",
       "      <th>Airline_Trujet</th>\n",
       "      <th>Airline_Vistara</th>\n",
       "      <th>Airline_Vistara Premium economy</th>\n",
       "    </tr>\n",
       "  </thead>\n",
       "  <tbody>\n",
       "    <tr>\n",
       "      <th>0</th>\n",
       "      <td>0</td>\n",
       "      <td>0</td>\n",
       "      <td>1</td>\n",
       "      <td>0</td>\n",
       "      <td>0</td>\n",
       "      <td>0</td>\n",
       "      <td>0</td>\n",
       "      <td>0</td>\n",
       "      <td>0</td>\n",
       "      <td>0</td>\n",
       "      <td>0</td>\n",
       "    </tr>\n",
       "    <tr>\n",
       "      <th>1</th>\n",
       "      <td>1</td>\n",
       "      <td>0</td>\n",
       "      <td>0</td>\n",
       "      <td>0</td>\n",
       "      <td>0</td>\n",
       "      <td>0</td>\n",
       "      <td>0</td>\n",
       "      <td>0</td>\n",
       "      <td>0</td>\n",
       "      <td>0</td>\n",
       "      <td>0</td>\n",
       "    </tr>\n",
       "    <tr>\n",
       "      <th>2</th>\n",
       "      <td>0</td>\n",
       "      <td>0</td>\n",
       "      <td>0</td>\n",
       "      <td>1</td>\n",
       "      <td>0</td>\n",
       "      <td>0</td>\n",
       "      <td>0</td>\n",
       "      <td>0</td>\n",
       "      <td>0</td>\n",
       "      <td>0</td>\n",
       "      <td>0</td>\n",
       "    </tr>\n",
       "    <tr>\n",
       "      <th>3</th>\n",
       "      <td>0</td>\n",
       "      <td>0</td>\n",
       "      <td>1</td>\n",
       "      <td>0</td>\n",
       "      <td>0</td>\n",
       "      <td>0</td>\n",
       "      <td>0</td>\n",
       "      <td>0</td>\n",
       "      <td>0</td>\n",
       "      <td>0</td>\n",
       "      <td>0</td>\n",
       "    </tr>\n",
       "    <tr>\n",
       "      <th>4</th>\n",
       "      <td>0</td>\n",
       "      <td>0</td>\n",
       "      <td>1</td>\n",
       "      <td>0</td>\n",
       "      <td>0</td>\n",
       "      <td>0</td>\n",
       "      <td>0</td>\n",
       "      <td>0</td>\n",
       "      <td>0</td>\n",
       "      <td>0</td>\n",
       "      <td>0</td>\n",
       "    </tr>\n",
       "  </tbody>\n",
       "</table>\n",
       "</div>"
      ],
      "text/plain": [
       "   Airline_Air India  Airline_GoAir  Airline_IndiGo  Airline_Jet Airways  \\\n",
       "0                  0              0               1                    0   \n",
       "1                  1              0               0                    0   \n",
       "2                  0              0               0                    1   \n",
       "3                  0              0               1                    0   \n",
       "4                  0              0               1                    0   \n",
       "\n",
       "   Airline_Jet Airways Business  Airline_Multiple carriers  \\\n",
       "0                             0                          0   \n",
       "1                             0                          0   \n",
       "2                             0                          0   \n",
       "3                             0                          0   \n",
       "4                             0                          0   \n",
       "\n",
       "   Airline_Multiple carriers Premium economy  Airline_SpiceJet  \\\n",
       "0                                          0                 0   \n",
       "1                                          0                 0   \n",
       "2                                          0                 0   \n",
       "3                                          0                 0   \n",
       "4                                          0                 0   \n",
       "\n",
       "   Airline_Trujet  Airline_Vistara  Airline_Vistara Premium economy  \n",
       "0               0                0                                0  \n",
       "1               0                0                                0  \n",
       "2               0                0                                0  \n",
       "3               0                0                                0  \n",
       "4               0                0                                0  "
      ]
     },
     "execution_count": 17,
     "metadata": {},
     "output_type": "execute_result"
    }
   ],
   "source": [
    "airline.head()"
   ]
  },
  {
   "cell_type": "code",
   "execution_count": 18,
   "id": "30503b1e",
   "metadata": {
    "execution": {
     "iopub.execute_input": "2023-01-03T21:20:37.852056Z",
     "iopub.status.busy": "2023-01-03T21:20:37.851651Z",
     "iopub.status.idle": "2023-01-03T21:20:37.863489Z",
     "shell.execute_reply": "2023-01-03T21:20:37.862148Z"
    },
    "papermill": {
     "duration": 0.031351,
     "end_time": "2023-01-03T21:20:37.865957",
     "exception": false,
     "start_time": "2023-01-03T21:20:37.834606",
     "status": "completed"
    },
    "tags": []
   },
   "outputs": [
    {
     "data": {
      "text/html": [
       "<div>\n",
       "<style scoped>\n",
       "    .dataframe tbody tr th:only-of-type {\n",
       "        vertical-align: middle;\n",
       "    }\n",
       "\n",
       "    .dataframe tbody tr th {\n",
       "        vertical-align: top;\n",
       "    }\n",
       "\n",
       "    .dataframe thead th {\n",
       "        text-align: right;\n",
       "    }\n",
       "</style>\n",
       "<table border=\"1\" class=\"dataframe\">\n",
       "  <thead>\n",
       "    <tr style=\"text-align: right;\">\n",
       "      <th></th>\n",
       "      <th>Source_Chennai</th>\n",
       "      <th>Source_Delhi</th>\n",
       "      <th>Source_Kolkata</th>\n",
       "      <th>Source_Mumbai</th>\n",
       "    </tr>\n",
       "  </thead>\n",
       "  <tbody>\n",
       "    <tr>\n",
       "      <th>0</th>\n",
       "      <td>0</td>\n",
       "      <td>0</td>\n",
       "      <td>0</td>\n",
       "      <td>0</td>\n",
       "    </tr>\n",
       "    <tr>\n",
       "      <th>1</th>\n",
       "      <td>0</td>\n",
       "      <td>0</td>\n",
       "      <td>1</td>\n",
       "      <td>0</td>\n",
       "    </tr>\n",
       "    <tr>\n",
       "      <th>2</th>\n",
       "      <td>0</td>\n",
       "      <td>1</td>\n",
       "      <td>0</td>\n",
       "      <td>0</td>\n",
       "    </tr>\n",
       "    <tr>\n",
       "      <th>3</th>\n",
       "      <td>0</td>\n",
       "      <td>0</td>\n",
       "      <td>1</td>\n",
       "      <td>0</td>\n",
       "    </tr>\n",
       "    <tr>\n",
       "      <th>4</th>\n",
       "      <td>0</td>\n",
       "      <td>0</td>\n",
       "      <td>0</td>\n",
       "      <td>0</td>\n",
       "    </tr>\n",
       "  </tbody>\n",
       "</table>\n",
       "</div>"
      ],
      "text/plain": [
       "   Source_Chennai  Source_Delhi  Source_Kolkata  Source_Mumbai\n",
       "0               0             0               0              0\n",
       "1               0             0               1              0\n",
       "2               0             1               0              0\n",
       "3               0             0               1              0\n",
       "4               0             0               0              0"
      ]
     },
     "execution_count": 18,
     "metadata": {},
     "output_type": "execute_result"
    }
   ],
   "source": [
    "source.head()"
   ]
  },
  {
   "cell_type": "code",
   "execution_count": 19,
   "id": "bfe8f146",
   "metadata": {
    "execution": {
     "iopub.execute_input": "2023-01-03T21:20:37.898692Z",
     "iopub.status.busy": "2023-01-03T21:20:37.898063Z",
     "iopub.status.idle": "2023-01-03T21:20:37.907252Z",
     "shell.execute_reply": "2023-01-03T21:20:37.906141Z"
    },
    "papermill": {
     "duration": 0.027931,
     "end_time": "2023-01-03T21:20:37.909312",
     "exception": false,
     "start_time": "2023-01-03T21:20:37.881381",
     "status": "completed"
    },
    "tags": []
   },
   "outputs": [
    {
     "data": {
      "text/html": [
       "<div>\n",
       "<style scoped>\n",
       "    .dataframe tbody tr th:only-of-type {\n",
       "        vertical-align: middle;\n",
       "    }\n",
       "\n",
       "    .dataframe tbody tr th {\n",
       "        vertical-align: top;\n",
       "    }\n",
       "\n",
       "    .dataframe thead th {\n",
       "        text-align: right;\n",
       "    }\n",
       "</style>\n",
       "<table border=\"1\" class=\"dataframe\">\n",
       "  <thead>\n",
       "    <tr style=\"text-align: right;\">\n",
       "      <th></th>\n",
       "      <th>Destination_Cochin</th>\n",
       "      <th>Destination_Delhi</th>\n",
       "      <th>Destination_Hyderabad</th>\n",
       "      <th>Destination_Kolkata</th>\n",
       "    </tr>\n",
       "  </thead>\n",
       "  <tbody>\n",
       "    <tr>\n",
       "      <th>0</th>\n",
       "      <td>0</td>\n",
       "      <td>1</td>\n",
       "      <td>0</td>\n",
       "      <td>0</td>\n",
       "    </tr>\n",
       "    <tr>\n",
       "      <th>1</th>\n",
       "      <td>0</td>\n",
       "      <td>0</td>\n",
       "      <td>0</td>\n",
       "      <td>0</td>\n",
       "    </tr>\n",
       "    <tr>\n",
       "      <th>2</th>\n",
       "      <td>1</td>\n",
       "      <td>0</td>\n",
       "      <td>0</td>\n",
       "      <td>0</td>\n",
       "    </tr>\n",
       "    <tr>\n",
       "      <th>3</th>\n",
       "      <td>0</td>\n",
       "      <td>0</td>\n",
       "      <td>0</td>\n",
       "      <td>0</td>\n",
       "    </tr>\n",
       "    <tr>\n",
       "      <th>4</th>\n",
       "      <td>0</td>\n",
       "      <td>1</td>\n",
       "      <td>0</td>\n",
       "      <td>0</td>\n",
       "    </tr>\n",
       "  </tbody>\n",
       "</table>\n",
       "</div>"
      ],
      "text/plain": [
       "   Destination_Cochin  Destination_Delhi  Destination_Hyderabad  \\\n",
       "0                   0                  1                      0   \n",
       "1                   0                  0                      0   \n",
       "2                   1                  0                      0   \n",
       "3                   0                  0                      0   \n",
       "4                   0                  1                      0   \n",
       "\n",
       "   Destination_Kolkata  \n",
       "0                    0  \n",
       "1                    0  \n",
       "2                    0  \n",
       "3                    0  \n",
       "4                    0  "
      ]
     },
     "execution_count": 19,
     "metadata": {},
     "output_type": "execute_result"
    }
   ],
   "source": [
    "destination.head()"
   ]
  },
  {
   "cell_type": "markdown",
   "id": "f3b0e1ba",
   "metadata": {
    "papermill": {
     "duration": 0.015014,
     "end_time": "2023-01-03T21:20:37.939752",
     "exception": false,
     "start_time": "2023-01-03T21:20:37.924738",
     "status": "completed"
    },
    "tags": []
   },
   "source": [
    "### Drop columns we don't need"
   ]
  },
  {
   "cell_type": "code",
   "execution_count": 20,
   "id": "6f67a798",
   "metadata": {
    "execution": {
     "iopub.execute_input": "2023-01-03T21:20:37.973419Z",
     "iopub.status.busy": "2023-01-03T21:20:37.972440Z",
     "iopub.status.idle": "2023-01-03T21:20:37.978284Z",
     "shell.execute_reply": "2023-01-03T21:20:37.977494Z"
    },
    "papermill": {
     "duration": 0.025028,
     "end_time": "2023-01-03T21:20:37.980495",
     "exception": false,
     "start_time": "2023-01-03T21:20:37.955467",
     "status": "completed"
    },
    "tags": []
   },
   "outputs": [],
   "source": [
    "train_data.drop(['Route','Additional_Info'],inplace=True,axis=1)"
   ]
  },
  {
   "cell_type": "markdown",
   "id": "ffe626d8",
   "metadata": {
    "papermill": {
     "duration": 0.016085,
     "end_time": "2023-01-03T21:20:38.012035",
     "exception": false,
     "start_time": "2023-01-03T21:20:37.995950",
     "status": "completed"
    },
    "tags": []
   },
   "source": [
    "### Check \"Total Stops\"\n"
   ]
  },
  {
   "cell_type": "code",
   "execution_count": 21,
   "id": "e44a3163",
   "metadata": {
    "execution": {
     "iopub.execute_input": "2023-01-03T21:20:38.044921Z",
     "iopub.status.busy": "2023-01-03T21:20:38.044267Z",
     "iopub.status.idle": "2023-01-03T21:20:38.052524Z",
     "shell.execute_reply": "2023-01-03T21:20:38.051248Z"
    },
    "papermill": {
     "duration": 0.027186,
     "end_time": "2023-01-03T21:20:38.054796",
     "exception": false,
     "start_time": "2023-01-03T21:20:38.027610",
     "status": "completed"
    },
    "tags": []
   },
   "outputs": [
    {
     "data": {
      "text/plain": [
       "1 stop      5625\n",
       "non-stop    3491\n",
       "2 stops     1520\n",
       "3 stops       45\n",
       "4 stops        1\n",
       "Name: Total_Stops, dtype: int64"
      ]
     },
     "execution_count": 21,
     "metadata": {},
     "output_type": "execute_result"
    }
   ],
   "source": [
    "train_data['Total_Stops'].value_counts()"
   ]
  },
  {
   "cell_type": "markdown",
   "id": "10c78b08",
   "metadata": {
    "papermill": {
     "duration": 0.015627,
     "end_time": "2023-01-03T21:20:38.086293",
     "exception": false,
     "start_time": "2023-01-03T21:20:38.070666",
     "status": "completed"
    },
    "tags": []
   },
   "source": [
    "#### Convert labels into numbers"
   ]
  },
  {
   "cell_type": "code",
   "execution_count": 22,
   "id": "a721a8fd",
   "metadata": {
    "execution": {
     "iopub.execute_input": "2023-01-03T21:20:38.121147Z",
     "iopub.status.busy": "2023-01-03T21:20:38.120439Z",
     "iopub.status.idle": "2023-01-03T21:20:38.141936Z",
     "shell.execute_reply": "2023-01-03T21:20:38.140926Z"
    },
    "papermill": {
     "duration": 0.042715,
     "end_time": "2023-01-03T21:20:38.145495",
     "exception": false,
     "start_time": "2023-01-03T21:20:38.102780",
     "status": "completed"
    },
    "tags": []
   },
   "outputs": [
    {
     "data": {
      "text/html": [
       "<div>\n",
       "<style scoped>\n",
       "    .dataframe tbody tr th:only-of-type {\n",
       "        vertical-align: middle;\n",
       "    }\n",
       "\n",
       "    .dataframe tbody tr th {\n",
       "        vertical-align: top;\n",
       "    }\n",
       "\n",
       "    .dataframe thead th {\n",
       "        text-align: right;\n",
       "    }\n",
       "</style>\n",
       "<table border=\"1\" class=\"dataframe\">\n",
       "  <thead>\n",
       "    <tr style=\"text-align: right;\">\n",
       "      <th></th>\n",
       "      <th>Airline</th>\n",
       "      <th>Source</th>\n",
       "      <th>Destination</th>\n",
       "      <th>Total_Stops</th>\n",
       "      <th>Price</th>\n",
       "      <th>Journey_day</th>\n",
       "      <th>Journey_month</th>\n",
       "      <th>Dep_hour</th>\n",
       "      <th>Dep_min</th>\n",
       "      <th>Arrival_hour</th>\n",
       "      <th>Arrival_min</th>\n",
       "      <th>Duration_hours</th>\n",
       "      <th>Duration_mins</th>\n",
       "    </tr>\n",
       "  </thead>\n",
       "  <tbody>\n",
       "    <tr>\n",
       "      <th>0</th>\n",
       "      <td>IndiGo</td>\n",
       "      <td>Banglore</td>\n",
       "      <td>Delhi</td>\n",
       "      <td>0</td>\n",
       "      <td>3897</td>\n",
       "      <td>24</td>\n",
       "      <td>3</td>\n",
       "      <td>22</td>\n",
       "      <td>20</td>\n",
       "      <td>1</td>\n",
       "      <td>10</td>\n",
       "      <td>2</td>\n",
       "      <td>50</td>\n",
       "    </tr>\n",
       "    <tr>\n",
       "      <th>1</th>\n",
       "      <td>Air India</td>\n",
       "      <td>Kolkata</td>\n",
       "      <td>Banglore</td>\n",
       "      <td>2</td>\n",
       "      <td>7662</td>\n",
       "      <td>1</td>\n",
       "      <td>5</td>\n",
       "      <td>5</td>\n",
       "      <td>50</td>\n",
       "      <td>13</td>\n",
       "      <td>15</td>\n",
       "      <td>7</td>\n",
       "      <td>25</td>\n",
       "    </tr>\n",
       "    <tr>\n",
       "      <th>2</th>\n",
       "      <td>Jet Airways</td>\n",
       "      <td>Delhi</td>\n",
       "      <td>Cochin</td>\n",
       "      <td>2</td>\n",
       "      <td>13882</td>\n",
       "      <td>9</td>\n",
       "      <td>6</td>\n",
       "      <td>9</td>\n",
       "      <td>25</td>\n",
       "      <td>4</td>\n",
       "      <td>25</td>\n",
       "      <td>19</td>\n",
       "      <td>0</td>\n",
       "    </tr>\n",
       "    <tr>\n",
       "      <th>3</th>\n",
       "      <td>IndiGo</td>\n",
       "      <td>Kolkata</td>\n",
       "      <td>Banglore</td>\n",
       "      <td>1</td>\n",
       "      <td>6218</td>\n",
       "      <td>12</td>\n",
       "      <td>5</td>\n",
       "      <td>18</td>\n",
       "      <td>5</td>\n",
       "      <td>23</td>\n",
       "      <td>30</td>\n",
       "      <td>5</td>\n",
       "      <td>25</td>\n",
       "    </tr>\n",
       "    <tr>\n",
       "      <th>4</th>\n",
       "      <td>IndiGo</td>\n",
       "      <td>Banglore</td>\n",
       "      <td>Delhi</td>\n",
       "      <td>1</td>\n",
       "      <td>13302</td>\n",
       "      <td>1</td>\n",
       "      <td>3</td>\n",
       "      <td>16</td>\n",
       "      <td>50</td>\n",
       "      <td>21</td>\n",
       "      <td>35</td>\n",
       "      <td>4</td>\n",
       "      <td>45</td>\n",
       "    </tr>\n",
       "  </tbody>\n",
       "</table>\n",
       "</div>"
      ],
      "text/plain": [
       "       Airline    Source Destination  Total_Stops  Price  Journey_day  \\\n",
       "0       IndiGo  Banglore       Delhi            0   3897           24   \n",
       "1    Air India   Kolkata    Banglore            2   7662            1   \n",
       "2  Jet Airways     Delhi      Cochin            2  13882            9   \n",
       "3       IndiGo   Kolkata    Banglore            1   6218           12   \n",
       "4       IndiGo  Banglore       Delhi            1  13302            1   \n",
       "\n",
       "   Journey_month  Dep_hour  Dep_min  Arrival_hour  Arrival_min  \\\n",
       "0              3        22       20             1           10   \n",
       "1              5         5       50            13           15   \n",
       "2              6         9       25             4           25   \n",
       "3              5        18        5            23           30   \n",
       "4              3        16       50            21           35   \n",
       "\n",
       "   Duration_hours  Duration_mins  \n",
       "0               2             50  \n",
       "1               7             25  \n",
       "2              19              0  \n",
       "3               5             25  \n",
       "4               4             45  "
      ]
     },
     "execution_count": 22,
     "metadata": {},
     "output_type": "execute_result"
    }
   ],
   "source": [
    "train_data['Total_Stops'].replace({'non-stop':0,'1 stop':1,'2 stops':2,'3 stops':3,'4 stops':4},inplace=True)\n",
    "train_data.head()"
   ]
  },
  {
   "cell_type": "markdown",
   "id": "e492b835",
   "metadata": {
    "papermill": {
     "duration": 0.016896,
     "end_time": "2023-01-03T21:20:38.179687",
     "exception": false,
     "start_time": "2023-01-03T21:20:38.162791",
     "status": "completed"
    },
    "tags": []
   },
   "source": [
    "#### check the shapes of our Data Frames"
   ]
  },
  {
   "cell_type": "code",
   "execution_count": 23,
   "id": "3740a4d2",
   "metadata": {
    "execution": {
     "iopub.execute_input": "2023-01-03T21:20:38.214985Z",
     "iopub.status.busy": "2023-01-03T21:20:38.214558Z",
     "iopub.status.idle": "2023-01-03T21:20:38.220696Z",
     "shell.execute_reply": "2023-01-03T21:20:38.219510Z"
    },
    "papermill": {
     "duration": 0.027423,
     "end_time": "2023-01-03T21:20:38.223958",
     "exception": false,
     "start_time": "2023-01-03T21:20:38.196535",
     "status": "completed"
    },
    "tags": []
   },
   "outputs": [
    {
     "data": {
      "text/plain": [
       "(10682, 13)"
      ]
     },
     "execution_count": 23,
     "metadata": {},
     "output_type": "execute_result"
    }
   ],
   "source": [
    "train_data.shape"
   ]
  },
  {
   "cell_type": "code",
   "execution_count": 24,
   "id": "39490704",
   "metadata": {
    "execution": {
     "iopub.execute_input": "2023-01-03T21:20:38.258296Z",
     "iopub.status.busy": "2023-01-03T21:20:38.257619Z",
     "iopub.status.idle": "2023-01-03T21:20:38.265153Z",
     "shell.execute_reply": "2023-01-03T21:20:38.263593Z"
    },
    "papermill": {
     "duration": 0.02837,
     "end_time": "2023-01-03T21:20:38.268557",
     "exception": false,
     "start_time": "2023-01-03T21:20:38.240187",
     "status": "completed"
    },
    "tags": []
   },
   "outputs": [
    {
     "data": {
      "text/plain": [
       "(10682, 11)"
      ]
     },
     "execution_count": 24,
     "metadata": {},
     "output_type": "execute_result"
    }
   ],
   "source": [
    "airline.shape"
   ]
  },
  {
   "cell_type": "code",
   "execution_count": 25,
   "id": "5f46352f",
   "metadata": {
    "execution": {
     "iopub.execute_input": "2023-01-03T21:20:38.303526Z",
     "iopub.status.busy": "2023-01-03T21:20:38.302988Z",
     "iopub.status.idle": "2023-01-03T21:20:38.309339Z",
     "shell.execute_reply": "2023-01-03T21:20:38.308491Z"
    },
    "papermill": {
     "duration": 0.027668,
     "end_time": "2023-01-03T21:20:38.312461",
     "exception": false,
     "start_time": "2023-01-03T21:20:38.284793",
     "status": "completed"
    },
    "tags": []
   },
   "outputs": [
    {
     "data": {
      "text/plain": [
       "(10682, 4)"
      ]
     },
     "execution_count": 25,
     "metadata": {},
     "output_type": "execute_result"
    }
   ],
   "source": [
    "source.shape"
   ]
  },
  {
   "cell_type": "code",
   "execution_count": 26,
   "id": "b592d568",
   "metadata": {
    "execution": {
     "iopub.execute_input": "2023-01-03T21:20:38.348679Z",
     "iopub.status.busy": "2023-01-03T21:20:38.347766Z",
     "iopub.status.idle": "2023-01-03T21:20:38.355709Z",
     "shell.execute_reply": "2023-01-03T21:20:38.354512Z"
    },
    "papermill": {
     "duration": 0.028989,
     "end_time": "2023-01-03T21:20:38.358631",
     "exception": false,
     "start_time": "2023-01-03T21:20:38.329642",
     "status": "completed"
    },
    "tags": []
   },
   "outputs": [
    {
     "data": {
      "text/plain": [
       "(10682, 4)"
      ]
     },
     "execution_count": 26,
     "metadata": {},
     "output_type": "execute_result"
    }
   ],
   "source": [
    "destination.shape"
   ]
  },
  {
   "cell_type": "markdown",
   "id": "d0d43560",
   "metadata": {
    "papermill": {
     "duration": 0.016193,
     "end_time": "2023-01-03T21:20:38.391200",
     "exception": false,
     "start_time": "2023-01-03T21:20:38.375007",
     "status": "completed"
    },
    "tags": []
   },
   "source": [
    "### Merge the 4 Data Frames together"
   ]
  },
  {
   "cell_type": "code",
   "execution_count": 27,
   "id": "c029d97c",
   "metadata": {
    "execution": {
     "iopub.execute_input": "2023-01-03T21:20:38.428076Z",
     "iopub.status.busy": "2023-01-03T21:20:38.426815Z",
     "iopub.status.idle": "2023-01-03T21:20:38.451886Z",
     "shell.execute_reply": "2023-01-03T21:20:38.450546Z"
    },
    "papermill": {
     "duration": 0.046129,
     "end_time": "2023-01-03T21:20:38.454818",
     "exception": false,
     "start_time": "2023-01-03T21:20:38.408689",
     "status": "completed"
    },
    "tags": []
   },
   "outputs": [
    {
     "data": {
      "text/html": [
       "<div>\n",
       "<style scoped>\n",
       "    .dataframe tbody tr th:only-of-type {\n",
       "        vertical-align: middle;\n",
       "    }\n",
       "\n",
       "    .dataframe tbody tr th {\n",
       "        vertical-align: top;\n",
       "    }\n",
       "\n",
       "    .dataframe thead th {\n",
       "        text-align: right;\n",
       "    }\n",
       "</style>\n",
       "<table border=\"1\" class=\"dataframe\">\n",
       "  <thead>\n",
       "    <tr style=\"text-align: right;\">\n",
       "      <th></th>\n",
       "      <th>Total_Stops</th>\n",
       "      <th>Price</th>\n",
       "      <th>Journey_day</th>\n",
       "      <th>Journey_month</th>\n",
       "      <th>Dep_hour</th>\n",
       "      <th>Dep_min</th>\n",
       "      <th>Arrival_hour</th>\n",
       "      <th>Arrival_min</th>\n",
       "      <th>Duration_hours</th>\n",
       "      <th>Duration_mins</th>\n",
       "      <th>...</th>\n",
       "      <th>Airline_Vistara</th>\n",
       "      <th>Airline_Vistara Premium economy</th>\n",
       "      <th>Source_Chennai</th>\n",
       "      <th>Source_Delhi</th>\n",
       "      <th>Source_Kolkata</th>\n",
       "      <th>Source_Mumbai</th>\n",
       "      <th>Destination_Cochin</th>\n",
       "      <th>Destination_Delhi</th>\n",
       "      <th>Destination_Hyderabad</th>\n",
       "      <th>Destination_Kolkata</th>\n",
       "    </tr>\n",
       "  </thead>\n",
       "  <tbody>\n",
       "    <tr>\n",
       "      <th>0</th>\n",
       "      <td>0</td>\n",
       "      <td>3897</td>\n",
       "      <td>24</td>\n",
       "      <td>3</td>\n",
       "      <td>22</td>\n",
       "      <td>20</td>\n",
       "      <td>1</td>\n",
       "      <td>10</td>\n",
       "      <td>2</td>\n",
       "      <td>50</td>\n",
       "      <td>...</td>\n",
       "      <td>0</td>\n",
       "      <td>0</td>\n",
       "      <td>0</td>\n",
       "      <td>0</td>\n",
       "      <td>0</td>\n",
       "      <td>0</td>\n",
       "      <td>0</td>\n",
       "      <td>1</td>\n",
       "      <td>0</td>\n",
       "      <td>0</td>\n",
       "    </tr>\n",
       "    <tr>\n",
       "      <th>1</th>\n",
       "      <td>2</td>\n",
       "      <td>7662</td>\n",
       "      <td>1</td>\n",
       "      <td>5</td>\n",
       "      <td>5</td>\n",
       "      <td>50</td>\n",
       "      <td>13</td>\n",
       "      <td>15</td>\n",
       "      <td>7</td>\n",
       "      <td>25</td>\n",
       "      <td>...</td>\n",
       "      <td>0</td>\n",
       "      <td>0</td>\n",
       "      <td>0</td>\n",
       "      <td>0</td>\n",
       "      <td>1</td>\n",
       "      <td>0</td>\n",
       "      <td>0</td>\n",
       "      <td>0</td>\n",
       "      <td>0</td>\n",
       "      <td>0</td>\n",
       "    </tr>\n",
       "    <tr>\n",
       "      <th>2</th>\n",
       "      <td>2</td>\n",
       "      <td>13882</td>\n",
       "      <td>9</td>\n",
       "      <td>6</td>\n",
       "      <td>9</td>\n",
       "      <td>25</td>\n",
       "      <td>4</td>\n",
       "      <td>25</td>\n",
       "      <td>19</td>\n",
       "      <td>0</td>\n",
       "      <td>...</td>\n",
       "      <td>0</td>\n",
       "      <td>0</td>\n",
       "      <td>0</td>\n",
       "      <td>1</td>\n",
       "      <td>0</td>\n",
       "      <td>0</td>\n",
       "      <td>1</td>\n",
       "      <td>0</td>\n",
       "      <td>0</td>\n",
       "      <td>0</td>\n",
       "    </tr>\n",
       "    <tr>\n",
       "      <th>3</th>\n",
       "      <td>1</td>\n",
       "      <td>6218</td>\n",
       "      <td>12</td>\n",
       "      <td>5</td>\n",
       "      <td>18</td>\n",
       "      <td>5</td>\n",
       "      <td>23</td>\n",
       "      <td>30</td>\n",
       "      <td>5</td>\n",
       "      <td>25</td>\n",
       "      <td>...</td>\n",
       "      <td>0</td>\n",
       "      <td>0</td>\n",
       "      <td>0</td>\n",
       "      <td>0</td>\n",
       "      <td>1</td>\n",
       "      <td>0</td>\n",
       "      <td>0</td>\n",
       "      <td>0</td>\n",
       "      <td>0</td>\n",
       "      <td>0</td>\n",
       "    </tr>\n",
       "    <tr>\n",
       "      <th>4</th>\n",
       "      <td>1</td>\n",
       "      <td>13302</td>\n",
       "      <td>1</td>\n",
       "      <td>3</td>\n",
       "      <td>16</td>\n",
       "      <td>50</td>\n",
       "      <td>21</td>\n",
       "      <td>35</td>\n",
       "      <td>4</td>\n",
       "      <td>45</td>\n",
       "      <td>...</td>\n",
       "      <td>0</td>\n",
       "      <td>0</td>\n",
       "      <td>0</td>\n",
       "      <td>0</td>\n",
       "      <td>0</td>\n",
       "      <td>0</td>\n",
       "      <td>0</td>\n",
       "      <td>1</td>\n",
       "      <td>0</td>\n",
       "      <td>0</td>\n",
       "    </tr>\n",
       "  </tbody>\n",
       "</table>\n",
       "<p>5 rows × 29 columns</p>\n",
       "</div>"
      ],
      "text/plain": [
       "   Total_Stops  Price  Journey_day  Journey_month  Dep_hour  Dep_min  \\\n",
       "0            0   3897           24              3        22       20   \n",
       "1            2   7662            1              5         5       50   \n",
       "2            2  13882            9              6         9       25   \n",
       "3            1   6218           12              5        18        5   \n",
       "4            1  13302            1              3        16       50   \n",
       "\n",
       "   Arrival_hour  Arrival_min  Duration_hours  Duration_mins  ...  \\\n",
       "0             1           10               2             50  ...   \n",
       "1            13           15               7             25  ...   \n",
       "2             4           25              19              0  ...   \n",
       "3            23           30               5             25  ...   \n",
       "4            21           35               4             45  ...   \n",
       "\n",
       "   Airline_Vistara  Airline_Vistara Premium economy  Source_Chennai  \\\n",
       "0                0                                0               0   \n",
       "1                0                                0               0   \n",
       "2                0                                0               0   \n",
       "3                0                                0               0   \n",
       "4                0                                0               0   \n",
       "\n",
       "   Source_Delhi  Source_Kolkata  Source_Mumbai  Destination_Cochin  \\\n",
       "0             0               0              0                   0   \n",
       "1             0               1              0                   0   \n",
       "2             1               0              0                   1   \n",
       "3             0               1              0                   0   \n",
       "4             0               0              0                   0   \n",
       "\n",
       "   Destination_Delhi  Destination_Hyderabad  Destination_Kolkata  \n",
       "0                  1                      0                    0  \n",
       "1                  0                      0                    0  \n",
       "2                  0                      0                    0  \n",
       "3                  0                      0                    0  \n",
       "4                  1                      0                    0  \n",
       "\n",
       "[5 rows x 29 columns]"
      ]
     },
     "execution_count": 27,
     "metadata": {},
     "output_type": "execute_result"
    }
   ],
   "source": [
    "data_train = pd.concat([train_data,airline,source,destination],axis=1)\n",
    "data_train.drop(['Airline','Source','Destination'],axis=1,inplace=True)\n",
    "data_train.head()"
   ]
  },
  {
   "cell_type": "markdown",
   "id": "05b6cfd1",
   "metadata": {
    "papermill": {
     "duration": 0.01644,
     "end_time": "2023-01-03T21:20:38.488690",
     "exception": false,
     "start_time": "2023-01-03T21:20:38.472250",
     "status": "completed"
    },
    "tags": []
   },
   "source": [
    "# Data Splitting"
   ]
  },
  {
   "cell_type": "code",
   "execution_count": 28,
   "id": "b1b0b4aa",
   "metadata": {
    "execution": {
     "iopub.execute_input": "2023-01-03T21:20:38.524979Z",
     "iopub.status.busy": "2023-01-03T21:20:38.524568Z",
     "iopub.status.idle": "2023-01-03T21:20:38.545136Z",
     "shell.execute_reply": "2023-01-03T21:20:38.543924Z"
    },
    "papermill": {
     "duration": 0.043116,
     "end_time": "2023-01-03T21:20:38.548803",
     "exception": false,
     "start_time": "2023-01-03T21:20:38.505687",
     "status": "completed"
    },
    "tags": []
   },
   "outputs": [
    {
     "data": {
      "text/html": [
       "<div>\n",
       "<style scoped>\n",
       "    .dataframe tbody tr th:only-of-type {\n",
       "        vertical-align: middle;\n",
       "    }\n",
       "\n",
       "    .dataframe tbody tr th {\n",
       "        vertical-align: top;\n",
       "    }\n",
       "\n",
       "    .dataframe thead th {\n",
       "        text-align: right;\n",
       "    }\n",
       "</style>\n",
       "<table border=\"1\" class=\"dataframe\">\n",
       "  <thead>\n",
       "    <tr style=\"text-align: right;\">\n",
       "      <th></th>\n",
       "      <th>Total_Stops</th>\n",
       "      <th>Journey_day</th>\n",
       "      <th>Journey_month</th>\n",
       "      <th>Dep_hour</th>\n",
       "      <th>Dep_min</th>\n",
       "      <th>Arrival_hour</th>\n",
       "      <th>Arrival_min</th>\n",
       "      <th>Duration_hours</th>\n",
       "      <th>Duration_mins</th>\n",
       "      <th>Airline_Air India</th>\n",
       "      <th>...</th>\n",
       "      <th>Airline_Vistara</th>\n",
       "      <th>Airline_Vistara Premium economy</th>\n",
       "      <th>Source_Chennai</th>\n",
       "      <th>Source_Delhi</th>\n",
       "      <th>Source_Kolkata</th>\n",
       "      <th>Source_Mumbai</th>\n",
       "      <th>Destination_Cochin</th>\n",
       "      <th>Destination_Delhi</th>\n",
       "      <th>Destination_Hyderabad</th>\n",
       "      <th>Destination_Kolkata</th>\n",
       "    </tr>\n",
       "  </thead>\n",
       "  <tbody>\n",
       "    <tr>\n",
       "      <th>0</th>\n",
       "      <td>0</td>\n",
       "      <td>24</td>\n",
       "      <td>3</td>\n",
       "      <td>22</td>\n",
       "      <td>20</td>\n",
       "      <td>1</td>\n",
       "      <td>10</td>\n",
       "      <td>2</td>\n",
       "      <td>50</td>\n",
       "      <td>0</td>\n",
       "      <td>...</td>\n",
       "      <td>0</td>\n",
       "      <td>0</td>\n",
       "      <td>0</td>\n",
       "      <td>0</td>\n",
       "      <td>0</td>\n",
       "      <td>0</td>\n",
       "      <td>0</td>\n",
       "      <td>1</td>\n",
       "      <td>0</td>\n",
       "      <td>0</td>\n",
       "    </tr>\n",
       "    <tr>\n",
       "      <th>1</th>\n",
       "      <td>2</td>\n",
       "      <td>1</td>\n",
       "      <td>5</td>\n",
       "      <td>5</td>\n",
       "      <td>50</td>\n",
       "      <td>13</td>\n",
       "      <td>15</td>\n",
       "      <td>7</td>\n",
       "      <td>25</td>\n",
       "      <td>1</td>\n",
       "      <td>...</td>\n",
       "      <td>0</td>\n",
       "      <td>0</td>\n",
       "      <td>0</td>\n",
       "      <td>0</td>\n",
       "      <td>1</td>\n",
       "      <td>0</td>\n",
       "      <td>0</td>\n",
       "      <td>0</td>\n",
       "      <td>0</td>\n",
       "      <td>0</td>\n",
       "    </tr>\n",
       "    <tr>\n",
       "      <th>2</th>\n",
       "      <td>2</td>\n",
       "      <td>9</td>\n",
       "      <td>6</td>\n",
       "      <td>9</td>\n",
       "      <td>25</td>\n",
       "      <td>4</td>\n",
       "      <td>25</td>\n",
       "      <td>19</td>\n",
       "      <td>0</td>\n",
       "      <td>0</td>\n",
       "      <td>...</td>\n",
       "      <td>0</td>\n",
       "      <td>0</td>\n",
       "      <td>0</td>\n",
       "      <td>1</td>\n",
       "      <td>0</td>\n",
       "      <td>0</td>\n",
       "      <td>1</td>\n",
       "      <td>0</td>\n",
       "      <td>0</td>\n",
       "      <td>0</td>\n",
       "    </tr>\n",
       "    <tr>\n",
       "      <th>3</th>\n",
       "      <td>1</td>\n",
       "      <td>12</td>\n",
       "      <td>5</td>\n",
       "      <td>18</td>\n",
       "      <td>5</td>\n",
       "      <td>23</td>\n",
       "      <td>30</td>\n",
       "      <td>5</td>\n",
       "      <td>25</td>\n",
       "      <td>0</td>\n",
       "      <td>...</td>\n",
       "      <td>0</td>\n",
       "      <td>0</td>\n",
       "      <td>0</td>\n",
       "      <td>0</td>\n",
       "      <td>1</td>\n",
       "      <td>0</td>\n",
       "      <td>0</td>\n",
       "      <td>0</td>\n",
       "      <td>0</td>\n",
       "      <td>0</td>\n",
       "    </tr>\n",
       "    <tr>\n",
       "      <th>4</th>\n",
       "      <td>1</td>\n",
       "      <td>1</td>\n",
       "      <td>3</td>\n",
       "      <td>16</td>\n",
       "      <td>50</td>\n",
       "      <td>21</td>\n",
       "      <td>35</td>\n",
       "      <td>4</td>\n",
       "      <td>45</td>\n",
       "      <td>0</td>\n",
       "      <td>...</td>\n",
       "      <td>0</td>\n",
       "      <td>0</td>\n",
       "      <td>0</td>\n",
       "      <td>0</td>\n",
       "      <td>0</td>\n",
       "      <td>0</td>\n",
       "      <td>0</td>\n",
       "      <td>1</td>\n",
       "      <td>0</td>\n",
       "      <td>0</td>\n",
       "    </tr>\n",
       "  </tbody>\n",
       "</table>\n",
       "<p>5 rows × 28 columns</p>\n",
       "</div>"
      ],
      "text/plain": [
       "   Total_Stops  Journey_day  Journey_month  Dep_hour  Dep_min  Arrival_hour  \\\n",
       "0            0           24              3        22       20             1   \n",
       "1            2            1              5         5       50            13   \n",
       "2            2            9              6         9       25             4   \n",
       "3            1           12              5        18        5            23   \n",
       "4            1            1              3        16       50            21   \n",
       "\n",
       "   Arrival_min  Duration_hours  Duration_mins  Airline_Air India  ...  \\\n",
       "0           10               2             50                  0  ...   \n",
       "1           15               7             25                  1  ...   \n",
       "2           25              19              0                  0  ...   \n",
       "3           30               5             25                  0  ...   \n",
       "4           35               4             45                  0  ...   \n",
       "\n",
       "   Airline_Vistara  Airline_Vistara Premium economy  Source_Chennai  \\\n",
       "0                0                                0               0   \n",
       "1                0                                0               0   \n",
       "2                0                                0               0   \n",
       "3                0                                0               0   \n",
       "4                0                                0               0   \n",
       "\n",
       "   Source_Delhi  Source_Kolkata  Source_Mumbai  Destination_Cochin  \\\n",
       "0             0               0              0                   0   \n",
       "1             0               1              0                   0   \n",
       "2             1               0              0                   1   \n",
       "3             0               1              0                   0   \n",
       "4             0               0              0                   0   \n",
       "\n",
       "   Destination_Delhi  Destination_Hyderabad  Destination_Kolkata  \n",
       "0                  1                      0                    0  \n",
       "1                  0                      0                    0  \n",
       "2                  0                      0                    0  \n",
       "3                  0                      0                    0  \n",
       "4                  1                      0                    0  \n",
       "\n",
       "[5 rows x 28 columns]"
      ]
     },
     "execution_count": 28,
     "metadata": {},
     "output_type": "execute_result"
    }
   ],
   "source": [
    "X = data_train.drop('Price', axis=1)\n",
    "X.head()"
   ]
  },
  {
   "cell_type": "code",
   "execution_count": 29,
   "id": "6ea9bb45",
   "metadata": {
    "execution": {
     "iopub.execute_input": "2023-01-03T21:20:38.589113Z",
     "iopub.status.busy": "2023-01-03T21:20:38.587912Z",
     "iopub.status.idle": "2023-01-03T21:20:38.598281Z",
     "shell.execute_reply": "2023-01-03T21:20:38.596356Z"
    },
    "papermill": {
     "duration": 0.033538,
     "end_time": "2023-01-03T21:20:38.602026",
     "exception": false,
     "start_time": "2023-01-03T21:20:38.568488",
     "status": "completed"
    },
    "tags": []
   },
   "outputs": [
    {
     "data": {
      "text/plain": [
       "0     3897\n",
       "1     7662\n",
       "2    13882\n",
       "3     6218\n",
       "4    13302\n",
       "Name: Price, dtype: int64"
      ]
     },
     "execution_count": 29,
     "metadata": {},
     "output_type": "execute_result"
    }
   ],
   "source": [
    "y = data_train['Price']\n",
    "y.head()"
   ]
  },
  {
   "cell_type": "markdown",
   "id": "eb21068b",
   "metadata": {
    "papermill": {
     "duration": 0.017099,
     "end_time": "2023-01-03T21:20:38.637255",
     "exception": false,
     "start_time": "2023-01-03T21:20:38.620156",
     "status": "completed"
    },
    "tags": []
   },
   "source": [
    "## Check correlations"
   ]
  },
  {
   "cell_type": "code",
   "execution_count": 30,
   "id": "6b0fde7c",
   "metadata": {
    "execution": {
     "iopub.execute_input": "2023-01-03T21:20:38.673962Z",
     "iopub.status.busy": "2023-01-03T21:20:38.673294Z",
     "iopub.status.idle": "2023-01-03T21:20:39.335287Z",
     "shell.execute_reply": "2023-01-03T21:20:39.334184Z"
    },
    "papermill": {
     "duration": 0.682949,
     "end_time": "2023-01-03T21:20:39.337865",
     "exception": false,
     "start_time": "2023-01-03T21:20:38.654916",
     "status": "completed"
    },
    "tags": []
   },
   "outputs": [
    {
     "data": {
      "text/plain": [
       "<AxesSubplot:>"
      ]
     },
     "execution_count": 30,
     "metadata": {},
     "output_type": "execute_result"
    },
    {
     "data": {
      "image/png": "[encoded data removed]",
      "text/plain": [
       "<Figure size 720x720 with 2 Axes>"
      ]
     },
     "metadata": {
      "needs_background": "light"
     },
     "output_type": "display_data"
    }
   ],
   "source": [
    "plt.figure(figsize=(10,10))\n",
    "sns.heatmap(train_data.corr(),cmap='viridis',annot=True)"
   ]
  },
  {
   "cell_type": "markdown",
   "id": "de392626",
   "metadata": {
    "papermill": {
     "duration": 0.018721,
     "end_time": "2023-01-03T21:20:39.374697",
     "exception": false,
     "start_time": "2023-01-03T21:20:39.355976",
     "status": "completed"
    },
    "tags": []
   },
   "source": [
    "#### Notes:\n",
    "- Total stops is obviously highly correlated with duration hours\n",
    "- Price is highly correlated with total stops"
   ]
  },
  {
   "cell_type": "markdown",
   "id": "3723afca",
   "metadata": {
    "papermill": {
     "duration": 0.01856,
     "end_time": "2023-01-03T21:20:39.412448",
     "exception": false,
     "start_time": "2023-01-03T21:20:39.393888",
     "status": "completed"
    },
    "tags": []
   },
   "source": [
    "### Try ExtraTreesRegressor model"
   ]
  },
  {
   "cell_type": "code",
   "execution_count": 31,
   "id": "4ae84f7b",
   "metadata": {
    "execution": {
     "iopub.execute_input": "2023-01-03T21:20:39.452149Z",
     "iopub.status.busy": "2023-01-03T21:20:39.451738Z",
     "iopub.status.idle": "2023-01-03T21:20:41.862310Z",
     "shell.execute_reply": "2023-01-03T21:20:41.859808Z"
    },
    "papermill": {
     "duration": 2.433698,
     "end_time": "2023-01-03T21:20:41.865270",
     "exception": false,
     "start_time": "2023-01-03T21:20:39.431572",
     "status": "completed"
    },
    "tags": []
   },
   "outputs": [
    {
     "name": "stdout",
     "output_type": "stream",
     "text": [
      "[2.26343452e-01 1.41866121e-01 5.91572934e-02 2.43655057e-02\n",
      " 2.10242357e-02 2.79067303e-02 1.95040771e-02 1.30445203e-01\n",
      " 1.76054166e-02 9.38703540e-03 2.04000192e-03 1.82431084e-02\n",
      " 1.39259585e-01 6.76965848e-02 1.88909778e-02 8.60893824e-04\n",
      " 5.12925068e-03 9.36712428e-05 4.57573103e-03 6.52205457e-05\n",
      " 5.87281783e-04 1.13244051e-02 4.64329542e-03 6.47120064e-03\n",
      " 1.24281445e-02 1.84257097e-02 1.08058470e-02 8.54019887e-04]\n"
     ]
    }
   ],
   "source": [
    "reg = ExtraTreesRegressor()\n",
    "reg.fit(X,y)\n",
    "\n",
    "print(reg.feature_importances_)"
   ]
  },
  {
   "cell_type": "code",
   "execution_count": 32,
   "id": "7c198a46",
   "metadata": {
    "execution": {
     "iopub.execute_input": "2023-01-03T21:20:41.903405Z",
     "iopub.status.busy": "2023-01-03T21:20:41.902807Z",
     "iopub.status.idle": "2023-01-03T21:20:42.177489Z",
     "shell.execute_reply": "2023-01-03T21:20:42.175466Z"
    },
    "papermill": {
     "duration": 0.296303,
     "end_time": "2023-01-03T21:20:42.179637",
     "exception": false,
     "start_time": "2023-01-03T21:20:41.883334",
     "status": "completed"
    },
    "tags": []
   },
   "outputs": [
    {
     "data": {
      "image/png": "[encoded data removed]",
      "text/plain": [
       "<Figure size 864x576 with 1 Axes>"
      ]
     },
     "metadata": {
      "needs_background": "light"
     },
     "output_type": "display_data"
    }
   ],
   "source": [
    "plt.figure(figsize = (12,8))\n",
    "feat_importances = pd.Series(reg.feature_importances_, index=X.columns)\n",
    "feat_importances.nlargest(20).plot(kind='barh')\n",
    "\n",
    "plt.show()"
   ]
  },
  {
   "cell_type": "markdown",
   "id": "341310c5",
   "metadata": {
    "papermill": {
     "duration": 0.018864,
     "end_time": "2023-01-03T21:20:42.216626",
     "exception": false,
     "start_time": "2023-01-03T21:20:42.197762",
     "status": "completed"
    },
    "tags": []
   },
   "source": [
    "#### Notes:\n",
    "- Total stops ist the feature with the highest feature importance in deciding the Price\n",
    "- Journey Day also plays a big role in deciding the price (eg. Prices on weekends are often higer)"
   ]
  },
  {
   "cell_type": "markdown",
   "id": "cc9cdc54",
   "metadata": {
    "papermill": {
     "duration": 0.019116,
     "end_time": "2023-01-03T21:20:42.255548",
     "exception": false,
     "start_time": "2023-01-03T21:20:42.236432",
     "status": "completed"
    },
    "tags": []
   },
   "source": [
    "### Split data into training and testing data"
   ]
  },
  {
   "cell_type": "code",
   "execution_count": 33,
   "id": "108b10ea",
   "metadata": {
    "execution": {
     "iopub.execute_input": "2023-01-03T21:20:42.295840Z",
     "iopub.status.busy": "2023-01-03T21:20:42.294244Z",
     "iopub.status.idle": "2023-01-03T21:20:42.305783Z",
     "shell.execute_reply": "2023-01-03T21:20:42.303959Z"
    },
    "papermill": {
     "duration": 0.034498,
     "end_time": "2023-01-03T21:20:42.308744",
     "exception": false,
     "start_time": "2023-01-03T21:20:42.274246",
     "status": "completed"
    },
    "tags": []
   },
   "outputs": [],
   "source": [
    "X_train, X_test, y_train, y_test = train_test_split(X, y, test_size = 0.2, random_state = 42)"
   ]
  },
  {
   "cell_type": "markdown",
   "id": "ceefcfa1",
   "metadata": {
    "papermill": {
     "duration": 0.018133,
     "end_time": "2023-01-03T21:20:42.345392",
     "exception": false,
     "start_time": "2023-01-03T21:20:42.327259",
     "status": "completed"
    },
    "tags": []
   },
   "source": [
    "## Training Random Forest Regressor model "
   ]
  },
  {
   "cell_type": "code",
   "execution_count": 34,
   "id": "1242ed71",
   "metadata": {
    "execution": {
     "iopub.execute_input": "2023-01-03T21:20:42.383719Z",
     "iopub.status.busy": "2023-01-03T21:20:42.383300Z",
     "iopub.status.idle": "2023-01-03T21:25:24.305547Z",
     "shell.execute_reply": "2023-01-03T21:25:24.304523Z"
    },
    "papermill": {
     "duration": 281.962653,
     "end_time": "2023-01-03T21:25:24.326281",
     "exception": false,
     "start_time": "2023-01-03T21:20:42.363628",
     "status": "completed"
    },
    "tags": []
   },
   "outputs": [
    {
     "name": "stdout",
     "output_type": "stream",
     "text": [
      "Fitting 5 folds for each of 10 candidates, totalling 50 fits\n"
     ]
    },
    {
     "data": {
      "text/plain": [
       "RandomizedSearchCV(cv=5, estimator=RandomForestRegressor(), n_jobs=1,\n",
       "                   param_distributions={'max_depth': [5, 10, 15, 20, 25, 30],\n",
       "                                        'max_features': ['auto', 'sqrt'],\n",
       "                                        'min_samples_leaf': [1, 2, 5, 10],\n",
       "                                        'min_samples_split': [2, 5, 10, 15,\n",
       "                                                              100],\n",
       "                                        'n_estimators': [100, 200, 300, 400,\n",
       "                                                         500, 600, 700, 800,\n",
       "                                                         900, 1000, 1100,\n",
       "                                                         1200]},\n",
       "                   random_state=42, scoring='neg_mean_squared_error',\n",
       "                   verbose=1)"
      ]
     },
     "execution_count": 34,
     "metadata": {},
     "output_type": "execute_result"
    }
   ],
   "source": [
    "# Number of trees in random forest\n",
    "n_estimators = [int(x) for x in np.linspace(start = 100, stop = 1200, num = 12)]\n",
    "\n",
    "# Number of features to consider at every split\n",
    "max_features = ['auto', 'sqrt']\n",
    "\n",
    "# Maximum number of levels in tree\n",
    "max_depth = [int(x) for x in np.linspace(5, 30, num = 6)]\n",
    "\n",
    "# Minimum number of samples required to split a node\n",
    "min_samples_split = [2, 5, 10, 15, 100]\n",
    "\n",
    "# Minimum number of samples required at each leaf node\n",
    "min_samples_leaf = [1, 2, 5, 10]\n",
    "\n",
    "random_grid = {'n_estimators': n_estimators,\n",
    "               'max_features': max_features,\n",
    "               'max_depth': max_depth,\n",
    "               'min_samples_split': min_samples_split,\n",
    "               'min_samples_leaf': min_samples_leaf}\n",
    "\n",
    "# Random search of parameters, using 5 fold cross validation, search across 100 different combinations\n",
    "rf_random = RandomizedSearchCV(estimator = RandomForestRegressor(), param_distributions = random_grid,\n",
    "                               scoring='neg_mean_squared_error', n_iter = 10, cv = 5, \n",
    "                               verbose=1, random_state=42, n_jobs = 1)\n",
    "\n",
    "rf_random.fit(X_train,y_train)"
   ]
  },
  {
   "cell_type": "code",
   "execution_count": 35,
   "id": "29ce4c38",
   "metadata": {
    "execution": {
     "iopub.execute_input": "2023-01-03T21:25:24.366350Z",
     "iopub.status.busy": "2023-01-03T21:25:24.365888Z",
     "iopub.status.idle": "2023-01-03T21:25:24.373257Z",
     "shell.execute_reply": "2023-01-03T21:25:24.372335Z"
    },
    "papermill": {
     "duration": 0.030813,
     "end_time": "2023-01-03T21:25:24.376037",
     "exception": false,
     "start_time": "2023-01-03T21:25:24.345224",
     "status": "completed"
    },
    "tags": []
   },
   "outputs": [
    {
     "data": {
      "text/plain": [
       "{'n_estimators': 700,\n",
       " 'min_samples_split': 15,\n",
       " 'min_samples_leaf': 1,\n",
       " 'max_features': 'auto',\n",
       " 'max_depth': 20}"
      ]
     },
     "execution_count": 35,
     "metadata": {},
     "output_type": "execute_result"
    }
   ],
   "source": [
    "rf_random.best_params_"
   ]
  },
  {
   "cell_type": "markdown",
   "id": "51c9172a",
   "metadata": {
    "papermill": {
     "duration": 0.018824,
     "end_time": "2023-01-03T21:25:24.413628",
     "exception": false,
     "start_time": "2023-01-03T21:25:24.394804",
     "status": "completed"
    },
    "tags": []
   },
   "source": [
    "### make Predictions\n"
   ]
  },
  {
   "cell_type": "code",
   "execution_count": 36,
   "id": "2b078615",
   "metadata": {
    "execution": {
     "iopub.execute_input": "2023-01-03T21:25:24.453296Z",
     "iopub.status.busy": "2023-01-03T21:25:24.452802Z",
     "iopub.status.idle": "2023-01-03T21:25:24.705727Z",
     "shell.execute_reply": "2023-01-03T21:25:24.704590Z"
    },
    "papermill": {
     "duration": 0.276596,
     "end_time": "2023-01-03T21:25:24.708826",
     "exception": false,
     "start_time": "2023-01-03T21:25:24.432230",
     "status": "completed"
    },
    "tags": []
   },
   "outputs": [],
   "source": [
    "prediction = rf_random.predict(X_test)"
   ]
  },
  {
   "cell_type": "markdown",
   "id": "0aa4327f",
   "metadata": {
    "papermill": {
     "duration": 0.018749,
     "end_time": "2023-01-03T21:25:24.747088",
     "exception": false,
     "start_time": "2023-01-03T21:25:24.728339",
     "status": "completed"
    },
    "tags": []
   },
   "source": [
    "### Plot the residuals"
   ]
  },
  {
   "cell_type": "code",
   "execution_count": 37,
   "id": "e32dc403",
   "metadata": {
    "execution": {
     "iopub.execute_input": "2023-01-03T21:25:24.787505Z",
     "iopub.status.busy": "2023-01-03T21:25:24.787088Z",
     "iopub.status.idle": "2023-01-03T21:25:25.065820Z",
     "shell.execute_reply": "2023-01-03T21:25:25.063906Z"
    },
    "papermill": {
     "duration": 0.302517,
     "end_time": "2023-01-03T21:25:25.069081",
     "exception": false,
     "start_time": "2023-01-03T21:25:24.766564",
     "status": "completed"
    },
    "tags": []
   },
   "outputs": [
    {
     "name": "stderr",
     "output_type": "stream",
     "text": [
      "/opt/conda/lib/python3.7/site-packages/seaborn/distributions.py:2619: FutureWarning: `distplot` is a deprecated function and will be removed in a future version. Please adapt your code to use either `displot` (a figure-level function with similar flexibility) or `histplot` (an axes-level function for histograms).\n",
      "  warnings.warn(msg, FutureWarning)\n"
     ]
    },
    {
     "data": {
      "image/png": "[encoded data removed]",
      "text/plain": [
       "<Figure size 576x576 with 1 Axes>"
      ]
     },
     "metadata": {
      "needs_background": "light"
     },
     "output_type": "display_data"
    }
   ],
   "source": [
    "plt.figure(figsize = (8,8))\n",
    "sns.distplot(y_test-prediction)\n",
    "plt.show()"
   ]
  },
  {
   "cell_type": "markdown",
   "id": "8059caa9",
   "metadata": {
    "papermill": {
     "duration": 0.02005,
     "end_time": "2023-01-03T21:25:25.108324",
     "exception": false,
     "start_time": "2023-01-03T21:25:25.088274",
     "status": "completed"
    },
    "tags": []
   },
   "source": [
    "most of the residuals are 0. That means our model is generalizing well."
   ]
  },
  {
   "cell_type": "markdown",
   "id": "659bb297",
   "metadata": {
    "papermill": {
     "duration": 0.019835,
     "end_time": "2023-01-03T21:25:25.147905",
     "exception": false,
     "start_time": "2023-01-03T21:25:25.128070",
     "status": "completed"
    },
    "tags": []
   },
   "source": [
    "### Plot y_test vs predictions"
   ]
  },
  {
   "cell_type": "code",
   "execution_count": 38,
   "id": "b8716fdc",
   "metadata": {
    "execution": {
     "iopub.execute_input": "2023-01-03T21:25:25.188608Z",
     "iopub.status.busy": "2023-01-03T21:25:25.188189Z",
     "iopub.status.idle": "2023-01-03T21:25:25.365137Z",
     "shell.execute_reply": "2023-01-03T21:25:25.363616Z"
    },
    "papermill": {
     "duration": 0.200212,
     "end_time": "2023-01-03T21:25:25.367607",
     "exception": false,
     "start_time": "2023-01-03T21:25:25.167395",
     "status": "completed"
    },
    "tags": []
   },
   "outputs": [
    {
     "data": {
      "image/png": "[encoded data removed]",
      "text/plain": [
       "<Figure size 576x576 with 1 Axes>"
      ]
     },
     "metadata": {
      "needs_background": "light"
     },
     "output_type": "display_data"
    }
   ],
   "source": [
    "plt.figure(figsize = (8,8))\n",
    "plt.scatter(y_test, prediction, alpha = 0.5)\n",
    "plt.xlabel(\"y_test\")\n",
    "plt.ylabel(\"prediction\")\n",
    "plt.show()"
   ]
  },
  {
   "cell_type": "code",
   "execution_count": 39,
   "id": "9f291a20",
   "metadata": {
    "execution": {
     "iopub.execute_input": "2023-01-03T21:25:25.408722Z",
     "iopub.status.busy": "2023-01-03T21:25:25.408334Z",
     "iopub.status.idle": "2023-01-03T21:25:25.417738Z",
     "shell.execute_reply": "2023-01-03T21:25:25.415511Z"
    },
    "papermill": {
     "duration": 0.033699,
     "end_time": "2023-01-03T21:25:25.421169",
     "exception": false,
     "start_time": "2023-01-03T21:25:25.387470",
     "status": "completed"
    },
    "tags": []
   },
   "outputs": [
    {
     "name": "stdout",
     "output_type": "stream",
     "text": [
      "r2 score:  0.8084673992755935\n"
     ]
    }
   ],
   "source": [
    "print('r2 score: ', metrics.r2_score(y_test,prediction))"
   ]
  },
  {
   "cell_type": "markdown",
   "id": "92ee2ac3",
   "metadata": {
    "papermill": {
     "duration": 0.020714,
     "end_time": "2023-01-03T21:25:25.463264",
     "exception": false,
     "start_time": "2023-01-03T21:25:25.442550",
     "status": "completed"
    },
    "tags": []
   },
   "source": [
    "# Save the model"
   ]
  },
  {
   "cell_type": "code",
   "execution_count": 40,
   "id": "6460be78",
   "metadata": {
    "execution": {
     "iopub.execute_input": "2023-01-03T21:25:25.505683Z",
     "iopub.status.busy": "2023-01-03T21:25:25.504676Z",
     "iopub.status.idle": "2023-01-03T21:25:25.599909Z",
     "shell.execute_reply": "2023-01-03T21:25:25.597986Z"
    },
    "papermill": {
     "duration": 0.11968,
     "end_time": "2023-01-03T21:25:25.602856",
     "exception": false,
     "start_time": "2023-01-03T21:25:25.483176",
     "status": "completed"
    },
    "tags": []
   },
   "outputs": [],
   "source": [
    "file = open('flight_rf.pkl', 'wb')\n",
    "pickle.dump(rf_random, file)"
   ]
  }
 ],
 "metadata": {
  "kernelspec": {
   "display_name": "Python 3",
   "language": "python",
   "name": "python3"
  },
  "language_info": {
   "codemirror_mode": {
    "name": "ipython",
    "version": 3
   },
   "file_extension": ".py",
   "mimetype": "text/x-python",
   "name": "python",
   "nbconvert_exporter": "python",
   "pygments_lexer": "ipython3",
   "version": "3.7.12"
  },
  "papermill": {
   "default_parameters": {},
   "duration": 303.135713,
   "end_time": "2023-01-03T21:25:26.550697",
   "environment_variables": {},
   "exception": null,
   "input_path": "__notebook__.ipynb",
   "output_path": "__notebook__.ipynb",
   "parameters": {},
   "start_time": "2023-01-03T21:20:23.414984",
   "version": "2.3.4"
  }
 },
 "nbformat": 4,
 "nbformat_minor": 5
}
