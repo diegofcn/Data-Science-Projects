{
 "cells": [
  {
   "cell_type": "code",
   "execution_count": 1,
   "id": "5bdf759d",
   "metadata": {
    "_cell_guid": "b1076dfc-b9ad-4769-8c92-a6c4dae69d19",
    "_uuid": "8f2839f25d086af736a60e9eeb907d3b93b6e0e5",
    "execution": {
     "iopub.execute_input": "2022-12-19T13:15:16.102364Z",
     "iopub.status.busy": "2022-12-19T13:15:16.101308Z",
     "iopub.status.idle": "2022-12-19T13:15:16.120434Z",
     "shell.execute_reply": "2022-12-19T13:15:16.118981Z"
    },
    "papermill": {
     "duration": 0.0441,
     "end_time": "2022-12-19T13:15:16.124323",
     "exception": false,
     "start_time": "2022-12-19T13:15:16.080223",
     "status": "completed"
    },
    "tags": []
   },
   "outputs": [
    {
     "name": "stdout",
     "output_type": "stream",
     "text": [
      "/kaggle/input/titanic/train.csv\n",
      "/kaggle/input/titanic/test.csv\n",
      "/kaggle/input/titanic/gender_submission.csv\n"
     ]
    }
   ],
   "source": [
    "# This Python 3 environment comes with many helpful analytics libraries installed\n",
    "# It is defined by the kaggle/python Docker image: https://github.com/kaggle/docker-python\n",
    "# For example, here's several helpful packages to load\n",
    "\n",
    "import numpy as np # linear algebra\n",
    "import pandas as pd # data processing, CSV file I/O (e.g. pd.read_csv)\n",
    "\n",
    "# Input data files are available in the read-only \"../input/\" directory\n",
    "# For example, running this (by clicking run or pressing Shift+Enter) will list all files under the input directory\n",
    "\n",
    "import os\n",
    "for dirname, _, filenames in os.walk('/kaggle/input'):\n",
    "    for filename in filenames:\n",
    "        print(os.path.join(dirname, filename))\n",
    "\n",
    "# You can write up to 20GB to the current directory (/kaggle/working/) that gets preserved as output when you create a version using \"Save & Run All\" \n",
    "# You can also write temporary files to /kaggle/temp/, but they won't be saved outside of the current session"
   ]
  },
  {
   "cell_type": "code",
   "execution_count": 2,
   "id": "d0fb2a09",
   "metadata": {
    "execution": {
     "iopub.execute_input": "2022-12-19T13:15:16.175556Z",
     "iopub.status.busy": "2022-12-19T13:15:16.174808Z",
     "iopub.status.idle": "2022-12-19T13:15:16.211966Z",
     "shell.execute_reply": "2022-12-19T13:15:16.210588Z"
    },
    "papermill": {
     "duration": 0.065001,
     "end_time": "2022-12-19T13:15:16.215136",
     "exception": false,
     "start_time": "2022-12-19T13:15:16.150135",
     "status": "completed"
    },
    "tags": []
   },
   "outputs": [],
   "source": [
    "df = pd.read_csv('/kaggle/input/titanic/train.csv')\n",
    "df_test = pd.read_csv('/kaggle/input/titanic/test.csv')\n",
    "test_ids = df_test['PassengerId']"
   ]
  },
  {
   "cell_type": "code",
   "execution_count": 3,
   "id": "1b86f500",
   "metadata": {
    "execution": {
     "iopub.execute_input": "2022-12-19T13:15:16.254829Z",
     "iopub.status.busy": "2022-12-19T13:15:16.254408Z",
     "iopub.status.idle": "2022-12-19T13:15:16.284652Z",
     "shell.execute_reply": "2022-12-19T13:15:16.283218Z"
    },
    "papermill": {
     "duration": 0.052705,
     "end_time": "2022-12-19T13:15:16.287367",
     "exception": false,
     "start_time": "2022-12-19T13:15:16.234662",
     "status": "completed"
    },
    "tags": []
   },
   "outputs": [
    {
     "data": {
      "text/html": [
       "<div>\n",
       "<style scoped>\n",
       "    .dataframe tbody tr th:only-of-type {\n",
       "        vertical-align: middle;\n",
       "    }\n",
       "\n",
       "    .dataframe tbody tr th {\n",
       "        vertical-align: top;\n",
       "    }\n",
       "\n",
       "    .dataframe thead th {\n",
       "        text-align: right;\n",
       "    }\n",
       "</style>\n",
       "<table border=\"1\" class=\"dataframe\">\n",
       "  <thead>\n",
       "    <tr style=\"text-align: right;\">\n",
       "      <th></th>\n",
       "      <th>PassengerId</th>\n",
       "      <th>Survived</th>\n",
       "      <th>Pclass</th>\n",
       "      <th>Name</th>\n",
       "      <th>Sex</th>\n",
       "      <th>Age</th>\n",
       "      <th>SibSp</th>\n",
       "      <th>Parch</th>\n",
       "      <th>Ticket</th>\n",
       "      <th>Fare</th>\n",
       "      <th>Cabin</th>\n",
       "      <th>Embarked</th>\n",
       "    </tr>\n",
       "  </thead>\n",
       "  <tbody>\n",
       "    <tr>\n",
       "      <th>0</th>\n",
       "      <td>1</td>\n",
       "      <td>0</td>\n",
       "      <td>3</td>\n",
       "      <td>Braund, Mr. Owen Harris</td>\n",
       "      <td>male</td>\n",
       "      <td>22.0</td>\n",
       "      <td>1</td>\n",
       "      <td>0</td>\n",
       "      <td>A/5 21171</td>\n",
       "      <td>7.2500</td>\n",
       "      <td>NaN</td>\n",
       "      <td>S</td>\n",
       "    </tr>\n",
       "    <tr>\n",
       "      <th>1</th>\n",
       "      <td>2</td>\n",
       "      <td>1</td>\n",
       "      <td>1</td>\n",
       "      <td>Cumings, Mrs. John Bradley (Florence Briggs Th...</td>\n",
       "      <td>female</td>\n",
       "      <td>38.0</td>\n",
       "      <td>1</td>\n",
       "      <td>0</td>\n",
       "      <td>PC 17599</td>\n",
       "      <td>71.2833</td>\n",
       "      <td>C85</td>\n",
       "      <td>C</td>\n",
       "    </tr>\n",
       "    <tr>\n",
       "      <th>2</th>\n",
       "      <td>3</td>\n",
       "      <td>1</td>\n",
       "      <td>3</td>\n",
       "      <td>Heikkinen, Miss. Laina</td>\n",
       "      <td>female</td>\n",
       "      <td>26.0</td>\n",
       "      <td>0</td>\n",
       "      <td>0</td>\n",
       "      <td>STON/O2. 3101282</td>\n",
       "      <td>7.9250</td>\n",
       "      <td>NaN</td>\n",
       "      <td>S</td>\n",
       "    </tr>\n",
       "    <tr>\n",
       "      <th>3</th>\n",
       "      <td>4</td>\n",
       "      <td>1</td>\n",
       "      <td>1</td>\n",
       "      <td>Futrelle, Mrs. Jacques Heath (Lily May Peel)</td>\n",
       "      <td>female</td>\n",
       "      <td>35.0</td>\n",
       "      <td>1</td>\n",
       "      <td>0</td>\n",
       "      <td>113803</td>\n",
       "      <td>53.1000</td>\n",
       "      <td>C123</td>\n",
       "      <td>S</td>\n",
       "    </tr>\n",
       "    <tr>\n",
       "      <th>4</th>\n",
       "      <td>5</td>\n",
       "      <td>0</td>\n",
       "      <td>3</td>\n",
       "      <td>Allen, Mr. William Henry</td>\n",
       "      <td>male</td>\n",
       "      <td>35.0</td>\n",
       "      <td>0</td>\n",
       "      <td>0</td>\n",
       "      <td>373450</td>\n",
       "      <td>8.0500</td>\n",
       "      <td>NaN</td>\n",
       "      <td>S</td>\n",
       "    </tr>\n",
       "  </tbody>\n",
       "</table>\n",
       "</div>"
      ],
      "text/plain": [
       "   PassengerId  Survived  Pclass  \\\n",
       "0            1         0       3   \n",
       "1            2         1       1   \n",
       "2            3         1       3   \n",
       "3            4         1       1   \n",
       "4            5         0       3   \n",
       "\n",
       "                                                Name     Sex   Age  SibSp  \\\n",
       "0                            Braund, Mr. Owen Harris    male  22.0      1   \n",
       "1  Cumings, Mrs. John Bradley (Florence Briggs Th...  female  38.0      1   \n",
       "2                             Heikkinen, Miss. Laina  female  26.0      0   \n",
       "3       Futrelle, Mrs. Jacques Heath (Lily May Peel)  female  35.0      1   \n",
       "4                           Allen, Mr. William Henry    male  35.0      0   \n",
       "\n",
       "   Parch            Ticket     Fare Cabin Embarked  \n",
       "0      0         A/5 21171   7.2500   NaN        S  \n",
       "1      0          PC 17599  71.2833   C85        C  \n",
       "2      0  STON/O2. 3101282   7.9250   NaN        S  \n",
       "3      0            113803  53.1000  C123        S  \n",
       "4      0            373450   8.0500   NaN        S  "
      ]
     },
     "execution_count": 3,
     "metadata": {},
     "output_type": "execute_result"
    }
   ],
   "source": [
    "df.head()"
   ]
  },
  {
   "cell_type": "code",
   "execution_count": 4,
   "id": "a2c71522",
   "metadata": {
    "execution": {
     "iopub.execute_input": "2022-12-19T13:15:16.324658Z",
     "iopub.status.busy": "2022-12-19T13:15:16.324230Z",
     "iopub.status.idle": "2022-12-19T13:15:16.340172Z",
     "shell.execute_reply": "2022-12-19T13:15:16.339199Z"
    },
    "papermill": {
     "duration": 0.037601,
     "end_time": "2022-12-19T13:15:16.342764",
     "exception": false,
     "start_time": "2022-12-19T13:15:16.305163",
     "status": "completed"
    },
    "tags": []
   },
   "outputs": [
    {
     "data": {
      "text/html": [
       "<div>\n",
       "<style scoped>\n",
       "    .dataframe tbody tr th:only-of-type {\n",
       "        vertical-align: middle;\n",
       "    }\n",
       "\n",
       "    .dataframe tbody tr th {\n",
       "        vertical-align: top;\n",
       "    }\n",
       "\n",
       "    .dataframe thead th {\n",
       "        text-align: right;\n",
       "    }\n",
       "</style>\n",
       "<table border=\"1\" class=\"dataframe\">\n",
       "  <thead>\n",
       "    <tr style=\"text-align: right;\">\n",
       "      <th></th>\n",
       "      <th>PassengerId</th>\n",
       "      <th>Pclass</th>\n",
       "      <th>Name</th>\n",
       "      <th>Sex</th>\n",
       "      <th>Age</th>\n",
       "      <th>SibSp</th>\n",
       "      <th>Parch</th>\n",
       "      <th>Ticket</th>\n",
       "      <th>Fare</th>\n",
       "      <th>Cabin</th>\n",
       "      <th>Embarked</th>\n",
       "    </tr>\n",
       "  </thead>\n",
       "  <tbody>\n",
       "    <tr>\n",
       "      <th>0</th>\n",
       "      <td>892</td>\n",
       "      <td>3</td>\n",
       "      <td>Kelly, Mr. James</td>\n",
       "      <td>male</td>\n",
       "      <td>34.5</td>\n",
       "      <td>0</td>\n",
       "      <td>0</td>\n",
       "      <td>330911</td>\n",
       "      <td>7.8292</td>\n",
       "      <td>NaN</td>\n",
       "      <td>Q</td>\n",
       "    </tr>\n",
       "    <tr>\n",
       "      <th>1</th>\n",
       "      <td>893</td>\n",
       "      <td>3</td>\n",
       "      <td>Wilkes, Mrs. James (Ellen Needs)</td>\n",
       "      <td>female</td>\n",
       "      <td>47.0</td>\n",
       "      <td>1</td>\n",
       "      <td>0</td>\n",
       "      <td>363272</td>\n",
       "      <td>7.0000</td>\n",
       "      <td>NaN</td>\n",
       "      <td>S</td>\n",
       "    </tr>\n",
       "    <tr>\n",
       "      <th>2</th>\n",
       "      <td>894</td>\n",
       "      <td>2</td>\n",
       "      <td>Myles, Mr. Thomas Francis</td>\n",
       "      <td>male</td>\n",
       "      <td>62.0</td>\n",
       "      <td>0</td>\n",
       "      <td>0</td>\n",
       "      <td>240276</td>\n",
       "      <td>9.6875</td>\n",
       "      <td>NaN</td>\n",
       "      <td>Q</td>\n",
       "    </tr>\n",
       "    <tr>\n",
       "      <th>3</th>\n",
       "      <td>895</td>\n",
       "      <td>3</td>\n",
       "      <td>Wirz, Mr. Albert</td>\n",
       "      <td>male</td>\n",
       "      <td>27.0</td>\n",
       "      <td>0</td>\n",
       "      <td>0</td>\n",
       "      <td>315154</td>\n",
       "      <td>8.6625</td>\n",
       "      <td>NaN</td>\n",
       "      <td>S</td>\n",
       "    </tr>\n",
       "    <tr>\n",
       "      <th>4</th>\n",
       "      <td>896</td>\n",
       "      <td>3</td>\n",
       "      <td>Hirvonen, Mrs. Alexander (Helga E Lindqvist)</td>\n",
       "      <td>female</td>\n",
       "      <td>22.0</td>\n",
       "      <td>1</td>\n",
       "      <td>1</td>\n",
       "      <td>3101298</td>\n",
       "      <td>12.2875</td>\n",
       "      <td>NaN</td>\n",
       "      <td>S</td>\n",
       "    </tr>\n",
       "  </tbody>\n",
       "</table>\n",
       "</div>"
      ],
      "text/plain": [
       "   PassengerId  Pclass                                          Name     Sex  \\\n",
       "0          892       3                              Kelly, Mr. James    male   \n",
       "1          893       3              Wilkes, Mrs. James (Ellen Needs)  female   \n",
       "2          894       2                     Myles, Mr. Thomas Francis    male   \n",
       "3          895       3                              Wirz, Mr. Albert    male   \n",
       "4          896       3  Hirvonen, Mrs. Alexander (Helga E Lindqvist)  female   \n",
       "\n",
       "    Age  SibSp  Parch   Ticket     Fare Cabin Embarked  \n",
       "0  34.5      0      0   330911   7.8292   NaN        Q  \n",
       "1  47.0      1      0   363272   7.0000   NaN        S  \n",
       "2  62.0      0      0   240276   9.6875   NaN        Q  \n",
       "3  27.0      0      0   315154   8.6625   NaN        S  \n",
       "4  22.0      1      1  3101298  12.2875   NaN        S  "
      ]
     },
     "execution_count": 4,
     "metadata": {},
     "output_type": "execute_result"
    }
   ],
   "source": [
    "df_test.head()"
   ]
  },
  {
   "cell_type": "code",
   "execution_count": 5,
   "id": "b5870b45",
   "metadata": {
    "execution": {
     "iopub.execute_input": "2022-12-19T13:15:16.380214Z",
     "iopub.status.busy": "2022-12-19T13:15:16.379800Z",
     "iopub.status.idle": "2022-12-19T13:15:16.390945Z",
     "shell.execute_reply": "2022-12-19T13:15:16.389606Z"
    },
    "papermill": {
     "duration": 0.033575,
     "end_time": "2022-12-19T13:15:16.394285",
     "exception": false,
     "start_time": "2022-12-19T13:15:16.360710",
     "status": "completed"
    },
    "tags": []
   },
   "outputs": [
    {
     "data": {
      "text/plain": [
       "PassengerId    False\n",
       "Survived       False\n",
       "Pclass         False\n",
       "Name           False\n",
       "Sex            False\n",
       "Age             True\n",
       "SibSp          False\n",
       "Parch          False\n",
       "Ticket         False\n",
       "Fare           False\n",
       "Cabin           True\n",
       "Embarked        True\n",
       "dtype: bool"
      ]
     },
     "execution_count": 5,
     "metadata": {},
     "output_type": "execute_result"
    }
   ],
   "source": [
    "df.isnull().any()"
   ]
  },
  {
   "cell_type": "code",
   "execution_count": 6,
   "id": "77cb2b37",
   "metadata": {
    "execution": {
     "iopub.execute_input": "2022-12-19T13:15:16.442602Z",
     "iopub.status.busy": "2022-12-19T13:15:16.442098Z",
     "iopub.status.idle": "2022-12-19T13:15:16.449964Z",
     "shell.execute_reply": "2022-12-19T13:15:16.448838Z"
    },
    "papermill": {
     "duration": 0.034824,
     "end_time": "2022-12-19T13:15:16.453777",
     "exception": false,
     "start_time": "2022-12-19T13:15:16.418953",
     "status": "completed"
    },
    "tags": []
   },
   "outputs": [
    {
     "name": "stdout",
     "output_type": "stream",
     "text": [
      "Total number of rows in training data  891\n",
      "Total number of columns in training data  12\n",
      "Total number of rows in test data  418\n",
      "Total number of columns in test data  11\n"
     ]
    }
   ],
   "source": [
    "print(\"Total number of rows in training data \", df.shape[0])\n",
    "print(\"Total number of columns in training data \", df.shape[1])\n",
    "print(\"Total number of rows in test data \", df_test.shape[0])\n",
    "print(\"Total number of columns in test data \", df_test.shape[1])"
   ]
  },
  {
   "cell_type": "code",
   "execution_count": 7,
   "id": "f24bbdf9",
   "metadata": {
    "execution": {
     "iopub.execute_input": "2022-12-19T13:15:16.501986Z",
     "iopub.status.busy": "2022-12-19T13:15:16.501576Z",
     "iopub.status.idle": "2022-12-19T13:15:17.707619Z",
     "shell.execute_reply": "2022-12-19T13:15:17.706462Z"
    },
    "papermill": {
     "duration": 1.231491,
     "end_time": "2022-12-19T13:15:17.710605",
     "exception": false,
     "start_time": "2022-12-19T13:15:16.479114",
     "status": "completed"
    },
    "tags": []
   },
   "outputs": [],
   "source": [
    "import seaborn as sns \n",
    "import matplotlib.pyplot as plt"
   ]
  },
  {
   "cell_type": "code",
   "execution_count": 8,
   "id": "e57f7f96",
   "metadata": {
    "execution": {
     "iopub.execute_input": "2022-12-19T13:15:17.750796Z",
     "iopub.status.busy": "2022-12-19T13:15:17.750384Z",
     "iopub.status.idle": "2022-12-19T13:15:18.021439Z",
     "shell.execute_reply": "2022-12-19T13:15:18.020359Z"
    },
    "papermill": {
     "duration": 0.294367,
     "end_time": "2022-12-19T13:15:18.023859",
     "exception": false,
     "start_time": "2022-12-19T13:15:17.729492",
     "status": "completed"
    },
    "tags": []
   },
   "outputs": [
    {
     "data": {
      "image/png": "[encoded data removed]",
      "text/plain": [
       "<Figure size 936x360 with 1 Axes>"
      ]
     },
     "metadata": {
      "needs_background": "light"
     },
     "output_type": "display_data"
    }
   ],
   "source": [
    "plt.figure(figsize = (13,5))\n",
    "plt.bar(df.columns, df.isna().sum())\n",
    "plt.xlabel(\"Columns name\")\n",
    "plt.ylabel(\"Number of missing values in training data\")\n",
    "plt.show()"
   ]
  },
  {
   "cell_type": "code",
   "execution_count": 9,
   "id": "017eee65",
   "metadata": {
    "execution": {
     "iopub.execute_input": "2022-12-19T13:15:18.064587Z",
     "iopub.status.busy": "2022-12-19T13:15:18.063618Z",
     "iopub.status.idle": "2022-12-19T13:15:18.327823Z",
     "shell.execute_reply": "2022-12-19T13:15:18.326613Z"
    },
    "papermill": {
     "duration": 0.287163,
     "end_time": "2022-12-19T13:15:18.330546",
     "exception": false,
     "start_time": "2022-12-19T13:15:18.043383",
     "status": "completed"
    },
    "tags": []
   },
   "outputs": [
    {
     "data": {
      "image/png": "[encoded data removed]",
      "text/plain": [
       "<Figure size 936x360 with 1 Axes>"
      ]
     },
     "metadata": {
      "needs_background": "light"
     },
     "output_type": "display_data"
    }
   ],
   "source": [
    "plt.figure(figsize = (13,5))\n",
    "plt.bar(df_test.columns, df_test.isnull().sum().values, color = 'red')\n",
    "plt.xlabel(\"Columns name\")\n",
    "plt.ylabel(\"Number of missing values in test data\")\n",
    "plt.show()"
   ]
  },
  {
   "cell_type": "code",
   "execution_count": 10,
   "id": "6f5e593a",
   "metadata": {
    "execution": {
     "iopub.execute_input": "2022-12-19T13:15:18.371944Z",
     "iopub.status.busy": "2022-12-19T13:15:18.371550Z",
     "iopub.status.idle": "2022-12-19T13:15:18.549055Z",
     "shell.execute_reply": "2022-12-19T13:15:18.547695Z"
    },
    "papermill": {
     "duration": 0.202072,
     "end_time": "2022-12-19T13:15:18.552276",
     "exception": false,
     "start_time": "2022-12-19T13:15:18.350204",
     "status": "completed"
    },
    "tags": []
   },
   "outputs": [
    {
     "name": "stderr",
     "output_type": "stream",
     "text": [
      "/opt/conda/lib/python3.7/site-packages/seaborn/_decorators.py:43: FutureWarning: Pass the following variable as a keyword arg: x. From version 0.12, the only valid positional argument will be `data`, and passing other arguments without an explicit keyword will result in an error or misinterpretation.\n",
      "  FutureWarning\n"
     ]
    },
    {
     "data": {
      "image/png": "[encoded data removed]",
      "text/plain": [
       "<Figure size 432x288 with 1 Axes>"
      ]
     },
     "metadata": {
      "needs_background": "light"
     },
     "output_type": "display_data"
    }
   ],
   "source": [
    "sns.countplot('Survived', data = df)\n",
    "plt.show()"
   ]
  },
  {
   "cell_type": "code",
   "execution_count": 11,
   "id": "e91377fd",
   "metadata": {
    "execution": {
     "iopub.execute_input": "2022-12-19T13:15:18.592877Z",
     "iopub.status.busy": "2022-12-19T13:15:18.592471Z",
     "iopub.status.idle": "2022-12-19T13:15:18.719725Z",
     "shell.execute_reply": "2022-12-19T13:15:18.718345Z"
    },
    "papermill": {
     "duration": 0.150186,
     "end_time": "2022-12-19T13:15:18.722271",
     "exception": false,
     "start_time": "2022-12-19T13:15:18.572085",
     "status": "completed"
    },
    "tags": []
   },
   "outputs": [
    {
     "name": "stderr",
     "output_type": "stream",
     "text": [
      "/opt/conda/lib/python3.7/site-packages/seaborn/_decorators.py:43: FutureWarning: Pass the following variable as a keyword arg: x. From version 0.12, the only valid positional argument will be `data`, and passing other arguments without an explicit keyword will result in an error or misinterpretation.\n",
      "  FutureWarning\n"
     ]
    },
    {
     "data": {
      "image/png": "[encoded data removed]",
      "text/plain": [
       "<Figure size 432x288 with 1 Axes>"
      ]
     },
     "metadata": {
      "needs_background": "light"
     },
     "output_type": "display_data"
    }
   ],
   "source": [
    "sns.countplot('Embarked', data = df)\n",
    "plt.show()"
   ]
  },
  {
   "cell_type": "code",
   "execution_count": 12,
   "id": "4eeba467",
   "metadata": {
    "execution": {
     "iopub.execute_input": "2022-12-19T13:15:18.765741Z",
     "iopub.status.busy": "2022-12-19T13:15:18.764142Z",
     "iopub.status.idle": "2022-12-19T13:15:18.927162Z",
     "shell.execute_reply": "2022-12-19T13:15:18.925789Z"
    },
    "papermill": {
     "duration": 0.18792,
     "end_time": "2022-12-19T13:15:18.930211",
     "exception": false,
     "start_time": "2022-12-19T13:15:18.742291",
     "status": "completed"
    },
    "tags": []
   },
   "outputs": [
    {
     "name": "stderr",
     "output_type": "stream",
     "text": [
      "/opt/conda/lib/python3.7/site-packages/seaborn/_decorators.py:43: FutureWarning: Pass the following variable as a keyword arg: x. From version 0.12, the only valid positional argument will be `data`, and passing other arguments without an explicit keyword will result in an error or misinterpretation.\n",
      "  FutureWarning\n"
     ]
    },
    {
     "data": {
      "text/plain": [
       "[]"
      ]
     },
     "execution_count": 12,
     "metadata": {},
     "output_type": "execute_result"
    },
    {
     "data": {
      "image/png": "[encoded data removed]",
      "text/plain": [
       "<Figure size 432x288 with 1 Axes>"
      ]
     },
     "metadata": {
      "needs_background": "light"
     },
     "output_type": "display_data"
    }
   ],
   "source": [
    "sns.countplot('Survived', hue = 'Sex', data = df)\n",
    "plt.plot()"
   ]
  },
  {
   "cell_type": "code",
   "execution_count": 13,
   "id": "27239e31",
   "metadata": {
    "execution": {
     "iopub.execute_input": "2022-12-19T13:15:18.972734Z",
     "iopub.status.busy": "2022-12-19T13:15:18.972321Z",
     "iopub.status.idle": "2022-12-19T13:15:19.131321Z",
     "shell.execute_reply": "2022-12-19T13:15:19.129907Z"
    },
    "papermill": {
     "duration": 0.18427,
     "end_time": "2022-12-19T13:15:19.134475",
     "exception": false,
     "start_time": "2022-12-19T13:15:18.950205",
     "status": "completed"
    },
    "tags": []
   },
   "outputs": [
    {
     "name": "stderr",
     "output_type": "stream",
     "text": [
      "/opt/conda/lib/python3.7/site-packages/seaborn/_decorators.py:43: FutureWarning: Pass the following variable as a keyword arg: x. From version 0.12, the only valid positional argument will be `data`, and passing other arguments without an explicit keyword will result in an error or misinterpretation.\n",
      "  FutureWarning\n"
     ]
    },
    {
     "data": {
      "image/png": "[encoded data removed]",
      "text/plain": [
       "<Figure size 432x288 with 1 Axes>"
      ]
     },
     "metadata": {
      "needs_background": "light"
     },
     "output_type": "display_data"
    }
   ],
   "source": [
    "sns.countplot(\"Survived\", hue = 'Pclass', data = df)\n",
    "plt.show()"
   ]
  },
  {
   "cell_type": "code",
   "execution_count": 14,
   "id": "60ce3a5d",
   "metadata": {
    "execution": {
     "iopub.execute_input": "2022-12-19T13:15:19.177769Z",
     "iopub.status.busy": "2022-12-19T13:15:19.176221Z",
     "iopub.status.idle": "2022-12-19T13:15:19.337121Z",
     "shell.execute_reply": "2022-12-19T13:15:19.336189Z"
    },
    "papermill": {
     "duration": 0.185096,
     "end_time": "2022-12-19T13:15:19.339969",
     "exception": false,
     "start_time": "2022-12-19T13:15:19.154873",
     "status": "completed"
    },
    "tags": []
   },
   "outputs": [
    {
     "name": "stderr",
     "output_type": "stream",
     "text": [
      "/opt/conda/lib/python3.7/site-packages/seaborn/_decorators.py:43: FutureWarning: Pass the following variable as a keyword arg: x. From version 0.12, the only valid positional argument will be `data`, and passing other arguments without an explicit keyword will result in an error or misinterpretation.\n",
      "  FutureWarning\n"
     ]
    },
    {
     "data": {
      "image/png": "[encoded data removed]",
      "text/plain": [
       "<Figure size 432x288 with 1 Axes>"
      ]
     },
     "metadata": {
      "needs_background": "light"
     },
     "output_type": "display_data"
    }
   ],
   "source": [
    "sns.countplot('Survived', hue = 'Embarked', data = df)\n",
    "plt.show()"
   ]
  },
  {
   "cell_type": "code",
   "execution_count": 15,
   "id": "9a960fe0",
   "metadata": {
    "execution": {
     "iopub.execute_input": "2022-12-19T13:15:19.383505Z",
     "iopub.status.busy": "2022-12-19T13:15:19.382135Z",
     "iopub.status.idle": "2022-12-19T13:15:19.556068Z",
     "shell.execute_reply": "2022-12-19T13:15:19.554702Z"
    },
    "papermill": {
     "duration": 0.198606,
     "end_time": "2022-12-19T13:15:19.558550",
     "exception": false,
     "start_time": "2022-12-19T13:15:19.359944",
     "status": "completed"
    },
    "tags": []
   },
   "outputs": [
    {
     "name": "stderr",
     "output_type": "stream",
     "text": [
      "/opt/conda/lib/python3.7/site-packages/seaborn/_decorators.py:43: FutureWarning: Pass the following variable as a keyword arg: x. From version 0.12, the only valid positional argument will be `data`, and passing other arguments without an explicit keyword will result in an error or misinterpretation.\n",
      "  FutureWarning\n"
     ]
    },
    {
     "data": {
      "image/png": "[encoded data removed]",
      "text/plain": [
       "<Figure size 432x288 with 1 Axes>"
      ]
     },
     "metadata": {
      "needs_background": "light"
     },
     "output_type": "display_data"
    }
   ],
   "source": [
    "sns.boxplot('Fare', data = df)\n",
    "plt.show()"
   ]
  },
  {
   "cell_type": "code",
   "execution_count": 16,
   "id": "9f7d246b",
   "metadata": {
    "execution": {
     "iopub.execute_input": "2022-12-19T13:15:19.602326Z",
     "iopub.status.busy": "2022-12-19T13:15:19.601880Z",
     "iopub.status.idle": "2022-12-19T13:15:19.784667Z",
     "shell.execute_reply": "2022-12-19T13:15:19.783310Z"
    },
    "papermill": {
     "duration": 0.208087,
     "end_time": "2022-12-19T13:15:19.787517",
     "exception": false,
     "start_time": "2022-12-19T13:15:19.579430",
     "status": "completed"
    },
    "tags": []
   },
   "outputs": [
    {
     "name": "stderr",
     "output_type": "stream",
     "text": [
      "/opt/conda/lib/python3.7/site-packages/seaborn/_decorators.py:43: FutureWarning: Pass the following variable as a keyword arg: x. From version 0.12, the only valid positional argument will be `data`, and passing other arguments without an explicit keyword will result in an error or misinterpretation.\n",
      "  FutureWarning\n"
     ]
    },
    {
     "data": {
      "image/png": "[encoded data removed]",
      "text/plain": [
       "<Figure size 432x288 with 1 Axes>"
      ]
     },
     "metadata": {
      "needs_background": "light"
     },
     "output_type": "display_data"
    }
   ],
   "source": [
    "sns.boxplot('Age', data = df)\n",
    "plt.show()"
   ]
  },
  {
   "cell_type": "code",
   "execution_count": 17,
   "id": "38e48fd3",
   "metadata": {
    "execution": {
     "iopub.execute_input": "2022-12-19T13:15:19.832025Z",
     "iopub.status.busy": "2022-12-19T13:15:19.831576Z",
     "iopub.status.idle": "2022-12-19T13:15:20.048201Z",
     "shell.execute_reply": "2022-12-19T13:15:20.047240Z"
    },
    "papermill": {
     "duration": 0.242367,
     "end_time": "2022-12-19T13:15:20.050547",
     "exception": false,
     "start_time": "2022-12-19T13:15:19.808180",
     "status": "completed"
    },
    "tags": []
   },
   "outputs": [
    {
     "data": {
      "image/png": "[encoded data removed]",
      "text/plain": [
       "<Figure size 432x288 with 1 Axes>"
      ]
     },
     "metadata": {
      "needs_background": "light"
     },
     "output_type": "display_data"
    }
   ],
   "source": [
    "interval = 10\n",
    "value_for_bin = np.ceil((df.Age.max() - df.Age.min()) / interval).astype(int)\n",
    "\n",
    "plt.hist(df.Age, bins = value_for_bin)\n",
    "plt.xlabel(\"Age\")\n",
    "plt.ylabel(\"Number\")\n",
    "plt.show()"
   ]
  },
  {
   "cell_type": "code",
   "execution_count": 18,
   "id": "efd68f31",
   "metadata": {
    "execution": {
     "iopub.execute_input": "2022-12-19T13:15:20.095511Z",
     "iopub.status.busy": "2022-12-19T13:15:20.095044Z",
     "iopub.status.idle": "2022-12-19T13:15:20.326766Z",
     "shell.execute_reply": "2022-12-19T13:15:20.325562Z"
    },
    "papermill": {
     "duration": 0.25776,
     "end_time": "2022-12-19T13:15:20.329668",
     "exception": false,
     "start_time": "2022-12-19T13:15:20.071908",
     "status": "completed"
    },
    "tags": []
   },
   "outputs": [
    {
     "data": {
      "image/png": "[encoded data removed]",
      "text/plain": [
       "<Figure size 720x288 with 1 Axes>"
      ]
     },
     "metadata": {
      "needs_background": "light"
     },
     "output_type": "display_data"
    }
   ],
   "source": [
    "plt.figure(figsize = (10,4))\n",
    "plt.hist(df.Fare, bins = 10, color = 'lime')\n",
    "plt.xlabel(\"Fare\")\n",
    "plt.ylabel(\"Number\")\n",
    "plt.show()"
   ]
  },
  {
   "cell_type": "code",
   "execution_count": 19,
   "id": "4c9f184d",
   "metadata": {
    "execution": {
     "iopub.execute_input": "2022-12-19T13:15:20.374454Z",
     "iopub.status.busy": "2022-12-19T13:15:20.373989Z",
     "iopub.status.idle": "2022-12-19T13:15:21.952647Z",
     "shell.execute_reply": "2022-12-19T13:15:21.951335Z"
    },
    "papermill": {
     "duration": 1.603805,
     "end_time": "2022-12-19T13:15:21.955239",
     "exception": false,
     "start_time": "2022-12-19T13:15:20.351434",
     "status": "completed"
    },
    "tags": []
   },
   "outputs": [
    {
     "name": "stderr",
     "output_type": "stream",
     "text": [
      "/opt/conda/lib/python3.7/site-packages/seaborn/axisgrid.py:337: UserWarning: The `size` parameter has been renamed to `height`; please update your code.\n",
      "  warnings.warn(msg, UserWarning)\n"
     ]
    },
    {
     "data": {
      "image/png": "[encoded data removed]",
      "text/plain": [
       "<Figure size 514.88x475.2 with 6 Axes>"
      ]
     },
     "metadata": {
      "needs_background": "light"
     },
     "output_type": "display_data"
    }
   ],
   "source": [
    "grid = sns.FacetGrid(df, col='Survived', row='Pclass', size=2.2, aspect=1.6)\n",
    "grid.map(plt.hist, 'Age', alpha=.5, bins=20)\n",
    "grid.add_legend()\n",
    "plt.show()"
   ]
  },
  {
   "cell_type": "code",
   "execution_count": 20,
   "id": "a1b16a07",
   "metadata": {
    "execution": {
     "iopub.execute_input": "2022-12-19T13:15:22.001744Z",
     "iopub.status.busy": "2022-12-19T13:15:22.001347Z",
     "iopub.status.idle": "2022-12-19T13:15:22.980183Z",
     "shell.execute_reply": "2022-12-19T13:15:22.978986Z"
    },
    "papermill": {
     "duration": 1.005273,
     "end_time": "2022-12-19T13:15:22.983100",
     "exception": false,
     "start_time": "2022-12-19T13:15:21.977827",
     "status": "completed"
    },
    "tags": []
   },
   "outputs": [
    {
     "name": "stderr",
     "output_type": "stream",
     "text": [
      "/opt/conda/lib/python3.7/site-packages/seaborn/axisgrid.py:337: UserWarning: The `size` parameter has been renamed to `height`; please update your code.\n",
      "  warnings.warn(msg, UserWarning)\n",
      "/opt/conda/lib/python3.7/site-packages/seaborn/axisgrid.py:670: UserWarning: Using the barplot function without specifying `order` is likely to produce an incorrect plot.\n",
      "  warnings.warn(warning)\n"
     ]
    },
    {
     "data": {
      "image/png": "[encoded data removed]",
      "text/plain": [
       "<Figure size 514.88x475.2 with 6 Axes>"
      ]
     },
     "metadata": {
      "needs_background": "light"
     },
     "output_type": "display_data"
    }
   ],
   "source": [
    "grid = sns.FacetGrid(df, row='Embarked', col='Survived', size=2.2, aspect=1.6)\n",
    "grid.map(sns.barplot, 'Sex', 'Fare', alpha=.5, ci=None)\n",
    "grid.add_legend()\n",
    "plt.show()"
   ]
  },
  {
   "cell_type": "code",
   "execution_count": 21,
   "id": "ae52c813",
   "metadata": {
    "execution": {
     "iopub.execute_input": "2022-12-19T13:15:23.029156Z",
     "iopub.status.busy": "2022-12-19T13:15:23.028732Z",
     "iopub.status.idle": "2022-12-19T13:15:23.343153Z",
     "shell.execute_reply": "2022-12-19T13:15:23.341621Z"
    },
    "papermill": {
     "duration": 0.34132,
     "end_time": "2022-12-19T13:15:23.346418",
     "exception": false,
     "start_time": "2022-12-19T13:15:23.005098",
     "status": "completed"
    },
    "tags": []
   },
   "outputs": [
    {
     "data": {
      "image/png": "[encoded data removed]",
      "text/plain": [
       "<Figure size 432x288 with 2 Axes>"
      ]
     },
     "metadata": {
      "needs_background": "light"
     },
     "output_type": "display_data"
    }
   ],
   "source": [
    "corr_train = df.corr()\n",
    "sns.heatmap(corr_train)\n",
    "plt.show()"
   ]
  },
  {
   "cell_type": "code",
   "execution_count": 22,
   "id": "0ee0bd3b",
   "metadata": {
    "execution": {
     "iopub.execute_input": "2022-12-19T13:15:23.398374Z",
     "iopub.status.busy": "2022-12-19T13:15:23.397921Z",
     "iopub.status.idle": "2022-12-19T13:15:23.416533Z",
     "shell.execute_reply": "2022-12-19T13:15:23.415291Z"
    },
    "papermill": {
     "duration": 0.046405,
     "end_time": "2022-12-19T13:15:23.419043",
     "exception": false,
     "start_time": "2022-12-19T13:15:23.372638",
     "status": "completed"
    },
    "tags": []
   },
   "outputs": [
    {
     "data": {
      "text/plain": [
       "Sex     Survived\n",
       "female  0           25.796178\n",
       "        1           74.203822\n",
       "male    0           81.109185\n",
       "        1           18.890815\n",
       "Name: Survived, dtype: float64"
      ]
     },
     "execution_count": 22,
     "metadata": {},
     "output_type": "execute_result"
    }
   ],
   "source": [
    "((df.groupby(['Sex','Survived']).Survived.count() * 100) / df.groupby('Sex').Survived.count())"
   ]
  },
  {
   "cell_type": "code",
   "execution_count": 23,
   "id": "da10b9ce",
   "metadata": {
    "execution": {
     "iopub.execute_input": "2022-12-19T13:15:23.471608Z",
     "iopub.status.busy": "2022-12-19T13:15:23.470431Z",
     "iopub.status.idle": "2022-12-19T13:15:23.483634Z",
     "shell.execute_reply": "2022-12-19T13:15:23.482593Z"
    },
    "papermill": {
     "duration": 0.044423,
     "end_time": "2022-12-19T13:15:23.486474",
     "exception": false,
     "start_time": "2022-12-19T13:15:23.442051",
     "status": "completed"
    },
    "tags": []
   },
   "outputs": [
    {
     "data": {
      "text/plain": [
       "Pclass  Survived\n",
       "1       0           37.037037\n",
       "        1           62.962963\n",
       "2       0           52.717391\n",
       "        1           47.282609\n",
       "3       0           75.763747\n",
       "        1           24.236253\n",
       "Name: Survived, dtype: float64"
      ]
     },
     "execution_count": 23,
     "metadata": {},
     "output_type": "execute_result"
    }
   ],
   "source": [
    "(df.groupby(['Pclass','Survived']).Survived.count() * 100) / df.groupby('Pclass').Survived.count()"
   ]
  },
  {
   "cell_type": "code",
   "execution_count": 24,
   "id": "6125edea",
   "metadata": {
    "execution": {
     "iopub.execute_input": "2022-12-19T13:15:23.550359Z",
     "iopub.status.busy": "2022-12-19T13:15:23.548946Z",
     "iopub.status.idle": "2022-12-19T13:15:23.565924Z",
     "shell.execute_reply": "2022-12-19T13:15:23.564733Z"
    },
    "papermill": {
     "duration": 0.048237,
     "end_time": "2022-12-19T13:15:23.568863",
     "exception": false,
     "start_time": "2022-12-19T13:15:23.520626",
     "status": "completed"
    },
    "tags": []
   },
   "outputs": [
    {
     "data": {
      "text/plain": [
       "Embarked  Survived\n",
       "C         0           44.642857\n",
       "          1           55.357143\n",
       "Q         0           61.038961\n",
       "          1           38.961039\n",
       "S         0           66.304348\n",
       "          1           33.695652\n",
       "Name: Survived, dtype: float64"
      ]
     },
     "execution_count": 24,
     "metadata": {},
     "output_type": "execute_result"
    }
   ],
   "source": [
    "(df.groupby(['Embarked','Survived']).Survived.count() * 100) / df.groupby('Embarked').Survived.count()"
   ]
  },
  {
   "cell_type": "code",
   "execution_count": 25,
   "id": "cf799a00",
   "metadata": {
    "execution": {
     "iopub.execute_input": "2022-12-19T13:15:23.624167Z",
     "iopub.status.busy": "2022-12-19T13:15:23.622964Z",
     "iopub.status.idle": "2022-12-19T13:15:23.638552Z",
     "shell.execute_reply": "2022-12-19T13:15:23.637452Z"
    },
    "papermill": {
     "duration": 0.04774,
     "end_time": "2022-12-19T13:15:23.641107",
     "exception": false,
     "start_time": "2022-12-19T13:15:23.593367",
     "status": "completed"
    },
    "tags": []
   },
   "outputs": [
    {
     "data": {
      "text/plain": [
       "Survived\n",
       "0    30.626179\n",
       "1    28.343690\n",
       "Name: Age, dtype: float64"
      ]
     },
     "execution_count": 25,
     "metadata": {},
     "output_type": "execute_result"
    }
   ],
   "source": [
    "df.groupby(by=['Survived']).mean()[\"Age\"]"
   ]
  },
  {
   "cell_type": "code",
   "execution_count": 26,
   "id": "6c60d440",
   "metadata": {
    "execution": {
     "iopub.execute_input": "2022-12-19T13:15:23.708929Z",
     "iopub.status.busy": "2022-12-19T13:15:23.708168Z",
     "iopub.status.idle": "2022-12-19T13:15:23.722856Z",
     "shell.execute_reply": "2022-12-19T13:15:23.721745Z"
    },
    "papermill": {
     "duration": 0.056644,
     "end_time": "2022-12-19T13:15:23.726373",
     "exception": false,
     "start_time": "2022-12-19T13:15:23.669729",
     "status": "completed"
    },
    "tags": []
   },
   "outputs": [],
   "source": [
    "def clean(data):\n",
    "    data.loc[data['Parch'] >= 3, 'Age'] = data.loc[data['Parch'] >= 3, 'Age'].fillna(data[data['Parch'] >= 3].mean())\n",
    "    data.loc[data['SibSp'] > 1, 'Age'] = data.loc[data['SibSp'] > 1, 'Age'].fillna(data[data['SibSp'] > 1]['Age'].mean())\n",
    "    data.loc[data['Name'].str.contains('Miss'), 'Age'] = data.loc[data['Name'].str.contains('Miss'), 'Age'].fillna(data[data['Name'].str.contains(\"Miss\")]['Age'].mean())\n",
    "    data.loc[data['Name'].str.contains('Mrs'), 'Age'] = data.loc[data['Name'].str.contains('Mrs'), 'Age'].fillna(data[data['Name'].str.contains(\"Mrs\")]['Age'].mean())\n",
    "    data.loc[data['Name'].str.contains('Master'), 'Age'] = data.loc[data['Name'].str.contains('Master'), 'Age'].fillna(data[data['Name'].str.contains(\"Master\")]['Age'].mean())\n",
    "    data.loc[data['Name'].str.contains('Mr.'), 'Age'] = data.loc[data['Name'].str.contains('Mr.'), 'Age'].fillna(data[data['Name'].str.contains(\"Mr.\")]['Age'].mean())\n",
    "    data.loc[data['Name'].str.contains('Dr.'), 'Age'] = data.loc[data['Name'].str.contains('Dr.'), 'Age'].fillna(data[data['Name'].str.contains(\"Dr.\")]['Age'].mean())\n",
    "    data.Embarked.fillna('S', inplace = True)\n",
    "    data.Fare.fillna(data.Fare.mean(), inplace = True)\n",
    "    data.drop(['Cabin', 'PassengerId', \"Ticket\"], axis = 1, inplace = True)\n",
    "    data.Age.fillna(data.Age.mean(), inplace=True)\n",
    "    return data"
   ]
  },
  {
   "cell_type": "code",
   "execution_count": 27,
   "id": "a2c80c3f",
   "metadata": {
    "execution": {
     "iopub.execute_input": "2022-12-19T13:15:23.783332Z",
     "iopub.status.busy": "2022-12-19T13:15:23.782327Z",
     "iopub.status.idle": "2022-12-19T13:15:23.850673Z",
     "shell.execute_reply": "2022-12-19T13:15:23.849768Z"
    },
    "papermill": {
     "duration": 0.099968,
     "end_time": "2022-12-19T13:15:23.855007",
     "exception": false,
     "start_time": "2022-12-19T13:15:23.755039",
     "status": "completed"
    },
    "tags": []
   },
   "outputs": [
    {
     "name": "stderr",
     "output_type": "stream",
     "text": [
      "/opt/conda/lib/python3.7/site-packages/ipykernel_launcher.py:2: FutureWarning: Dropping of nuisance columns in DataFrame reductions (with 'numeric_only=None') is deprecated; in a future version this will raise TypeError.  Select only valid columns before calling the reduction.\n",
      "  \n"
     ]
    }
   ],
   "source": [
    "df = clean(df)\n",
    "df_test = clean(df_test)"
   ]
  },
  {
   "cell_type": "code",
   "execution_count": 28,
   "id": "2031d5f2",
   "metadata": {
    "execution": {
     "iopub.execute_input": "2022-12-19T13:15:23.912510Z",
     "iopub.status.busy": "2022-12-19T13:15:23.911524Z",
     "iopub.status.idle": "2022-12-19T13:15:23.930887Z",
     "shell.execute_reply": "2022-12-19T13:15:23.929331Z"
    },
    "papermill": {
     "duration": 0.047656,
     "end_time": "2022-12-19T13:15:23.934049",
     "exception": false,
     "start_time": "2022-12-19T13:15:23.886393",
     "status": "completed"
    },
    "tags": []
   },
   "outputs": [
    {
     "data": {
      "text/html": [
       "<div>\n",
       "<style scoped>\n",
       "    .dataframe tbody tr th:only-of-type {\n",
       "        vertical-align: middle;\n",
       "    }\n",
       "\n",
       "    .dataframe tbody tr th {\n",
       "        vertical-align: top;\n",
       "    }\n",
       "\n",
       "    .dataframe thead th {\n",
       "        text-align: right;\n",
       "    }\n",
       "</style>\n",
       "<table border=\"1\" class=\"dataframe\">\n",
       "  <thead>\n",
       "    <tr style=\"text-align: right;\">\n",
       "      <th></th>\n",
       "      <th>Survived</th>\n",
       "      <th>Pclass</th>\n",
       "      <th>Name</th>\n",
       "      <th>Sex</th>\n",
       "      <th>Age</th>\n",
       "      <th>SibSp</th>\n",
       "      <th>Parch</th>\n",
       "      <th>Fare</th>\n",
       "      <th>Embarked</th>\n",
       "    </tr>\n",
       "  </thead>\n",
       "  <tbody>\n",
       "    <tr>\n",
       "      <th>0</th>\n",
       "      <td>0</td>\n",
       "      <td>3</td>\n",
       "      <td>Braund, Mr. Owen Harris</td>\n",
       "      <td>male</td>\n",
       "      <td>22.0</td>\n",
       "      <td>1</td>\n",
       "      <td>0</td>\n",
       "      <td>7.2500</td>\n",
       "      <td>S</td>\n",
       "    </tr>\n",
       "    <tr>\n",
       "      <th>1</th>\n",
       "      <td>1</td>\n",
       "      <td>1</td>\n",
       "      <td>Cumings, Mrs. John Bradley (Florence Briggs Th...</td>\n",
       "      <td>female</td>\n",
       "      <td>38.0</td>\n",
       "      <td>1</td>\n",
       "      <td>0</td>\n",
       "      <td>71.2833</td>\n",
       "      <td>C</td>\n",
       "    </tr>\n",
       "    <tr>\n",
       "      <th>2</th>\n",
       "      <td>1</td>\n",
       "      <td>3</td>\n",
       "      <td>Heikkinen, Miss. Laina</td>\n",
       "      <td>female</td>\n",
       "      <td>26.0</td>\n",
       "      <td>0</td>\n",
       "      <td>0</td>\n",
       "      <td>7.9250</td>\n",
       "      <td>S</td>\n",
       "    </tr>\n",
       "    <tr>\n",
       "      <th>3</th>\n",
       "      <td>1</td>\n",
       "      <td>1</td>\n",
       "      <td>Futrelle, Mrs. Jacques Heath (Lily May Peel)</td>\n",
       "      <td>female</td>\n",
       "      <td>35.0</td>\n",
       "      <td>1</td>\n",
       "      <td>0</td>\n",
       "      <td>53.1000</td>\n",
       "      <td>S</td>\n",
       "    </tr>\n",
       "    <tr>\n",
       "      <th>4</th>\n",
       "      <td>0</td>\n",
       "      <td>3</td>\n",
       "      <td>Allen, Mr. William Henry</td>\n",
       "      <td>male</td>\n",
       "      <td>35.0</td>\n",
       "      <td>0</td>\n",
       "      <td>0</td>\n",
       "      <td>8.0500</td>\n",
       "      <td>S</td>\n",
       "    </tr>\n",
       "  </tbody>\n",
       "</table>\n",
       "</div>"
      ],
      "text/plain": [
       "   Survived  Pclass                                               Name  \\\n",
       "0         0       3                            Braund, Mr. Owen Harris   \n",
       "1         1       1  Cumings, Mrs. John Bradley (Florence Briggs Th...   \n",
       "2         1       3                             Heikkinen, Miss. Laina   \n",
       "3         1       1       Futrelle, Mrs. Jacques Heath (Lily May Peel)   \n",
       "4         0       3                           Allen, Mr. William Henry   \n",
       "\n",
       "      Sex   Age  SibSp  Parch     Fare Embarked  \n",
       "0    male  22.0      1      0   7.2500        S  \n",
       "1  female  38.0      1      0  71.2833        C  \n",
       "2  female  26.0      0      0   7.9250        S  \n",
       "3  female  35.0      1      0  53.1000        S  \n",
       "4    male  35.0      0      0   8.0500        S  "
      ]
     },
     "execution_count": 28,
     "metadata": {},
     "output_type": "execute_result"
    }
   ],
   "source": [
    "df.head()"
   ]
  },
  {
   "cell_type": "code",
   "execution_count": 29,
   "id": "d52a968e",
   "metadata": {
    "execution": {
     "iopub.execute_input": "2022-12-19T13:15:23.985329Z",
     "iopub.status.busy": "2022-12-19T13:15:23.984443Z",
     "iopub.status.idle": "2022-12-19T13:15:24.164538Z",
     "shell.execute_reply": "2022-12-19T13:15:24.163020Z"
    },
    "papermill": {
     "duration": 0.21085,
     "end_time": "2022-12-19T13:15:24.168874",
     "exception": false,
     "start_time": "2022-12-19T13:15:23.958024",
     "status": "completed"
    },
    "tags": []
   },
   "outputs": [
    {
     "name": "stdout",
     "output_type": "stream",
     "text": [
      "['female' 'male']\n",
      "['C' 'Q' 'S']\n"
     ]
    }
   ],
   "source": [
    "from sklearn import preprocessing\n",
    "le = preprocessing.LabelEncoder()\n",
    "cols = ['Sex', 'Embarked']\n",
    "\n",
    "for col in cols:\n",
    "    df[col] = le.fit_transform(df[col])\n",
    "    df_test[col] = le.transform(df_test[col])\n",
    "    print(le.classes_)"
   ]
  },
  {
   "cell_type": "code",
   "execution_count": 30,
   "id": "0f7d3925",
   "metadata": {
    "execution": {
     "iopub.execute_input": "2022-12-19T13:15:24.219622Z",
     "iopub.status.busy": "2022-12-19T13:15:24.218800Z",
     "iopub.status.idle": "2022-12-19T13:15:24.230580Z",
     "shell.execute_reply": "2022-12-19T13:15:24.229511Z"
    },
    "papermill": {
     "duration": 0.040604,
     "end_time": "2022-12-19T13:15:24.233725",
     "exception": false,
     "start_time": "2022-12-19T13:15:24.193121",
     "status": "completed"
    },
    "tags": []
   },
   "outputs": [],
   "source": [
    "df['Alone'] = df.SibSp + df.Parch\n",
    "df_test['Alone'] = df_test.SibSp + df_test.Parch\n",
    "\n",
    "df.Alone = df.Alone.apply(lambda x: 1 if x == 0 else 0)\n",
    "df_test.Alone = df_test.Alone.apply(lambda x: 1 if x == 0 else 0)"
   ]
  },
  {
   "cell_type": "code",
   "execution_count": 31,
   "id": "14b01ada",
   "metadata": {
    "execution": {
     "iopub.execute_input": "2022-12-19T13:15:24.287092Z",
     "iopub.status.busy": "2022-12-19T13:15:24.286226Z",
     "iopub.status.idle": "2022-12-19T13:15:24.295347Z",
     "shell.execute_reply": "2022-12-19T13:15:24.293663Z"
    },
    "papermill": {
     "duration": 0.037792,
     "end_time": "2022-12-19T13:15:24.298226",
     "exception": false,
     "start_time": "2022-12-19T13:15:24.260434",
     "status": "completed"
    },
    "tags": []
   },
   "outputs": [],
   "source": [
    "df.drop(['SibSp','Parch'], axis = 1, inplace = True)\n",
    "df_test.drop(['SibSp','Parch'], axis = 1, inplace = True)"
   ]
  },
  {
   "cell_type": "code",
   "execution_count": 32,
   "id": "5e2dfb4a",
   "metadata": {
    "execution": {
     "iopub.execute_input": "2022-12-19T13:15:24.346065Z",
     "iopub.status.busy": "2022-12-19T13:15:24.345604Z",
     "iopub.status.idle": "2022-12-19T13:15:24.351714Z",
     "shell.execute_reply": "2022-12-19T13:15:24.350270Z"
    },
    "papermill": {
     "duration": 0.033142,
     "end_time": "2022-12-19T13:15:24.354365",
     "exception": false,
     "start_time": "2022-12-19T13:15:24.321223",
     "status": "completed"
    },
    "tags": []
   },
   "outputs": [],
   "source": [
    "def title(data):\n",
    "    data['Title'] = data.Name.str.extract(' ([A-Za-z]+)\\.', expand = False)\n",
    "    return data\n"
   ]
  },
  {
   "cell_type": "code",
   "execution_count": 33,
   "id": "7af64153",
   "metadata": {
    "execution": {
     "iopub.execute_input": "2022-12-19T13:15:24.403618Z",
     "iopub.status.busy": "2022-12-19T13:15:24.403174Z",
     "iopub.status.idle": "2022-12-19T13:15:24.413144Z",
     "shell.execute_reply": "2022-12-19T13:15:24.411864Z"
    },
    "papermill": {
     "duration": 0.038295,
     "end_time": "2022-12-19T13:15:24.416379",
     "exception": false,
     "start_time": "2022-12-19T13:15:24.378084",
     "status": "completed"
    },
    "tags": []
   },
   "outputs": [],
   "source": [
    "df = title(df)\n",
    "df_test = title(df_test)"
   ]
  },
  {
   "cell_type": "code",
   "execution_count": 34,
   "id": "9920733f",
   "metadata": {
    "execution": {
     "iopub.execute_input": "2022-12-19T13:15:24.466120Z",
     "iopub.status.busy": "2022-12-19T13:15:24.465711Z",
     "iopub.status.idle": "2022-12-19T13:15:24.493010Z",
     "shell.execute_reply": "2022-12-19T13:15:24.491698Z"
    },
    "papermill": {
     "duration": 0.05485,
     "end_time": "2022-12-19T13:15:24.495755",
     "exception": false,
     "start_time": "2022-12-19T13:15:24.440905",
     "status": "completed"
    },
    "tags": []
   },
   "outputs": [
    {
     "data": {
      "text/html": [
       "<div>\n",
       "<style scoped>\n",
       "    .dataframe tbody tr th:only-of-type {\n",
       "        vertical-align: middle;\n",
       "    }\n",
       "\n",
       "    .dataframe tbody tr th {\n",
       "        vertical-align: top;\n",
       "    }\n",
       "\n",
       "    .dataframe thead th {\n",
       "        text-align: right;\n",
       "    }\n",
       "</style>\n",
       "<table border=\"1\" class=\"dataframe\">\n",
       "  <thead>\n",
       "    <tr style=\"text-align: right;\">\n",
       "      <th>Sex</th>\n",
       "      <th>0</th>\n",
       "      <th>1</th>\n",
       "    </tr>\n",
       "    <tr>\n",
       "      <th>Title</th>\n",
       "      <th></th>\n",
       "      <th></th>\n",
       "    </tr>\n",
       "  </thead>\n",
       "  <tbody>\n",
       "    <tr>\n",
       "      <th>Capt</th>\n",
       "      <td>0</td>\n",
       "      <td>1</td>\n",
       "    </tr>\n",
       "    <tr>\n",
       "      <th>Col</th>\n",
       "      <td>0</td>\n",
       "      <td>2</td>\n",
       "    </tr>\n",
       "    <tr>\n",
       "      <th>Countess</th>\n",
       "      <td>1</td>\n",
       "      <td>0</td>\n",
       "    </tr>\n",
       "    <tr>\n",
       "      <th>Don</th>\n",
       "      <td>0</td>\n",
       "      <td>1</td>\n",
       "    </tr>\n",
       "    <tr>\n",
       "      <th>Dr</th>\n",
       "      <td>1</td>\n",
       "      <td>6</td>\n",
       "    </tr>\n",
       "    <tr>\n",
       "      <th>Jonkheer</th>\n",
       "      <td>0</td>\n",
       "      <td>1</td>\n",
       "    </tr>\n",
       "    <tr>\n",
       "      <th>Lady</th>\n",
       "      <td>1</td>\n",
       "      <td>0</td>\n",
       "    </tr>\n",
       "    <tr>\n",
       "      <th>Major</th>\n",
       "      <td>0</td>\n",
       "      <td>2</td>\n",
       "    </tr>\n",
       "    <tr>\n",
       "      <th>Master</th>\n",
       "      <td>0</td>\n",
       "      <td>40</td>\n",
       "    </tr>\n",
       "    <tr>\n",
       "      <th>Miss</th>\n",
       "      <td>182</td>\n",
       "      <td>0</td>\n",
       "    </tr>\n",
       "    <tr>\n",
       "      <th>Mlle</th>\n",
       "      <td>2</td>\n",
       "      <td>0</td>\n",
       "    </tr>\n",
       "    <tr>\n",
       "      <th>Mme</th>\n",
       "      <td>1</td>\n",
       "      <td>0</td>\n",
       "    </tr>\n",
       "    <tr>\n",
       "      <th>Mr</th>\n",
       "      <td>0</td>\n",
       "      <td>517</td>\n",
       "    </tr>\n",
       "    <tr>\n",
       "      <th>Mrs</th>\n",
       "      <td>125</td>\n",
       "      <td>0</td>\n",
       "    </tr>\n",
       "    <tr>\n",
       "      <th>Ms</th>\n",
       "      <td>1</td>\n",
       "      <td>0</td>\n",
       "    </tr>\n",
       "    <tr>\n",
       "      <th>Rev</th>\n",
       "      <td>0</td>\n",
       "      <td>6</td>\n",
       "    </tr>\n",
       "    <tr>\n",
       "      <th>Sir</th>\n",
       "      <td>0</td>\n",
       "      <td>1</td>\n",
       "    </tr>\n",
       "  </tbody>\n",
       "</table>\n",
       "</div>"
      ],
      "text/plain": [
       "Sex         0    1\n",
       "Title             \n",
       "Capt        0    1\n",
       "Col         0    2\n",
       "Countess    1    0\n",
       "Don         0    1\n",
       "Dr          1    6\n",
       "Jonkheer    0    1\n",
       "Lady        1    0\n",
       "Major       0    2\n",
       "Master      0   40\n",
       "Miss      182    0\n",
       "Mlle        2    0\n",
       "Mme         1    0\n",
       "Mr          0  517\n",
       "Mrs       125    0\n",
       "Ms          1    0\n",
       "Rev         0    6\n",
       "Sir         0    1"
      ]
     },
     "execution_count": 34,
     "metadata": {},
     "output_type": "execute_result"
    }
   ],
   "source": [
    "pd.crosstab(df['Title'], df['Sex'])"
   ]
  },
  {
   "cell_type": "code",
   "execution_count": 35,
   "id": "9eba23c8",
   "metadata": {
    "execution": {
     "iopub.execute_input": "2022-12-19T13:15:24.547792Z",
     "iopub.status.busy": "2022-12-19T13:15:24.547371Z",
     "iopub.status.idle": "2022-12-19T13:15:24.554129Z",
     "shell.execute_reply": "2022-12-19T13:15:24.553292Z"
    },
    "papermill": {
     "duration": 0.036678,
     "end_time": "2022-12-19T13:15:24.556363",
     "exception": false,
     "start_time": "2022-12-19T13:15:24.519685",
     "status": "completed"
    },
    "tags": []
   },
   "outputs": [],
   "source": [
    "def newtitle(data):\n",
    "    data['Title'] = data['Title'].replace(['Lady', 'Countess','Capt', 'Col',\\\n",
    "                                           'Don', 'Dr', 'Major', 'Rev', 'Sir', 'Jonkheer', 'Dona'], 'Rare')\n",
    "\n",
    "    data['Title'] = data['Title'].replace('Mlle', 'Miss')\n",
    "    data['Title'] = data['Title'].replace('Ms', 'Miss')\n",
    "    data['Title'] = data['Title'].replace('Mme', 'Mrs')\n",
    "    return data"
   ]
  },
  {
   "cell_type": "code",
   "execution_count": 36,
   "id": "224ea157",
   "metadata": {
    "execution": {
     "iopub.execute_input": "2022-12-19T13:15:24.608513Z",
     "iopub.status.busy": "2022-12-19T13:15:24.607831Z",
     "iopub.status.idle": "2022-12-19T13:15:24.621130Z",
     "shell.execute_reply": "2022-12-19T13:15:24.619479Z"
    },
    "papermill": {
     "duration": 0.043405,
     "end_time": "2022-12-19T13:15:24.623946",
     "exception": false,
     "start_time": "2022-12-19T13:15:24.580541",
     "status": "completed"
    },
    "tags": []
   },
   "outputs": [],
   "source": [
    "df = newtitle(df)\n",
    "df_test = newtitle(df_test)"
   ]
  },
  {
   "cell_type": "code",
   "execution_count": 37,
   "id": "13ab1bcb",
   "metadata": {
    "execution": {
     "iopub.execute_input": "2022-12-19T13:15:24.678075Z",
     "iopub.status.busy": "2022-12-19T13:15:24.677656Z",
     "iopub.status.idle": "2022-12-19T13:15:24.694975Z",
     "shell.execute_reply": "2022-12-19T13:15:24.693666Z"
    },
    "papermill": {
     "duration": 0.048413,
     "end_time": "2022-12-19T13:15:24.697501",
     "exception": false,
     "start_time": "2022-12-19T13:15:24.649088",
     "status": "completed"
    },
    "tags": []
   },
   "outputs": [
    {
     "data": {
      "text/html": [
       "<div>\n",
       "<style scoped>\n",
       "    .dataframe tbody tr th:only-of-type {\n",
       "        vertical-align: middle;\n",
       "    }\n",
       "\n",
       "    .dataframe tbody tr th {\n",
       "        vertical-align: top;\n",
       "    }\n",
       "\n",
       "    .dataframe thead th {\n",
       "        text-align: right;\n",
       "    }\n",
       "</style>\n",
       "<table border=\"1\" class=\"dataframe\">\n",
       "  <thead>\n",
       "    <tr style=\"text-align: right;\">\n",
       "      <th></th>\n",
       "      <th>Title</th>\n",
       "      <th>Survived</th>\n",
       "    </tr>\n",
       "  </thead>\n",
       "  <tbody>\n",
       "    <tr>\n",
       "      <th>0</th>\n",
       "      <td>Master</td>\n",
       "      <td>0.575000</td>\n",
       "    </tr>\n",
       "    <tr>\n",
       "      <th>1</th>\n",
       "      <td>Miss</td>\n",
       "      <td>0.702703</td>\n",
       "    </tr>\n",
       "    <tr>\n",
       "      <th>2</th>\n",
       "      <td>Mr</td>\n",
       "      <td>0.156673</td>\n",
       "    </tr>\n",
       "    <tr>\n",
       "      <th>3</th>\n",
       "      <td>Mrs</td>\n",
       "      <td>0.793651</td>\n",
       "    </tr>\n",
       "    <tr>\n",
       "      <th>4</th>\n",
       "      <td>Rare</td>\n",
       "      <td>0.347826</td>\n",
       "    </tr>\n",
       "  </tbody>\n",
       "</table>\n",
       "</div>"
      ],
      "text/plain": [
       "    Title  Survived\n",
       "0  Master  0.575000\n",
       "1    Miss  0.702703\n",
       "2      Mr  0.156673\n",
       "3     Mrs  0.793651\n",
       "4    Rare  0.347826"
      ]
     },
     "execution_count": 37,
     "metadata": {},
     "output_type": "execute_result"
    }
   ],
   "source": [
    "df[['Title', 'Survived']].groupby(['Title'], as_index=False).mean()"
   ]
  },
  {
   "cell_type": "code",
   "execution_count": 38,
   "id": "f329f98e",
   "metadata": {
    "execution": {
     "iopub.execute_input": "2022-12-19T13:15:24.747315Z",
     "iopub.status.busy": "2022-12-19T13:15:24.746868Z",
     "iopub.status.idle": "2022-12-19T13:15:24.753539Z",
     "shell.execute_reply": "2022-12-19T13:15:24.752280Z"
    },
    "papermill": {
     "duration": 0.035004,
     "end_time": "2022-12-19T13:15:24.756247",
     "exception": false,
     "start_time": "2022-12-19T13:15:24.721243",
     "status": "completed"
    },
    "tags": []
   },
   "outputs": [],
   "source": [
    "title_mapping = {\"Mr\": 1, \"Miss\": 2, \"Mrs\": 3, \"Master\": 4, \"Rare\": 5}\n",
    "def cleantitle(data):\n",
    "    data['Title'] = data['Title'].map(title_mapping)\n",
    "    data['Title'] = data['Title'].fillna(0)\n",
    "    return data"
   ]
  },
  {
   "cell_type": "code",
   "execution_count": 39,
   "id": "73c3a803",
   "metadata": {
    "execution": {
     "iopub.execute_input": "2022-12-19T13:15:24.805826Z",
     "iopub.status.busy": "2022-12-19T13:15:24.805391Z",
     "iopub.status.idle": "2022-12-19T13:15:24.814186Z",
     "shell.execute_reply": "2022-12-19T13:15:24.813003Z"
    },
    "papermill": {
     "duration": 0.036943,
     "end_time": "2022-12-19T13:15:24.817307",
     "exception": false,
     "start_time": "2022-12-19T13:15:24.780364",
     "status": "completed"
    },
    "tags": []
   },
   "outputs": [],
   "source": [
    "df = cleantitle(df)\n",
    "df_test = cleantitle(df_test)"
   ]
  },
  {
   "cell_type": "code",
   "execution_count": 40,
   "id": "9a10ff2f",
   "metadata": {
    "execution": {
     "iopub.execute_input": "2022-12-19T13:15:24.866964Z",
     "iopub.status.busy": "2022-12-19T13:15:24.866496Z",
     "iopub.status.idle": "2022-12-19T13:15:24.881283Z",
     "shell.execute_reply": "2022-12-19T13:15:24.879851Z"
    },
    "papermill": {
     "duration": 0.042757,
     "end_time": "2022-12-19T13:15:24.884135",
     "exception": false,
     "start_time": "2022-12-19T13:15:24.841378",
     "status": "completed"
    },
    "tags": []
   },
   "outputs": [
    {
     "data": {
      "text/html": [
       "<div>\n",
       "<style scoped>\n",
       "    .dataframe tbody tr th:only-of-type {\n",
       "        vertical-align: middle;\n",
       "    }\n",
       "\n",
       "    .dataframe tbody tr th {\n",
       "        vertical-align: top;\n",
       "    }\n",
       "\n",
       "    .dataframe thead th {\n",
       "        text-align: right;\n",
       "    }\n",
       "</style>\n",
       "<table border=\"1\" class=\"dataframe\">\n",
       "  <thead>\n",
       "    <tr style=\"text-align: right;\">\n",
       "      <th></th>\n",
       "      <th>Survived</th>\n",
       "      <th>Pclass</th>\n",
       "      <th>Name</th>\n",
       "      <th>Sex</th>\n",
       "      <th>Age</th>\n",
       "      <th>Fare</th>\n",
       "      <th>Embarked</th>\n",
       "      <th>Alone</th>\n",
       "      <th>Title</th>\n",
       "    </tr>\n",
       "  </thead>\n",
       "  <tbody>\n",
       "    <tr>\n",
       "      <th>0</th>\n",
       "      <td>0</td>\n",
       "      <td>3</td>\n",
       "      <td>Braund, Mr. Owen Harris</td>\n",
       "      <td>1</td>\n",
       "      <td>22.0</td>\n",
       "      <td>7.2500</td>\n",
       "      <td>2</td>\n",
       "      <td>0</td>\n",
       "      <td>1</td>\n",
       "    </tr>\n",
       "    <tr>\n",
       "      <th>1</th>\n",
       "      <td>1</td>\n",
       "      <td>1</td>\n",
       "      <td>Cumings, Mrs. John Bradley (Florence Briggs Th...</td>\n",
       "      <td>0</td>\n",
       "      <td>38.0</td>\n",
       "      <td>71.2833</td>\n",
       "      <td>0</td>\n",
       "      <td>0</td>\n",
       "      <td>3</td>\n",
       "    </tr>\n",
       "    <tr>\n",
       "      <th>2</th>\n",
       "      <td>1</td>\n",
       "      <td>3</td>\n",
       "      <td>Heikkinen, Miss. Laina</td>\n",
       "      <td>0</td>\n",
       "      <td>26.0</td>\n",
       "      <td>7.9250</td>\n",
       "      <td>2</td>\n",
       "      <td>1</td>\n",
       "      <td>2</td>\n",
       "    </tr>\n",
       "    <tr>\n",
       "      <th>3</th>\n",
       "      <td>1</td>\n",
       "      <td>1</td>\n",
       "      <td>Futrelle, Mrs. Jacques Heath (Lily May Peel)</td>\n",
       "      <td>0</td>\n",
       "      <td>35.0</td>\n",
       "      <td>53.1000</td>\n",
       "      <td>2</td>\n",
       "      <td>0</td>\n",
       "      <td>3</td>\n",
       "    </tr>\n",
       "    <tr>\n",
       "      <th>4</th>\n",
       "      <td>0</td>\n",
       "      <td>3</td>\n",
       "      <td>Allen, Mr. William Henry</td>\n",
       "      <td>1</td>\n",
       "      <td>35.0</td>\n",
       "      <td>8.0500</td>\n",
       "      <td>2</td>\n",
       "      <td>1</td>\n",
       "      <td>1</td>\n",
       "    </tr>\n",
       "  </tbody>\n",
       "</table>\n",
       "</div>"
      ],
      "text/plain": [
       "   Survived  Pclass                                               Name  Sex  \\\n",
       "0         0       3                            Braund, Mr. Owen Harris    1   \n",
       "1         1       1  Cumings, Mrs. John Bradley (Florence Briggs Th...    0   \n",
       "2         1       3                             Heikkinen, Miss. Laina    0   \n",
       "3         1       1       Futrelle, Mrs. Jacques Heath (Lily May Peel)    0   \n",
       "4         0       3                           Allen, Mr. William Henry    1   \n",
       "\n",
       "    Age     Fare  Embarked  Alone  Title  \n",
       "0  22.0   7.2500         2      0      1  \n",
       "1  38.0  71.2833         0      0      3  \n",
       "2  26.0   7.9250         2      1      2  \n",
       "3  35.0  53.1000         2      0      3  \n",
       "4  35.0   8.0500         2      1      1  "
      ]
     },
     "execution_count": 40,
     "metadata": {},
     "output_type": "execute_result"
    }
   ],
   "source": [
    "df.head()"
   ]
  },
  {
   "cell_type": "code",
   "execution_count": 41,
   "id": "e79fb09a",
   "metadata": {
    "execution": {
     "iopub.execute_input": "2022-12-19T13:15:24.933901Z",
     "iopub.status.busy": "2022-12-19T13:15:24.933454Z",
     "iopub.status.idle": "2022-12-19T13:15:24.942908Z",
     "shell.execute_reply": "2022-12-19T13:15:24.941338Z"
    },
    "papermill": {
     "duration": 0.03748,
     "end_time": "2022-12-19T13:15:24.945763",
     "exception": false,
     "start_time": "2022-12-19T13:15:24.908283",
     "status": "completed"
    },
    "tags": []
   },
   "outputs": [],
   "source": [
    "df = df.drop(['Name'], axis=1)\n",
    "df_test = df_test.drop(['Name'], axis=1)"
   ]
  },
  {
   "cell_type": "code",
   "execution_count": 42,
   "id": "dd39932b",
   "metadata": {
    "execution": {
     "iopub.execute_input": "2022-12-19T13:15:24.998182Z",
     "iopub.status.busy": "2022-12-19T13:15:24.997769Z",
     "iopub.status.idle": "2022-12-19T13:15:25.013419Z",
     "shell.execute_reply": "2022-12-19T13:15:25.012076Z"
    },
    "papermill": {
     "duration": 0.04458,
     "end_time": "2022-12-19T13:15:25.016009",
     "exception": false,
     "start_time": "2022-12-19T13:15:24.971429",
     "status": "completed"
    },
    "tags": []
   },
   "outputs": [
    {
     "data": {
      "text/html": [
       "<div>\n",
       "<style scoped>\n",
       "    .dataframe tbody tr th:only-of-type {\n",
       "        vertical-align: middle;\n",
       "    }\n",
       "\n",
       "    .dataframe tbody tr th {\n",
       "        vertical-align: top;\n",
       "    }\n",
       "\n",
       "    .dataframe thead th {\n",
       "        text-align: right;\n",
       "    }\n",
       "</style>\n",
       "<table border=\"1\" class=\"dataframe\">\n",
       "  <thead>\n",
       "    <tr style=\"text-align: right;\">\n",
       "      <th></th>\n",
       "      <th>Survived</th>\n",
       "      <th>Pclass</th>\n",
       "      <th>Sex</th>\n",
       "      <th>Age</th>\n",
       "      <th>Fare</th>\n",
       "      <th>Embarked</th>\n",
       "      <th>Alone</th>\n",
       "      <th>Title</th>\n",
       "    </tr>\n",
       "  </thead>\n",
       "  <tbody>\n",
       "    <tr>\n",
       "      <th>0</th>\n",
       "      <td>0</td>\n",
       "      <td>3</td>\n",
       "      <td>1</td>\n",
       "      <td>22.0</td>\n",
       "      <td>7.2500</td>\n",
       "      <td>2</td>\n",
       "      <td>0</td>\n",
       "      <td>1</td>\n",
       "    </tr>\n",
       "    <tr>\n",
       "      <th>1</th>\n",
       "      <td>1</td>\n",
       "      <td>1</td>\n",
       "      <td>0</td>\n",
       "      <td>38.0</td>\n",
       "      <td>71.2833</td>\n",
       "      <td>0</td>\n",
       "      <td>0</td>\n",
       "      <td>3</td>\n",
       "    </tr>\n",
       "    <tr>\n",
       "      <th>2</th>\n",
       "      <td>1</td>\n",
       "      <td>3</td>\n",
       "      <td>0</td>\n",
       "      <td>26.0</td>\n",
       "      <td>7.9250</td>\n",
       "      <td>2</td>\n",
       "      <td>1</td>\n",
       "      <td>2</td>\n",
       "    </tr>\n",
       "    <tr>\n",
       "      <th>3</th>\n",
       "      <td>1</td>\n",
       "      <td>1</td>\n",
       "      <td>0</td>\n",
       "      <td>35.0</td>\n",
       "      <td>53.1000</td>\n",
       "      <td>2</td>\n",
       "      <td>0</td>\n",
       "      <td>3</td>\n",
       "    </tr>\n",
       "    <tr>\n",
       "      <th>4</th>\n",
       "      <td>0</td>\n",
       "      <td>3</td>\n",
       "      <td>1</td>\n",
       "      <td>35.0</td>\n",
       "      <td>8.0500</td>\n",
       "      <td>2</td>\n",
       "      <td>1</td>\n",
       "      <td>1</td>\n",
       "    </tr>\n",
       "  </tbody>\n",
       "</table>\n",
       "</div>"
      ],
      "text/plain": [
       "   Survived  Pclass  Sex   Age     Fare  Embarked  Alone  Title\n",
       "0         0       3    1  22.0   7.2500         2      0      1\n",
       "1         1       1    0  38.0  71.2833         0      0      3\n",
       "2         1       3    0  26.0   7.9250         2      1      2\n",
       "3         1       1    0  35.0  53.1000         2      0      3\n",
       "4         0       3    1  35.0   8.0500         2      1      1"
      ]
     },
     "execution_count": 42,
     "metadata": {},
     "output_type": "execute_result"
    }
   ],
   "source": [
    "df.head()"
   ]
  },
  {
   "cell_type": "code",
   "execution_count": 43,
   "id": "f8830af5",
   "metadata": {
    "execution": {
     "iopub.execute_input": "2022-12-19T13:15:25.067190Z",
     "iopub.status.busy": "2022-12-19T13:15:25.066772Z",
     "iopub.status.idle": "2022-12-19T13:15:25.099414Z",
     "shell.execute_reply": "2022-12-19T13:15:25.098368Z"
    },
    "papermill": {
     "duration": 0.061926,
     "end_time": "2022-12-19T13:15:25.102481",
     "exception": false,
     "start_time": "2022-12-19T13:15:25.040555",
     "status": "completed"
    },
    "tags": []
   },
   "outputs": [
    {
     "data": {
      "text/html": [
       "<div>\n",
       "<style scoped>\n",
       "    .dataframe tbody tr th:only-of-type {\n",
       "        vertical-align: middle;\n",
       "    }\n",
       "\n",
       "    .dataframe tbody tr th {\n",
       "        vertical-align: top;\n",
       "    }\n",
       "\n",
       "    .dataframe thead th {\n",
       "        text-align: right;\n",
       "    }\n",
       "</style>\n",
       "<table border=\"1\" class=\"dataframe\">\n",
       "  <thead>\n",
       "    <tr style=\"text-align: right;\">\n",
       "      <th></th>\n",
       "      <th>AgeBand</th>\n",
       "      <th>Survived</th>\n",
       "    </tr>\n",
       "  </thead>\n",
       "  <tbody>\n",
       "    <tr>\n",
       "      <th>0</th>\n",
       "      <td>(0.34, 16.336]</td>\n",
       "      <td>0.508621</td>\n",
       "    </tr>\n",
       "    <tr>\n",
       "      <th>1</th>\n",
       "      <td>(16.336, 32.252]</td>\n",
       "      <td>0.397333</td>\n",
       "    </tr>\n",
       "    <tr>\n",
       "      <th>2</th>\n",
       "      <td>(32.252, 48.168]</td>\n",
       "      <td>0.321875</td>\n",
       "    </tr>\n",
       "    <tr>\n",
       "      <th>3</th>\n",
       "      <td>(48.168, 64.084]</td>\n",
       "      <td>0.434783</td>\n",
       "    </tr>\n",
       "    <tr>\n",
       "      <th>4</th>\n",
       "      <td>(64.084, 80.0]</td>\n",
       "      <td>0.090909</td>\n",
       "    </tr>\n",
       "  </tbody>\n",
       "</table>\n",
       "</div>"
      ],
      "text/plain": [
       "            AgeBand  Survived\n",
       "0    (0.34, 16.336]  0.508621\n",
       "1  (16.336, 32.252]  0.397333\n",
       "2  (32.252, 48.168]  0.321875\n",
       "3  (48.168, 64.084]  0.434783\n",
       "4    (64.084, 80.0]  0.090909"
      ]
     },
     "execution_count": 43,
     "metadata": {},
     "output_type": "execute_result"
    }
   ],
   "source": [
    "df['AgeBand'] = pd.cut(df['Age'], 5)\n",
    "df[['AgeBand', 'Survived']].groupby(['AgeBand'], as_index=False).mean().sort_values(by='AgeBand', ascending=True)"
   ]
  },
  {
   "cell_type": "code",
   "execution_count": 44,
   "id": "b341374f",
   "metadata": {
    "execution": {
     "iopub.execute_input": "2022-12-19T13:15:25.155326Z",
     "iopub.status.busy": "2022-12-19T13:15:25.154867Z",
     "iopub.status.idle": "2022-12-19T13:15:25.163151Z",
     "shell.execute_reply": "2022-12-19T13:15:25.161805Z"
    },
    "papermill": {
     "duration": 0.037283,
     "end_time": "2022-12-19T13:15:25.165811",
     "exception": false,
     "start_time": "2022-12-19T13:15:25.128528",
     "status": "completed"
    },
    "tags": []
   },
   "outputs": [],
   "source": [
    "def ageband(dataset):\n",
    "    dataset.loc[ dataset['Age'] <= 16, 'Age'] = 0\n",
    "    dataset.loc[(dataset['Age'] > 16) & (dataset['Age'] <= 32), 'Age'] = 1\n",
    "    dataset.loc[(dataset['Age'] > 32) & (dataset['Age'] <= 48), 'Age'] = 2\n",
    "    dataset.loc[(dataset['Age'] > 48) & (dataset['Age'] <= 64), 'Age'] = 3\n",
    "    dataset.loc[ dataset['Age'] > 64, 'Age']\n",
    "    return dataset\n",
    "    "
   ]
  },
  {
   "cell_type": "code",
   "execution_count": 45,
   "id": "676a949f",
   "metadata": {
    "execution": {
     "iopub.execute_input": "2022-12-19T13:15:25.217132Z",
     "iopub.status.busy": "2022-12-19T13:15:25.216634Z",
     "iopub.status.idle": "2022-12-19T13:15:25.232558Z",
     "shell.execute_reply": "2022-12-19T13:15:25.231062Z"
    },
    "papermill": {
     "duration": 0.044058,
     "end_time": "2022-12-19T13:15:25.235444",
     "exception": false,
     "start_time": "2022-12-19T13:15:25.191386",
     "status": "completed"
    },
    "tags": []
   },
   "outputs": [],
   "source": [
    "df = ageband(df)\n",
    "df_test = ageband(df_test)"
   ]
  },
  {
   "cell_type": "code",
   "execution_count": 46,
   "id": "fc145135",
   "metadata": {
    "execution": {
     "iopub.execute_input": "2022-12-19T13:15:25.285782Z",
     "iopub.status.busy": "2022-12-19T13:15:25.285344Z",
     "iopub.status.idle": "2022-12-19T13:15:25.301206Z",
     "shell.execute_reply": "2022-12-19T13:15:25.300312Z"
    },
    "papermill": {
     "duration": 0.04329,
     "end_time": "2022-12-19T13:15:25.303431",
     "exception": false,
     "start_time": "2022-12-19T13:15:25.260141",
     "status": "completed"
    },
    "tags": []
   },
   "outputs": [
    {
     "data": {
      "text/html": [
       "<div>\n",
       "<style scoped>\n",
       "    .dataframe tbody tr th:only-of-type {\n",
       "        vertical-align: middle;\n",
       "    }\n",
       "\n",
       "    .dataframe tbody tr th {\n",
       "        vertical-align: top;\n",
       "    }\n",
       "\n",
       "    .dataframe thead th {\n",
       "        text-align: right;\n",
       "    }\n",
       "</style>\n",
       "<table border=\"1\" class=\"dataframe\">\n",
       "  <thead>\n",
       "    <tr style=\"text-align: right;\">\n",
       "      <th></th>\n",
       "      <th>Survived</th>\n",
       "      <th>Pclass</th>\n",
       "      <th>Sex</th>\n",
       "      <th>Age</th>\n",
       "      <th>Fare</th>\n",
       "      <th>Embarked</th>\n",
       "      <th>Alone</th>\n",
       "      <th>Title</th>\n",
       "      <th>AgeBand</th>\n",
       "    </tr>\n",
       "  </thead>\n",
       "  <tbody>\n",
       "    <tr>\n",
       "      <th>0</th>\n",
       "      <td>0</td>\n",
       "      <td>3</td>\n",
       "      <td>1</td>\n",
       "      <td>1.0</td>\n",
       "      <td>7.2500</td>\n",
       "      <td>2</td>\n",
       "      <td>0</td>\n",
       "      <td>1</td>\n",
       "      <td>(16.336, 32.252]</td>\n",
       "    </tr>\n",
       "    <tr>\n",
       "      <th>1</th>\n",
       "      <td>1</td>\n",
       "      <td>1</td>\n",
       "      <td>0</td>\n",
       "      <td>2.0</td>\n",
       "      <td>71.2833</td>\n",
       "      <td>0</td>\n",
       "      <td>0</td>\n",
       "      <td>3</td>\n",
       "      <td>(32.252, 48.168]</td>\n",
       "    </tr>\n",
       "    <tr>\n",
       "      <th>2</th>\n",
       "      <td>1</td>\n",
       "      <td>3</td>\n",
       "      <td>0</td>\n",
       "      <td>1.0</td>\n",
       "      <td>7.9250</td>\n",
       "      <td>2</td>\n",
       "      <td>1</td>\n",
       "      <td>2</td>\n",
       "      <td>(16.336, 32.252]</td>\n",
       "    </tr>\n",
       "    <tr>\n",
       "      <th>3</th>\n",
       "      <td>1</td>\n",
       "      <td>1</td>\n",
       "      <td>0</td>\n",
       "      <td>2.0</td>\n",
       "      <td>53.1000</td>\n",
       "      <td>2</td>\n",
       "      <td>0</td>\n",
       "      <td>3</td>\n",
       "      <td>(32.252, 48.168]</td>\n",
       "    </tr>\n",
       "    <tr>\n",
       "      <th>4</th>\n",
       "      <td>0</td>\n",
       "      <td>3</td>\n",
       "      <td>1</td>\n",
       "      <td>2.0</td>\n",
       "      <td>8.0500</td>\n",
       "      <td>2</td>\n",
       "      <td>1</td>\n",
       "      <td>1</td>\n",
       "      <td>(32.252, 48.168]</td>\n",
       "    </tr>\n",
       "  </tbody>\n",
       "</table>\n",
       "</div>"
      ],
      "text/plain": [
       "   Survived  Pclass  Sex  Age     Fare  Embarked  Alone  Title  \\\n",
       "0         0       3    1  1.0   7.2500         2      0      1   \n",
       "1         1       1    0  2.0  71.2833         0      0      3   \n",
       "2         1       3    0  1.0   7.9250         2      1      2   \n",
       "3         1       1    0  2.0  53.1000         2      0      3   \n",
       "4         0       3    1  2.0   8.0500         2      1      1   \n",
       "\n",
       "            AgeBand  \n",
       "0  (16.336, 32.252]  \n",
       "1  (32.252, 48.168]  \n",
       "2  (16.336, 32.252]  \n",
       "3  (32.252, 48.168]  \n",
       "4  (32.252, 48.168]  "
      ]
     },
     "execution_count": 46,
     "metadata": {},
     "output_type": "execute_result"
    }
   ],
   "source": [
    "df.head()"
   ]
  },
  {
   "cell_type": "code",
   "execution_count": 47,
   "id": "384dbee0",
   "metadata": {
    "execution": {
     "iopub.execute_input": "2022-12-19T13:15:25.355114Z",
     "iopub.status.busy": "2022-12-19T13:15:25.354711Z",
     "iopub.status.idle": "2022-12-19T13:15:25.361599Z",
     "shell.execute_reply": "2022-12-19T13:15:25.360128Z"
    },
    "papermill": {
     "duration": 0.035945,
     "end_time": "2022-12-19T13:15:25.364163",
     "exception": false,
     "start_time": "2022-12-19T13:15:25.328218",
     "status": "completed"
    },
    "tags": []
   },
   "outputs": [],
   "source": [
    "df = df.drop(['AgeBand'], axis=1)\n"
   ]
  },
  {
   "cell_type": "code",
   "execution_count": 48,
   "id": "27620deb",
   "metadata": {
    "execution": {
     "iopub.execute_input": "2022-12-19T13:15:25.414914Z",
     "iopub.status.busy": "2022-12-19T13:15:25.414540Z",
     "iopub.status.idle": "2022-12-19T13:15:25.421468Z",
     "shell.execute_reply": "2022-12-19T13:15:25.420302Z"
    },
    "papermill": {
     "duration": 0.034915,
     "end_time": "2022-12-19T13:15:25.423840",
     "exception": false,
     "start_time": "2022-12-19T13:15:25.388925",
     "status": "completed"
    },
    "tags": []
   },
   "outputs": [],
   "source": [
    "df['Age*Class'] = df.Age * df.Pclass\n",
    "df_test['Age*Class'] = df_test.Age * df_test.Pclass"
   ]
  },
  {
   "cell_type": "code",
   "execution_count": 49,
   "id": "0e602c62",
   "metadata": {
    "execution": {
     "iopub.execute_input": "2022-12-19T13:15:25.474078Z",
     "iopub.status.busy": "2022-12-19T13:15:25.473644Z",
     "iopub.status.idle": "2022-12-19T13:15:25.495271Z",
     "shell.execute_reply": "2022-12-19T13:15:25.494035Z"
    },
    "papermill": {
     "duration": 0.049258,
     "end_time": "2022-12-19T13:15:25.497555",
     "exception": false,
     "start_time": "2022-12-19T13:15:25.448297",
     "status": "completed"
    },
    "tags": []
   },
   "outputs": [
    {
     "data": {
      "text/html": [
       "<div>\n",
       "<style scoped>\n",
       "    .dataframe tbody tr th:only-of-type {\n",
       "        vertical-align: middle;\n",
       "    }\n",
       "\n",
       "    .dataframe tbody tr th {\n",
       "        vertical-align: top;\n",
       "    }\n",
       "\n",
       "    .dataframe thead th {\n",
       "        text-align: right;\n",
       "    }\n",
       "</style>\n",
       "<table border=\"1\" class=\"dataframe\">\n",
       "  <thead>\n",
       "    <tr style=\"text-align: right;\">\n",
       "      <th></th>\n",
       "      <th>FareBand</th>\n",
       "      <th>Survived</th>\n",
       "    </tr>\n",
       "  </thead>\n",
       "  <tbody>\n",
       "    <tr>\n",
       "      <th>0</th>\n",
       "      <td>(-0.001, 7.91]</td>\n",
       "      <td>0.197309</td>\n",
       "    </tr>\n",
       "    <tr>\n",
       "      <th>1</th>\n",
       "      <td>(7.91, 14.454]</td>\n",
       "      <td>0.303571</td>\n",
       "    </tr>\n",
       "    <tr>\n",
       "      <th>2</th>\n",
       "      <td>(14.454, 31.0]</td>\n",
       "      <td>0.454955</td>\n",
       "    </tr>\n",
       "    <tr>\n",
       "      <th>3</th>\n",
       "      <td>(31.0, 512.329]</td>\n",
       "      <td>0.581081</td>\n",
       "    </tr>\n",
       "  </tbody>\n",
       "</table>\n",
       "</div>"
      ],
      "text/plain": [
       "          FareBand  Survived\n",
       "0   (-0.001, 7.91]  0.197309\n",
       "1   (7.91, 14.454]  0.303571\n",
       "2   (14.454, 31.0]  0.454955\n",
       "3  (31.0, 512.329]  0.581081"
      ]
     },
     "execution_count": 49,
     "metadata": {},
     "output_type": "execute_result"
    }
   ],
   "source": [
    "df['FareBand'] = pd.qcut(df['Fare'], 4)\n",
    "df[['FareBand', 'Survived']].groupby(['FareBand'], as_index=False).mean().sort_values(by='FareBand', ascending=True)"
   ]
  },
  {
   "cell_type": "code",
   "execution_count": 50,
   "id": "fdb1cd74",
   "metadata": {
    "execution": {
     "iopub.execute_input": "2022-12-19T13:15:25.550376Z",
     "iopub.status.busy": "2022-12-19T13:15:25.549912Z",
     "iopub.status.idle": "2022-12-19T13:15:25.557460Z",
     "shell.execute_reply": "2022-12-19T13:15:25.556198Z"
    },
    "papermill": {
     "duration": 0.03716,
     "end_time": "2022-12-19T13:15:25.560011",
     "exception": false,
     "start_time": "2022-12-19T13:15:25.522851",
     "status": "completed"
    },
    "tags": []
   },
   "outputs": [],
   "source": [
    "def cleanFare(dataset):\n",
    "    dataset.loc[ dataset['Fare'] <= 7.91, 'Fare'] = 0\n",
    "    dataset.loc[(dataset['Fare'] > 7.91) & (dataset['Fare'] <= 14.454), 'Fare'] = 1\n",
    "    dataset.loc[(dataset['Fare'] > 14.454) & (dataset['Fare'] <= 31), 'Fare']   = 2\n",
    "    dataset.loc[ dataset['Fare'] > 31, 'Fare'] = 3\n",
    "    dataset['Fare'] = dataset['Fare'].astype(int)\n",
    "    return dataset"
   ]
  },
  {
   "cell_type": "code",
   "execution_count": 51,
   "id": "2d28a5cc",
   "metadata": {
    "execution": {
     "iopub.execute_input": "2022-12-19T13:15:25.611601Z",
     "iopub.status.busy": "2022-12-19T13:15:25.611174Z",
     "iopub.status.idle": "2022-12-19T13:15:25.623227Z",
     "shell.execute_reply": "2022-12-19T13:15:25.622142Z"
    },
    "papermill": {
     "duration": 0.040644,
     "end_time": "2022-12-19T13:15:25.625598",
     "exception": false,
     "start_time": "2022-12-19T13:15:25.584954",
     "status": "completed"
    },
    "tags": []
   },
   "outputs": [],
   "source": [
    "df = cleanFare(df)\n",
    "df_test = cleanFare(df_test)"
   ]
  },
  {
   "cell_type": "code",
   "execution_count": 52,
   "id": "dc381582",
   "metadata": {
    "execution": {
     "iopub.execute_input": "2022-12-19T13:15:25.677178Z",
     "iopub.status.busy": "2022-12-19T13:15:25.676310Z",
     "iopub.status.idle": "2022-12-19T13:15:25.683222Z",
     "shell.execute_reply": "2022-12-19T13:15:25.682296Z"
    },
    "papermill": {
     "duration": 0.035357,
     "end_time": "2022-12-19T13:15:25.685856",
     "exception": false,
     "start_time": "2022-12-19T13:15:25.650499",
     "status": "completed"
    },
    "tags": []
   },
   "outputs": [],
   "source": [
    "df = df.drop(['FareBand'], axis=1)\n"
   ]
  },
  {
   "cell_type": "code",
   "execution_count": 53,
   "id": "88ee343d",
   "metadata": {
    "execution": {
     "iopub.execute_input": "2022-12-19T13:15:25.738110Z",
     "iopub.status.busy": "2022-12-19T13:15:25.737209Z",
     "iopub.status.idle": "2022-12-19T13:15:25.751767Z",
     "shell.execute_reply": "2022-12-19T13:15:25.750855Z"
    },
    "papermill": {
     "duration": 0.042985,
     "end_time": "2022-12-19T13:15:25.754011",
     "exception": false,
     "start_time": "2022-12-19T13:15:25.711026",
     "status": "completed"
    },
    "tags": []
   },
   "outputs": [
    {
     "data": {
      "text/html": [
       "<div>\n",
       "<style scoped>\n",
       "    .dataframe tbody tr th:only-of-type {\n",
       "        vertical-align: middle;\n",
       "    }\n",
       "\n",
       "    .dataframe tbody tr th {\n",
       "        vertical-align: top;\n",
       "    }\n",
       "\n",
       "    .dataframe thead th {\n",
       "        text-align: right;\n",
       "    }\n",
       "</style>\n",
       "<table border=\"1\" class=\"dataframe\">\n",
       "  <thead>\n",
       "    <tr style=\"text-align: right;\">\n",
       "      <th></th>\n",
       "      <th>Survived</th>\n",
       "      <th>Pclass</th>\n",
       "      <th>Sex</th>\n",
       "      <th>Age</th>\n",
       "      <th>Fare</th>\n",
       "      <th>Embarked</th>\n",
       "      <th>Alone</th>\n",
       "      <th>Title</th>\n",
       "      <th>Age*Class</th>\n",
       "    </tr>\n",
       "  </thead>\n",
       "  <tbody>\n",
       "    <tr>\n",
       "      <th>0</th>\n",
       "      <td>0</td>\n",
       "      <td>3</td>\n",
       "      <td>1</td>\n",
       "      <td>1.0</td>\n",
       "      <td>0</td>\n",
       "      <td>2</td>\n",
       "      <td>0</td>\n",
       "      <td>1</td>\n",
       "      <td>3.0</td>\n",
       "    </tr>\n",
       "    <tr>\n",
       "      <th>1</th>\n",
       "      <td>1</td>\n",
       "      <td>1</td>\n",
       "      <td>0</td>\n",
       "      <td>2.0</td>\n",
       "      <td>3</td>\n",
       "      <td>0</td>\n",
       "      <td>0</td>\n",
       "      <td>3</td>\n",
       "      <td>2.0</td>\n",
       "    </tr>\n",
       "    <tr>\n",
       "      <th>2</th>\n",
       "      <td>1</td>\n",
       "      <td>3</td>\n",
       "      <td>0</td>\n",
       "      <td>1.0</td>\n",
       "      <td>1</td>\n",
       "      <td>2</td>\n",
       "      <td>1</td>\n",
       "      <td>2</td>\n",
       "      <td>3.0</td>\n",
       "    </tr>\n",
       "    <tr>\n",
       "      <th>3</th>\n",
       "      <td>1</td>\n",
       "      <td>1</td>\n",
       "      <td>0</td>\n",
       "      <td>2.0</td>\n",
       "      <td>3</td>\n",
       "      <td>2</td>\n",
       "      <td>0</td>\n",
       "      <td>3</td>\n",
       "      <td>2.0</td>\n",
       "    </tr>\n",
       "    <tr>\n",
       "      <th>4</th>\n",
       "      <td>0</td>\n",
       "      <td>3</td>\n",
       "      <td>1</td>\n",
       "      <td>2.0</td>\n",
       "      <td>1</td>\n",
       "      <td>2</td>\n",
       "      <td>1</td>\n",
       "      <td>1</td>\n",
       "      <td>6.0</td>\n",
       "    </tr>\n",
       "  </tbody>\n",
       "</table>\n",
       "</div>"
      ],
      "text/plain": [
       "   Survived  Pclass  Sex  Age  Fare  Embarked  Alone  Title  Age*Class\n",
       "0         0       3    1  1.0     0         2      0      1        3.0\n",
       "1         1       1    0  2.0     3         0      0      3        2.0\n",
       "2         1       3    0  1.0     1         2      1      2        3.0\n",
       "3         1       1    0  2.0     3         2      0      3        2.0\n",
       "4         0       3    1  2.0     1         2      1      1        6.0"
      ]
     },
     "execution_count": 53,
     "metadata": {},
     "output_type": "execute_result"
    }
   ],
   "source": [
    "df.head()"
   ]
  },
  {
   "cell_type": "code",
   "execution_count": 54,
   "id": "1a2d8282",
   "metadata": {
    "execution": {
     "iopub.execute_input": "2022-12-19T13:15:25.808340Z",
     "iopub.status.busy": "2022-12-19T13:15:25.807611Z",
     "iopub.status.idle": "2022-12-19T13:15:25.821614Z",
     "shell.execute_reply": "2022-12-19T13:15:25.820289Z"
    },
    "papermill": {
     "duration": 0.043675,
     "end_time": "2022-12-19T13:15:25.824405",
     "exception": false,
     "start_time": "2022-12-19T13:15:25.780730",
     "status": "completed"
    },
    "tags": []
   },
   "outputs": [
    {
     "data": {
      "text/html": [
       "<div>\n",
       "<style scoped>\n",
       "    .dataframe tbody tr th:only-of-type {\n",
       "        vertical-align: middle;\n",
       "    }\n",
       "\n",
       "    .dataframe tbody tr th {\n",
       "        vertical-align: top;\n",
       "    }\n",
       "\n",
       "    .dataframe thead th {\n",
       "        text-align: right;\n",
       "    }\n",
       "</style>\n",
       "<table border=\"1\" class=\"dataframe\">\n",
       "  <thead>\n",
       "    <tr style=\"text-align: right;\">\n",
       "      <th></th>\n",
       "      <th>Pclass</th>\n",
       "      <th>Sex</th>\n",
       "      <th>Age</th>\n",
       "      <th>Fare</th>\n",
       "      <th>Embarked</th>\n",
       "      <th>Alone</th>\n",
       "      <th>Title</th>\n",
       "      <th>Age*Class</th>\n",
       "    </tr>\n",
       "  </thead>\n",
       "  <tbody>\n",
       "    <tr>\n",
       "      <th>0</th>\n",
       "      <td>3</td>\n",
       "      <td>1</td>\n",
       "      <td>2.0</td>\n",
       "      <td>0</td>\n",
       "      <td>1</td>\n",
       "      <td>1</td>\n",
       "      <td>1</td>\n",
       "      <td>6.0</td>\n",
       "    </tr>\n",
       "    <tr>\n",
       "      <th>1</th>\n",
       "      <td>3</td>\n",
       "      <td>0</td>\n",
       "      <td>2.0</td>\n",
       "      <td>0</td>\n",
       "      <td>2</td>\n",
       "      <td>0</td>\n",
       "      <td>3</td>\n",
       "      <td>6.0</td>\n",
       "    </tr>\n",
       "    <tr>\n",
       "      <th>2</th>\n",
       "      <td>2</td>\n",
       "      <td>1</td>\n",
       "      <td>3.0</td>\n",
       "      <td>1</td>\n",
       "      <td>1</td>\n",
       "      <td>1</td>\n",
       "      <td>1</td>\n",
       "      <td>6.0</td>\n",
       "    </tr>\n",
       "    <tr>\n",
       "      <th>3</th>\n",
       "      <td>3</td>\n",
       "      <td>1</td>\n",
       "      <td>1.0</td>\n",
       "      <td>1</td>\n",
       "      <td>2</td>\n",
       "      <td>1</td>\n",
       "      <td>1</td>\n",
       "      <td>3.0</td>\n",
       "    </tr>\n",
       "    <tr>\n",
       "      <th>4</th>\n",
       "      <td>3</td>\n",
       "      <td>0</td>\n",
       "      <td>1.0</td>\n",
       "      <td>1</td>\n",
       "      <td>2</td>\n",
       "      <td>0</td>\n",
       "      <td>3</td>\n",
       "      <td>3.0</td>\n",
       "    </tr>\n",
       "  </tbody>\n",
       "</table>\n",
       "</div>"
      ],
      "text/plain": [
       "   Pclass  Sex  Age  Fare  Embarked  Alone  Title  Age*Class\n",
       "0       3    1  2.0     0         1      1      1        6.0\n",
       "1       3    0  2.0     0         2      0      3        6.0\n",
       "2       2    1  3.0     1         1      1      1        6.0\n",
       "3       3    1  1.0     1         2      1      1        3.0\n",
       "4       3    0  1.0     1         2      0      3        3.0"
      ]
     },
     "execution_count": 54,
     "metadata": {},
     "output_type": "execute_result"
    }
   ],
   "source": [
    "df_test.head()"
   ]
  },
  {
   "cell_type": "markdown",
   "id": "e0036f30",
   "metadata": {
    "papermill": {
     "duration": 0.025521,
     "end_time": "2022-12-19T13:15:25.875294",
     "exception": false,
     "start_time": "2022-12-19T13:15:25.849773",
     "status": "completed"
    },
    "tags": []
   },
   "source": [
    "# Model building and Evaluating"
   ]
  },
  {
   "cell_type": "markdown",
   "id": "642ce63b",
   "metadata": {
    "papermill": {
     "duration": 0.024627,
     "end_time": "2022-12-19T13:15:25.924837",
     "exception": false,
     "start_time": "2022-12-19T13:15:25.900210",
     "status": "completed"
    },
    "tags": []
   },
   "source": [
    "We will use:\n",
    "- Logistic Regression\n",
    "- KNN\n",
    "- SVM\n",
    "- Naive Bayes\n",
    "- Decision Tree\n",
    "- Random Forrest\n",
    "- Perceptron\n",
    "- Artificial NN\n",
    "- RVM"
   ]
  },
  {
   "cell_type": "code",
   "execution_count": 55,
   "id": "7b386c2b",
   "metadata": {
    "execution": {
     "iopub.execute_input": "2022-12-19T13:15:25.977211Z",
     "iopub.status.busy": "2022-12-19T13:15:25.976375Z",
     "iopub.status.idle": "2022-12-19T13:15:25.985466Z",
     "shell.execute_reply": "2022-12-19T13:15:25.983783Z"
    },
    "papermill": {
     "duration": 0.038534,
     "end_time": "2022-12-19T13:15:25.988355",
     "exception": false,
     "start_time": "2022-12-19T13:15:25.949821",
     "status": "completed"
    },
    "tags": []
   },
   "outputs": [],
   "source": [
    "X_train = df.drop(\"Survived\", axis=1)\n",
    "y_train = df[\"Survived\"]\n",
    "X_test = df_test.copy()\n"
   ]
  },
  {
   "cell_type": "code",
   "execution_count": 56,
   "id": "f3d5760e",
   "metadata": {
    "execution": {
     "iopub.execute_input": "2022-12-19T13:15:26.041359Z",
     "iopub.status.busy": "2022-12-19T13:15:26.040909Z",
     "iopub.status.idle": "2022-12-19T13:15:26.049122Z",
     "shell.execute_reply": "2022-12-19T13:15:26.047291Z"
    },
    "papermill": {
     "duration": 0.038061,
     "end_time": "2022-12-19T13:15:26.051503",
     "exception": false,
     "start_time": "2022-12-19T13:15:26.013442",
     "status": "completed"
    },
    "tags": []
   },
   "outputs": [
    {
     "data": {
      "text/plain": [
       "((891, 8), (891,), (418, 8))"
      ]
     },
     "execution_count": 56,
     "metadata": {},
     "output_type": "execute_result"
    }
   ],
   "source": [
    "X_train.shape, y_train.shape, X_test.shape"
   ]
  },
  {
   "cell_type": "code",
   "execution_count": 57,
   "id": "9b91731e",
   "metadata": {
    "execution": {
     "iopub.execute_input": "2022-12-19T13:15:26.106502Z",
     "iopub.status.busy": "2022-12-19T13:15:26.106064Z",
     "iopub.status.idle": "2022-12-19T13:15:26.423812Z",
     "shell.execute_reply": "2022-12-19T13:15:26.422653Z"
    },
    "papermill": {
     "duration": 0.349493,
     "end_time": "2022-12-19T13:15:26.426576",
     "exception": false,
     "start_time": "2022-12-19T13:15:26.077083",
     "status": "completed"
    },
    "tags": []
   },
   "outputs": [],
   "source": [
    "from sklearn.linear_model import LogisticRegression\n",
    "from sklearn.svm import SVC, LinearSVC\n",
    "from sklearn.ensemble import RandomForestClassifier\n",
    "from sklearn.neighbors import KNeighborsClassifier\n",
    "from sklearn.naive_bayes import GaussianNB\n",
    "from sklearn.linear_model import Perceptron\n",
    "from sklearn.linear_model import SGDClassifier\n",
    "from sklearn.tree import DecisionTreeClassifier"
   ]
  },
  {
   "cell_type": "markdown",
   "id": "8bc57198",
   "metadata": {
    "papermill": {
     "duration": 0.025928,
     "end_time": "2022-12-19T13:15:26.477527",
     "exception": false,
     "start_time": "2022-12-19T13:15:26.451599",
     "status": "completed"
    },
    "tags": []
   },
   "source": [
    "### Logistic Regression"
   ]
  },
  {
   "cell_type": "code",
   "execution_count": 58,
   "id": "f62cae54",
   "metadata": {
    "execution": {
     "iopub.execute_input": "2022-12-19T13:15:26.530062Z",
     "iopub.status.busy": "2022-12-19T13:15:26.529630Z",
     "iopub.status.idle": "2022-12-19T13:15:26.565444Z",
     "shell.execute_reply": "2022-12-19T13:15:26.564175Z"
    },
    "papermill": {
     "duration": 0.065562,
     "end_time": "2022-12-19T13:15:26.568351",
     "exception": false,
     "start_time": "2022-12-19T13:15:26.502789",
     "status": "completed"
    },
    "tags": []
   },
   "outputs": [
    {
     "data": {
      "text/plain": [
       "LogisticRegression()"
      ]
     },
     "execution_count": 58,
     "metadata": {},
     "output_type": "execute_result"
    }
   ],
   "source": [
    "logreg = LogisticRegression()\n",
    "logreg.fit(X_train, y_train)\n"
   ]
  },
  {
   "cell_type": "code",
   "execution_count": 59,
   "id": "8842d854",
   "metadata": {
    "execution": {
     "iopub.execute_input": "2022-12-19T13:15:26.622885Z",
     "iopub.status.busy": "2022-12-19T13:15:26.621696Z",
     "iopub.status.idle": "2022-12-19T13:15:26.634261Z",
     "shell.execute_reply": "2022-12-19T13:15:26.632365Z"
    },
    "papermill": {
     "duration": 0.043319,
     "end_time": "2022-12-19T13:15:26.637241",
     "exception": false,
     "start_time": "2022-12-19T13:15:26.593922",
     "status": "completed"
    },
    "tags": []
   },
   "outputs": [
    {
     "data": {
      "text/plain": [
       "79.01"
      ]
     },
     "execution_count": 59,
     "metadata": {},
     "output_type": "execute_result"
    }
   ],
   "source": [
    "y_pred = logreg.predict(X_test)\n",
    "acc_log = round(logreg.score(X_train, y_train) * 100, 2)\n",
    "acc_log"
   ]
  },
  {
   "cell_type": "markdown",
   "id": "3c4fb1cc",
   "metadata": {
    "papermill": {
     "duration": 0.026233,
     "end_time": "2022-12-19T13:15:26.689221",
     "exception": false,
     "start_time": "2022-12-19T13:15:26.662988",
     "status": "completed"
    },
    "tags": []
   },
   "source": [
    "### SVM"
   ]
  },
  {
   "cell_type": "code",
   "execution_count": 60,
   "id": "0344a16c",
   "metadata": {
    "execution": {
     "iopub.execute_input": "2022-12-19T13:15:26.742782Z",
     "iopub.status.busy": "2022-12-19T13:15:26.741521Z",
     "iopub.status.idle": "2022-12-19T13:15:26.831737Z",
     "shell.execute_reply": "2022-12-19T13:15:26.830858Z"
    },
    "papermill": {
     "duration": 0.119329,
     "end_time": "2022-12-19T13:15:26.834141",
     "exception": false,
     "start_time": "2022-12-19T13:15:26.714812",
     "status": "completed"
    },
    "tags": []
   },
   "outputs": [
    {
     "data": {
      "text/plain": [
       "78.34"
      ]
     },
     "execution_count": 60,
     "metadata": {},
     "output_type": "execute_result"
    }
   ],
   "source": [
    "svc = SVC()\n",
    "svc.fit(X_train, y_train)\n",
    "y_pred = svc.predict(X_test)\n",
    "acc_svc = round(svc.score(X_train, y_train) * 100, 2)\n",
    "acc_svc"
   ]
  },
  {
   "cell_type": "markdown",
   "id": "a4848d29",
   "metadata": {
    "papermill": {
     "duration": 0.024658,
     "end_time": "2022-12-19T13:15:26.884131",
     "exception": false,
     "start_time": "2022-12-19T13:15:26.859473",
     "status": "completed"
    },
    "tags": []
   },
   "source": [
    "### KNN"
   ]
  },
  {
   "cell_type": "code",
   "execution_count": 61,
   "id": "502dd812",
   "metadata": {
    "execution": {
     "iopub.execute_input": "2022-12-19T13:15:26.935856Z",
     "iopub.status.busy": "2022-12-19T13:15:26.935434Z",
     "iopub.status.idle": "2022-12-19T13:15:26.993465Z",
     "shell.execute_reply": "2022-12-19T13:15:26.992099Z"
    },
    "papermill": {
     "duration": 0.087321,
     "end_time": "2022-12-19T13:15:26.996404",
     "exception": false,
     "start_time": "2022-12-19T13:15:26.909083",
     "status": "completed"
    },
    "tags": []
   },
   "outputs": [
    {
     "data": {
      "text/plain": [
       "84.4"
      ]
     },
     "execution_count": 61,
     "metadata": {},
     "output_type": "execute_result"
    }
   ],
   "source": [
    "knn = KNeighborsClassifier(n_neighbors = 3)\n",
    "knn.fit(X_train, y_train)\n",
    "y_pred = knn.predict(X_test)\n",
    "acc_knn = round(knn.score(X_train, y_train) * 100, 2)\n",
    "acc_knn"
   ]
  },
  {
   "cell_type": "markdown",
   "id": "212b437f",
   "metadata": {
    "papermill": {
     "duration": 0.029884,
     "end_time": "2022-12-19T13:15:27.053242",
     "exception": false,
     "start_time": "2022-12-19T13:15:27.023358",
     "status": "completed"
    },
    "tags": []
   },
   "source": [
    "### Naive Bayes"
   ]
  },
  {
   "cell_type": "code",
   "execution_count": 62,
   "id": "b6c5ec64",
   "metadata": {
    "execution": {
     "iopub.execute_input": "2022-12-19T13:15:27.109451Z",
     "iopub.status.busy": "2022-12-19T13:15:27.108325Z",
     "iopub.status.idle": "2022-12-19T13:15:27.123417Z",
     "shell.execute_reply": "2022-12-19T13:15:27.122235Z"
    },
    "papermill": {
     "duration": 0.046884,
     "end_time": "2022-12-19T13:15:27.125889",
     "exception": false,
     "start_time": "2022-12-19T13:15:27.079005",
     "status": "completed"
    },
    "tags": []
   },
   "outputs": [
    {
     "data": {
      "text/plain": [
       "72.84"
      ]
     },
     "execution_count": 62,
     "metadata": {},
     "output_type": "execute_result"
    }
   ],
   "source": [
    "gaussian = GaussianNB()\n",
    "gaussian.fit(X_train, y_train)\n",
    "y_pred = gaussian.predict(X_test)\n",
    "acc_gaussian = round(gaussian.score(X_train, y_train) * 100, 2)\n",
    "acc_gaussian"
   ]
  },
  {
   "cell_type": "markdown",
   "id": "7e1a2cf8",
   "metadata": {
    "papermill": {
     "duration": 0.025105,
     "end_time": "2022-12-19T13:15:27.176511",
     "exception": false,
     "start_time": "2022-12-19T13:15:27.151406",
     "status": "completed"
    },
    "tags": []
   },
   "source": [
    "### Perception"
   ]
  },
  {
   "cell_type": "code",
   "execution_count": 63,
   "id": "dca02f3b",
   "metadata": {
    "execution": {
     "iopub.execute_input": "2022-12-19T13:15:27.229570Z",
     "iopub.status.busy": "2022-12-19T13:15:27.228720Z",
     "iopub.status.idle": "2022-12-19T13:15:27.244423Z",
     "shell.execute_reply": "2022-12-19T13:15:27.243587Z"
    },
    "papermill": {
     "duration": 0.044807,
     "end_time": "2022-12-19T13:15:27.246674",
     "exception": false,
     "start_time": "2022-12-19T13:15:27.201867",
     "status": "completed"
    },
    "tags": []
   },
   "outputs": [
    {
     "data": {
      "text/plain": [
       "78.0"
      ]
     },
     "execution_count": 63,
     "metadata": {},
     "output_type": "execute_result"
    }
   ],
   "source": [
    "perceptron = Perceptron()\n",
    "perceptron.fit(X_train, y_train)\n",
    "y_pred = perceptron.predict(X_test)\n",
    "acc_perceptron = round(perceptron.score(X_train, y_train) * 100, 2)\n",
    "acc_perceptron"
   ]
  },
  {
   "cell_type": "markdown",
   "id": "e178e74f",
   "metadata": {
    "papermill": {
     "duration": 0.025877,
     "end_time": "2022-12-19T13:15:27.298415",
     "exception": false,
     "start_time": "2022-12-19T13:15:27.272538",
     "status": "completed"
    },
    "tags": []
   },
   "source": [
    "### Linear SVC"
   ]
  },
  {
   "cell_type": "code",
   "execution_count": 64,
   "id": "45182023",
   "metadata": {
    "execution": {
     "iopub.execute_input": "2022-12-19T13:15:27.352629Z",
     "iopub.status.busy": "2022-12-19T13:15:27.351951Z",
     "iopub.status.idle": "2022-12-19T13:15:27.422156Z",
     "shell.execute_reply": "2022-12-19T13:15:27.420322Z"
    },
    "papermill": {
     "duration": 0.101246,
     "end_time": "2022-12-19T13:15:27.426130",
     "exception": false,
     "start_time": "2022-12-19T13:15:27.324884",
     "status": "completed"
    },
    "tags": []
   },
   "outputs": [
    {
     "name": "stderr",
     "output_type": "stream",
     "text": [
      "/opt/conda/lib/python3.7/site-packages/sklearn/svm/_base.py:1208: ConvergenceWarning: Liblinear failed to converge, increase the number of iterations.\n",
      "  ConvergenceWarning,\n"
     ]
    },
    {
     "data": {
      "text/plain": [
       "78.56"
      ]
     },
     "execution_count": 64,
     "metadata": {},
     "output_type": "execute_result"
    }
   ],
   "source": [
    "linear_svc = LinearSVC()\n",
    "linear_svc.fit(X_train, y_train)\n",
    "y_pred = linear_svc.predict(X_test)\n",
    "acc_linear_svc = round(linear_svc.score(X_train, y_train) * 100, 2)\n",
    "acc_linear_svc"
   ]
  },
  {
   "cell_type": "markdown",
   "id": "39e8dacd",
   "metadata": {
    "papermill": {
     "duration": 0.025978,
     "end_time": "2022-12-19T13:15:27.479072",
     "exception": false,
     "start_time": "2022-12-19T13:15:27.453094",
     "status": "completed"
    },
    "tags": []
   },
   "source": [
    "### SGD"
   ]
  },
  {
   "cell_type": "code",
   "execution_count": 65,
   "id": "4c3b6812",
   "metadata": {
    "execution": {
     "iopub.execute_input": "2022-12-19T13:15:27.533558Z",
     "iopub.status.busy": "2022-12-19T13:15:27.533135Z",
     "iopub.status.idle": "2022-12-19T13:15:27.549679Z",
     "shell.execute_reply": "2022-12-19T13:15:27.548216Z"
    },
    "papermill": {
     "duration": 0.047356,
     "end_time": "2022-12-19T13:15:27.552675",
     "exception": false,
     "start_time": "2022-12-19T13:15:27.505319",
     "status": "completed"
    },
    "tags": []
   },
   "outputs": [
    {
     "data": {
      "text/plain": [
       "75.08"
      ]
     },
     "execution_count": 65,
     "metadata": {},
     "output_type": "execute_result"
    }
   ],
   "source": [
    "sgd = SGDClassifier()\n",
    "sgd.fit(X_train, y_train)\n",
    "y_pred = sgd.predict(X_test)\n",
    "acc_sgd = round(sgd.score(X_train, y_train) * 100, 2)\n",
    "acc_sgd"
   ]
  },
  {
   "cell_type": "markdown",
   "id": "596237ab",
   "metadata": {
    "papermill": {
     "duration": 0.025804,
     "end_time": "2022-12-19T13:15:27.605726",
     "exception": false,
     "start_time": "2022-12-19T13:15:27.579922",
     "status": "completed"
    },
    "tags": []
   },
   "source": [
    "### Decision Tree"
   ]
  },
  {
   "cell_type": "code",
   "execution_count": 66,
   "id": "8b0bafcf",
   "metadata": {
    "execution": {
     "iopub.execute_input": "2022-12-19T13:15:27.662489Z",
     "iopub.status.busy": "2022-12-19T13:15:27.661715Z",
     "iopub.status.idle": "2022-12-19T13:15:27.677647Z",
     "shell.execute_reply": "2022-12-19T13:15:27.676410Z"
    },
    "papermill": {
     "duration": 0.047704,
     "end_time": "2022-12-19T13:15:27.680133",
     "exception": false,
     "start_time": "2022-12-19T13:15:27.632429",
     "status": "completed"
    },
    "tags": []
   },
   "outputs": [
    {
     "data": {
      "text/plain": [
       "87.21"
      ]
     },
     "execution_count": 66,
     "metadata": {},
     "output_type": "execute_result"
    }
   ],
   "source": [
    "decision_tree = DecisionTreeClassifier()\n",
    "decision_tree.fit(X_train, y_train)\n",
    "y_pred = decision_tree.predict(X_test)\n",
    "acc_decision_tree = round(decision_tree.score(X_train, y_train) * 100, 2)\n",
    "acc_decision_tree"
   ]
  },
  {
   "cell_type": "markdown",
   "id": "616bab0e",
   "metadata": {
    "papermill": {
     "duration": 0.026604,
     "end_time": "2022-12-19T13:15:27.734392",
     "exception": false,
     "start_time": "2022-12-19T13:15:27.707788",
     "status": "completed"
    },
    "tags": []
   },
   "source": [
    "### Random Forest"
   ]
  },
  {
   "cell_type": "code",
   "execution_count": 67,
   "id": "ff6eb91f",
   "metadata": {
    "execution": {
     "iopub.execute_input": "2022-12-19T13:15:27.790010Z",
     "iopub.status.busy": "2022-12-19T13:15:27.788775Z",
     "iopub.status.idle": "2022-12-19T13:15:28.059936Z",
     "shell.execute_reply": "2022-12-19T13:15:28.058718Z"
    },
    "papermill": {
     "duration": 0.301756,
     "end_time": "2022-12-19T13:15:28.062280",
     "exception": false,
     "start_time": "2022-12-19T13:15:27.760524",
     "status": "completed"
    },
    "tags": []
   },
   "outputs": [
    {
     "data": {
      "text/plain": [
       "87.21"
      ]
     },
     "execution_count": 67,
     "metadata": {},
     "output_type": "execute_result"
    }
   ],
   "source": [
    "random_forest = RandomForestClassifier(n_estimators=100)\n",
    "random_forest.fit(X_train, y_train)\n",
    "y_pred = random_forest.predict(X_test)\n",
    "random_forest.score(X_train, y_train)\n",
    "acc_random_forest = round(random_forest.score(X_train, y_train) * 100, 2)\n",
    "acc_random_forest"
   ]
  },
  {
   "cell_type": "markdown",
   "id": "6f765526",
   "metadata": {
    "papermill": {
     "duration": 0.029921,
     "end_time": "2022-12-19T13:15:28.118013",
     "exception": false,
     "start_time": "2022-12-19T13:15:28.088092",
     "status": "completed"
    },
    "tags": []
   },
   "source": [
    "## Model evaluation"
   ]
  },
  {
   "cell_type": "code",
   "execution_count": 68,
   "id": "dd1b5517",
   "metadata": {
    "execution": {
     "iopub.execute_input": "2022-12-19T13:15:28.172787Z",
     "iopub.status.busy": "2022-12-19T13:15:28.171324Z",
     "iopub.status.idle": "2022-12-19T13:15:28.187916Z",
     "shell.execute_reply": "2022-12-19T13:15:28.186551Z"
    },
    "papermill": {
     "duration": 0.046663,
     "end_time": "2022-12-19T13:15:28.190595",
     "exception": false,
     "start_time": "2022-12-19T13:15:28.143932",
     "status": "completed"
    },
    "tags": []
   },
   "outputs": [
    {
     "data": {
      "text/html": [
       "<div>\n",
       "<style scoped>\n",
       "    .dataframe tbody tr th:only-of-type {\n",
       "        vertical-align: middle;\n",
       "    }\n",
       "\n",
       "    .dataframe tbody tr th {\n",
       "        vertical-align: top;\n",
       "    }\n",
       "\n",
       "    .dataframe thead th {\n",
       "        text-align: right;\n",
       "    }\n",
       "</style>\n",
       "<table border=\"1\" class=\"dataframe\">\n",
       "  <thead>\n",
       "    <tr style=\"text-align: right;\">\n",
       "      <th></th>\n",
       "      <th>Model</th>\n",
       "      <th>Score</th>\n",
       "    </tr>\n",
       "  </thead>\n",
       "  <tbody>\n",
       "    <tr>\n",
       "      <th>3</th>\n",
       "      <td>Random Forest</td>\n",
       "      <td>87.21</td>\n",
       "    </tr>\n",
       "    <tr>\n",
       "      <th>8</th>\n",
       "      <td>Decision Tree</td>\n",
       "      <td>87.21</td>\n",
       "    </tr>\n",
       "    <tr>\n",
       "      <th>1</th>\n",
       "      <td>KNN</td>\n",
       "      <td>84.40</td>\n",
       "    </tr>\n",
       "    <tr>\n",
       "      <th>2</th>\n",
       "      <td>Logistic Regression</td>\n",
       "      <td>79.01</td>\n",
       "    </tr>\n",
       "    <tr>\n",
       "      <th>7</th>\n",
       "      <td>Linear SVC</td>\n",
       "      <td>78.56</td>\n",
       "    </tr>\n",
       "    <tr>\n",
       "      <th>0</th>\n",
       "      <td>Support Vector Machines</td>\n",
       "      <td>78.34</td>\n",
       "    </tr>\n",
       "    <tr>\n",
       "      <th>5</th>\n",
       "      <td>Perceptron</td>\n",
       "      <td>78.00</td>\n",
       "    </tr>\n",
       "    <tr>\n",
       "      <th>6</th>\n",
       "      <td>Stochastic Gradient Decent</td>\n",
       "      <td>75.08</td>\n",
       "    </tr>\n",
       "    <tr>\n",
       "      <th>4</th>\n",
       "      <td>Naive Bayes</td>\n",
       "      <td>72.84</td>\n",
       "    </tr>\n",
       "  </tbody>\n",
       "</table>\n",
       "</div>"
      ],
      "text/plain": [
       "                        Model  Score\n",
       "3               Random Forest  87.21\n",
       "8               Decision Tree  87.21\n",
       "1                         KNN  84.40\n",
       "2         Logistic Regression  79.01\n",
       "7                  Linear SVC  78.56\n",
       "0     Support Vector Machines  78.34\n",
       "5                  Perceptron  78.00\n",
       "6  Stochastic Gradient Decent  75.08\n",
       "4                 Naive Bayes  72.84"
      ]
     },
     "execution_count": 68,
     "metadata": {},
     "output_type": "execute_result"
    }
   ],
   "source": [
    "models = pd.DataFrame({\n",
    "    'Model': ['Support Vector Machines', 'KNN', 'Logistic Regression', \n",
    "              'Random Forest', 'Naive Bayes', 'Perceptron', \n",
    "              'Stochastic Gradient Decent', 'Linear SVC', \n",
    "              'Decision Tree'],\n",
    "    'Score': [acc_svc, acc_knn, acc_log, \n",
    "              acc_random_forest, acc_gaussian, acc_perceptron, \n",
    "              acc_sgd, acc_linear_svc, acc_decision_tree]})\n",
    "models.sort_values(by='Score', ascending=False)"
   ]
  },
  {
   "cell_type": "markdown",
   "id": "d9123105",
   "metadata": {
    "papermill": {
     "duration": 0.028219,
     "end_time": "2022-12-19T13:15:28.245382",
     "exception": false,
     "start_time": "2022-12-19T13:15:28.217163",
     "status": "completed"
    },
    "tags": []
   },
   "source": [
    "# Submission"
   ]
  },
  {
   "cell_type": "code",
   "execution_count": 69,
   "id": "012c18b3",
   "metadata": {
    "execution": {
     "iopub.execute_input": "2022-12-19T13:15:28.300540Z",
     "iopub.status.busy": "2022-12-19T13:15:28.300098Z",
     "iopub.status.idle": "2022-12-19T13:15:28.307069Z",
     "shell.execute_reply": "2022-12-19T13:15:28.305550Z"
    },
    "papermill": {
     "duration": 0.037721,
     "end_time": "2022-12-19T13:15:28.309389",
     "exception": false,
     "start_time": "2022-12-19T13:15:28.271668",
     "status": "completed"
    },
    "tags": []
   },
   "outputs": [],
   "source": [
    "submission = pd.DataFrame({\"PassengerId\": test_ids.values,\"Survived\": y_pred})"
   ]
  },
  {
   "cell_type": "code",
   "execution_count": 70,
   "id": "6be9bc74",
   "metadata": {
    "execution": {
     "iopub.execute_input": "2022-12-19T13:15:28.364570Z",
     "iopub.status.busy": "2022-12-19T13:15:28.363774Z",
     "iopub.status.idle": "2022-12-19T13:15:28.373408Z",
     "shell.execute_reply": "2022-12-19T13:15:28.372188Z"
    },
    "papermill": {
     "duration": 0.040831,
     "end_time": "2022-12-19T13:15:28.376477",
     "exception": false,
     "start_time": "2022-12-19T13:15:28.335646",
     "status": "completed"
    },
    "tags": []
   },
   "outputs": [],
   "source": [
    "submission.to_csv('final_submission.csv', index = False)"
   ]
  }
 ],
 "metadata": {
  "kernelspec": {
   "display_name": "Python 3",
   "language": "python",
   "name": "python3"
  },
  "language_info": {
   "codemirror_mode": {
    "name": "ipython",
    "version": 3
   },
   "file_extension": ".py",
   "mimetype": "text/x-python",
   "name": "python",
   "nbconvert_exporter": "python",
   "pygments_lexer": "ipython3",
   "version": "3.7.12"
  },
  "papermill": {
   "default_parameters": {},
   "duration": 22.855961,
   "end_time": "2022-12-19T13:15:29.327301",
   "environment_variables": {},
   "exception": null,
   "input_path": "__notebook__.ipynb",
   "output_path": "__notebook__.ipynb",
   "parameters": {},
   "start_time": "2022-12-19T13:15:06.471340",
   "version": "2.3.4"
  }
 },
 "nbformat": 4,
 "nbformat_minor": 5
}
